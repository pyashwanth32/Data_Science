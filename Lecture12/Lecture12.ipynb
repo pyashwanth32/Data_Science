{
 "cells": [
  {
   "cell_type": "code",
   "execution_count": 159,
   "id": "bc4abb55-c738-4ca6-bfbc-cad6e8060c4e",
   "metadata": {},
   "outputs": [],
   "source": [
    "import pandas as pd\n",
    "import numpy as np\n",
    "import matplotlib.pyplot as plt\n",
    "\n",
    "from sklearn.model_selection import train_test_split\n",
    "from sklearn.decomposition import PCA\n",
    "from sklearn.svm import SVC\n",
    "from sklearn.neighbors import KNeighborsClassifier\n",
    "from sklearn.preprocessing import StandardScaler\n",
    "from sklearn.preprocessing import MinMaxScaler\n",
    "from sklearn.ensemble import RandomForestClassifier\n",
    "\n",
    "import sklearn\n",
    "import sklearn.datasets\n",
    "import sklearn.linear_model\n",
    "import sklearn.model_selection"
   ]
  },
  {
   "cell_type": "code",
   "execution_count": null,
   "id": "2df3d5d7-f305-4d56-af07-7d1b9d7fc09d",
   "metadata": {},
   "outputs": [],
   "source": [
    "#name clash because some names are already present in libraries.\n",
    "#s"
   ]
  },
  {
   "cell_type": "code",
   "execution_count": 3,
   "id": "b7696317-f5af-47ca-8907-5f46e1c3ff2e",
   "metadata": {},
   "outputs": [],
   "source": [
    "df = pd.read_csv(\"export_temp.csv\")"
   ]
  },
  {
   "cell_type": "code",
   "execution_count": 24,
   "id": "26e5c3e8-f124-43e1-830e-cbc810442266",
   "metadata": {},
   "outputs": [],
   "source": [
    "df2 = pd.read_csv(\"export_humidity.csv\")"
   ]
  },
  {
   "cell_type": "code",
   "execution_count": 25,
   "id": "39bdcf41-128f-44f9-9da3-c9c4739bbe69",
   "metadata": {},
   "outputs": [
    {
     "data": {
      "text/html": [
       "<div>\n",
       "<style scoped>\n",
       "    .dataframe tbody tr th:only-of-type {\n",
       "        vertical-align: middle;\n",
       "    }\n",
       "\n",
       "    .dataframe tbody tr th {\n",
       "        vertical-align: top;\n",
       "    }\n",
       "\n",
       "    .dataframe thead th {\n",
       "        text-align: right;\n",
       "    }\n",
       "</style>\n",
       "<table border=\"1\" class=\"dataframe\">\n",
       "  <thead>\n",
       "    <tr style=\"text-align: right;\">\n",
       "      <th></th>\n",
       "      <th>name</th>\n",
       "      <th>time</th>\n",
       "      <th>value</th>\n",
       "    </tr>\n",
       "  </thead>\n",
       "  <tbody>\n",
       "    <tr>\n",
       "      <th>0</th>\n",
       "      <td>humid</td>\n",
       "      <td>1704794517937319608</td>\n",
       "      <td>47.5</td>\n",
       "    </tr>\n",
       "    <tr>\n",
       "      <th>1</th>\n",
       "      <td>humid</td>\n",
       "      <td>1704794578153277938</td>\n",
       "      <td>47.5</td>\n",
       "    </tr>\n",
       "    <tr>\n",
       "      <th>2</th>\n",
       "      <td>humid</td>\n",
       "      <td>1704794638307925536</td>\n",
       "      <td>47.7</td>\n",
       "    </tr>\n",
       "    <tr>\n",
       "      <th>3</th>\n",
       "      <td>humid</td>\n",
       "      <td>1704794698833957628</td>\n",
       "      <td>47.7</td>\n",
       "    </tr>\n",
       "    <tr>\n",
       "      <th>4</th>\n",
       "      <td>humid</td>\n",
       "      <td>1704794758859593254</td>\n",
       "      <td>47.8</td>\n",
       "    </tr>\n",
       "    <tr>\n",
       "      <th>...</th>\n",
       "      <td>...</td>\n",
       "      <td>...</td>\n",
       "      <td>...</td>\n",
       "    </tr>\n",
       "    <tr>\n",
       "      <th>3110</th>\n",
       "      <td>humid</td>\n",
       "      <td>1705144778944252428</td>\n",
       "      <td>49.9</td>\n",
       "    </tr>\n",
       "    <tr>\n",
       "      <th>3111</th>\n",
       "      <td>humid</td>\n",
       "      <td>1705144839026505799</td>\n",
       "      <td>49.9</td>\n",
       "    </tr>\n",
       "    <tr>\n",
       "      <th>3112</th>\n",
       "      <td>humid</td>\n",
       "      <td>1705144899276896036</td>\n",
       "      <td>49.8</td>\n",
       "    </tr>\n",
       "    <tr>\n",
       "      <th>3113</th>\n",
       "      <td>humid</td>\n",
       "      <td>1705144959803881298</td>\n",
       "      <td>49.9</td>\n",
       "    </tr>\n",
       "    <tr>\n",
       "      <th>3114</th>\n",
       "      <td>humid</td>\n",
       "      <td>1705145020028689761</td>\n",
       "      <td>49.8</td>\n",
       "    </tr>\n",
       "  </tbody>\n",
       "</table>\n",
       "<p>3115 rows × 3 columns</p>\n",
       "</div>"
      ],
      "text/plain": [
       "       name                 time  value\n",
       "0     humid  1704794517937319608   47.5\n",
       "1     humid  1704794578153277938   47.5\n",
       "2     humid  1704794638307925536   47.7\n",
       "3     humid  1704794698833957628   47.7\n",
       "4     humid  1704794758859593254   47.8\n",
       "...     ...                  ...    ...\n",
       "3110  humid  1705144778944252428   49.9\n",
       "3111  humid  1705144839026505799   49.9\n",
       "3112  humid  1705144899276896036   49.8\n",
       "3113  humid  1705144959803881298   49.9\n",
       "3114  humid  1705145020028689761   49.8\n",
       "\n",
       "[3115 rows x 3 columns]"
      ]
     },
     "execution_count": 25,
     "metadata": {},
     "output_type": "execute_result"
    }
   ],
   "source": [
    "df2"
   ]
  },
  {
   "cell_type": "code",
   "execution_count": 4,
   "id": "2a4ae31d-3498-4474-ad0d-07297240d13e",
   "metadata": {},
   "outputs": [
    {
     "data": {
      "text/html": [
       "<div>\n",
       "<style scoped>\n",
       "    .dataframe tbody tr th:only-of-type {\n",
       "        vertical-align: middle;\n",
       "    }\n",
       "\n",
       "    .dataframe tbody tr th {\n",
       "        vertical-align: top;\n",
       "    }\n",
       "\n",
       "    .dataframe thead th {\n",
       "        text-align: right;\n",
       "    }\n",
       "</style>\n",
       "<table border=\"1\" class=\"dataframe\">\n",
       "  <thead>\n",
       "    <tr style=\"text-align: right;\">\n",
       "      <th></th>\n",
       "      <th>name</th>\n",
       "      <th>time</th>\n",
       "      <th>value</th>\n",
       "    </tr>\n",
       "  </thead>\n",
       "  <tbody>\n",
       "    <tr>\n",
       "      <th>0</th>\n",
       "      <td>temp</td>\n",
       "      <td>1704794517924041597</td>\n",
       "      <td>20.8</td>\n",
       "    </tr>\n",
       "    <tr>\n",
       "      <th>1</th>\n",
       "      <td>temp</td>\n",
       "      <td>1704794578142216471</td>\n",
       "      <td>20.8</td>\n",
       "    </tr>\n",
       "    <tr>\n",
       "      <th>2</th>\n",
       "      <td>temp</td>\n",
       "      <td>1704794638296149439</td>\n",
       "      <td>20.8</td>\n",
       "    </tr>\n",
       "    <tr>\n",
       "      <th>3</th>\n",
       "      <td>temp</td>\n",
       "      <td>1704794698815274975</td>\n",
       "      <td>20.8</td>\n",
       "    </tr>\n",
       "    <tr>\n",
       "      <th>4</th>\n",
       "      <td>temp</td>\n",
       "      <td>1704794758850190313</td>\n",
       "      <td>20.8</td>\n",
       "    </tr>\n",
       "    <tr>\n",
       "      <th>...</th>\n",
       "      <td>...</td>\n",
       "      <td>...</td>\n",
       "      <td>...</td>\n",
       "    </tr>\n",
       "    <tr>\n",
       "      <th>2959</th>\n",
       "      <td>temp</td>\n",
       "      <td>1705144778941468598</td>\n",
       "      <td>17.3</td>\n",
       "    </tr>\n",
       "    <tr>\n",
       "      <th>2960</th>\n",
       "      <td>temp</td>\n",
       "      <td>1705144839024060351</td>\n",
       "      <td>17.3</td>\n",
       "    </tr>\n",
       "    <tr>\n",
       "      <th>2961</th>\n",
       "      <td>temp</td>\n",
       "      <td>1705144899274170955</td>\n",
       "      <td>17.3</td>\n",
       "    </tr>\n",
       "    <tr>\n",
       "      <th>2962</th>\n",
       "      <td>temp</td>\n",
       "      <td>1705144959799099048</td>\n",
       "      <td>17.3</td>\n",
       "    </tr>\n",
       "    <tr>\n",
       "      <th>2963</th>\n",
       "      <td>temp</td>\n",
       "      <td>1705145020025977388</td>\n",
       "      <td>17.2</td>\n",
       "    </tr>\n",
       "  </tbody>\n",
       "</table>\n",
       "<p>2964 rows × 3 columns</p>\n",
       "</div>"
      ],
      "text/plain": [
       "      name                 time  value\n",
       "0     temp  1704794517924041597   20.8\n",
       "1     temp  1704794578142216471   20.8\n",
       "2     temp  1704794638296149439   20.8\n",
       "3     temp  1704794698815274975   20.8\n",
       "4     temp  1704794758850190313   20.8\n",
       "...    ...                  ...    ...\n",
       "2959  temp  1705144778941468598   17.3\n",
       "2960  temp  1705144839024060351   17.3\n",
       "2961  temp  1705144899274170955   17.3\n",
       "2962  temp  1705144959799099048   17.3\n",
       "2963  temp  1705145020025977388   17.2\n",
       "\n",
       "[2964 rows x 3 columns]"
      ]
     },
     "execution_count": 4,
     "metadata": {},
     "output_type": "execute_result"
    }
   ],
   "source": [
    "df"
   ]
  },
  {
   "cell_type": "code",
   "execution_count": 5,
   "id": "7af8f0ba-8a63-4517-9299-cf539b0dac60",
   "metadata": {},
   "outputs": [
    {
     "data": {
      "text/plain": [
       "(2964, 3)"
      ]
     },
     "execution_count": 5,
     "metadata": {},
     "output_type": "execute_result"
    }
   ],
   "source": [
    "df.shape"
   ]
  },
  {
   "cell_type": "code",
   "execution_count": 27,
   "id": "b13f01dc-afa2-4252-8841-58b2be0d0b37",
   "metadata": {},
   "outputs": [],
   "source": [
    "data = df.drop(\"name\", axis=1)\n",
    "data2 = df2.drop(\"name\", axis=1)"
   ]
  },
  {
   "cell_type": "code",
   "execution_count": 8,
   "id": "24311e14-dbe0-4bd5-b3ed-038e215d835b",
   "metadata": {},
   "outputs": [
    {
     "data": {
      "text/html": [
       "<div>\n",
       "<style scoped>\n",
       "    .dataframe tbody tr th:only-of-type {\n",
       "        vertical-align: middle;\n",
       "    }\n",
       "\n",
       "    .dataframe tbody tr th {\n",
       "        vertical-align: top;\n",
       "    }\n",
       "\n",
       "    .dataframe thead th {\n",
       "        text-align: right;\n",
       "    }\n",
       "</style>\n",
       "<table border=\"1\" class=\"dataframe\">\n",
       "  <thead>\n",
       "    <tr style=\"text-align: right;\">\n",
       "      <th></th>\n",
       "      <th>time</th>\n",
       "      <th>value</th>\n",
       "    </tr>\n",
       "  </thead>\n",
       "  <tbody>\n",
       "    <tr>\n",
       "      <th>0</th>\n",
       "      <td>1704794517924041597</td>\n",
       "      <td>20.8</td>\n",
       "    </tr>\n",
       "    <tr>\n",
       "      <th>1</th>\n",
       "      <td>1704794578142216471</td>\n",
       "      <td>20.8</td>\n",
       "    </tr>\n",
       "    <tr>\n",
       "      <th>2</th>\n",
       "      <td>1704794638296149439</td>\n",
       "      <td>20.8</td>\n",
       "    </tr>\n",
       "    <tr>\n",
       "      <th>3</th>\n",
       "      <td>1704794698815274975</td>\n",
       "      <td>20.8</td>\n",
       "    </tr>\n",
       "    <tr>\n",
       "      <th>4</th>\n",
       "      <td>1704794758850190313</td>\n",
       "      <td>20.8</td>\n",
       "    </tr>\n",
       "    <tr>\n",
       "      <th>...</th>\n",
       "      <td>...</td>\n",
       "      <td>...</td>\n",
       "    </tr>\n",
       "    <tr>\n",
       "      <th>2959</th>\n",
       "      <td>1705144778941468598</td>\n",
       "      <td>17.3</td>\n",
       "    </tr>\n",
       "    <tr>\n",
       "      <th>2960</th>\n",
       "      <td>1705144839024060351</td>\n",
       "      <td>17.3</td>\n",
       "    </tr>\n",
       "    <tr>\n",
       "      <th>2961</th>\n",
       "      <td>1705144899274170955</td>\n",
       "      <td>17.3</td>\n",
       "    </tr>\n",
       "    <tr>\n",
       "      <th>2962</th>\n",
       "      <td>1705144959799099048</td>\n",
       "      <td>17.3</td>\n",
       "    </tr>\n",
       "    <tr>\n",
       "      <th>2963</th>\n",
       "      <td>1705145020025977388</td>\n",
       "      <td>17.2</td>\n",
       "    </tr>\n",
       "  </tbody>\n",
       "</table>\n",
       "<p>2964 rows × 2 columns</p>\n",
       "</div>"
      ],
      "text/plain": [
       "                     time  value\n",
       "0     1704794517924041597   20.8\n",
       "1     1704794578142216471   20.8\n",
       "2     1704794638296149439   20.8\n",
       "3     1704794698815274975   20.8\n",
       "4     1704794758850190313   20.8\n",
       "...                   ...    ...\n",
       "2959  1705144778941468598   17.3\n",
       "2960  1705144839024060351   17.3\n",
       "2961  1705144899274170955   17.3\n",
       "2962  1705144959799099048   17.3\n",
       "2963  1705145020025977388   17.2\n",
       "\n",
       "[2964 rows x 2 columns]"
      ]
     },
     "execution_count": 8,
     "metadata": {},
     "output_type": "execute_result"
    }
   ],
   "source": [
    "data"
   ]
  },
  {
   "cell_type": "code",
   "execution_count": 9,
   "id": "7dc7faf8-ca17-42f8-9d81-f12c7e7fa9d3",
   "metadata": {},
   "outputs": [
    {
     "data": {
      "text/plain": [
       "(2964, 2)"
      ]
     },
     "execution_count": 9,
     "metadata": {},
     "output_type": "execute_result"
    }
   ],
   "source": [
    "data.shape"
   ]
  },
  {
   "cell_type": "code",
   "execution_count": 10,
   "id": "9509a0f3-bcd5-4edc-b202-a26ec9bb2251",
   "metadata": {},
   "outputs": [],
   "source": [
    "timedata = data.to_numpy()"
   ]
  },
  {
   "cell_type": "code",
   "execution_count": 28,
   "id": "921a034d-3cf2-4ed9-8ac8-e29c276d8511",
   "metadata": {},
   "outputs": [],
   "source": [
    "humidata = data2.to_numpy()"
   ]
  },
  {
   "cell_type": "code",
   "execution_count": 29,
   "id": "4ee3edfa-6db5-44f6-b5c9-2ae004e57a3b",
   "metadata": {},
   "outputs": [
    {
     "data": {
      "text/plain": [
       "(3115, 2)"
      ]
     },
     "execution_count": 29,
     "metadata": {},
     "output_type": "execute_result"
    }
   ],
   "source": [
    "humidata.shape"
   ]
  },
  {
   "cell_type": "code",
   "execution_count": 11,
   "id": "14ab45be-1ad6-4a2c-bc40-6176b6e4188e",
   "metadata": {},
   "outputs": [
    {
     "data": {
      "text/plain": [
       "(2964, 2)"
      ]
     },
     "execution_count": 11,
     "metadata": {},
     "output_type": "execute_result"
    }
   ],
   "source": [
    "timedata.shape"
   ]
  },
  {
   "cell_type": "code",
   "execution_count": 19,
   "id": "b3b7c3b8-8810-47d9-8aac-524bb67bf3d0",
   "metadata": {},
   "outputs": [
    {
     "data": {
      "text/plain": [
       "array([[1.70479452e+18, 2.08000000e+01],\n",
       "       [1.70479458e+18, 2.08000000e+01],\n",
       "       [1.70479464e+18, 2.08000000e+01],\n",
       "       [1.70479470e+18, 2.08000000e+01],\n",
       "       [1.70479476e+18, 2.08000000e+01]])"
      ]
     },
     "execution_count": 19,
     "metadata": {},
     "output_type": "execute_result"
    }
   ],
   "source": [
    "timedata[:5,:]"
   ]
  },
  {
   "cell_type": "code",
   "execution_count": 22,
   "id": "8246c157-40f6-4a33-b677-e56531391560",
   "metadata": {},
   "outputs": [
    {
     "data": {
      "text/plain": [
       "[<matplotlib.lines.Line2D at 0x157fe9561b0>,\n",
       " <matplotlib.lines.Line2D at 0x15780138e90>]"
      ]
     },
     "execution_count": 22,
     "metadata": {},
     "output_type": "execute_result"
    },
    {
     "data": {
      "image/png": "[encoded data removed]",
      "text/plain": [
       "<Figure size 640x480 with 1 Axes>"
      ]
     },
     "metadata": {},
     "output_type": "display_data"
    }
   ],
   "source": [
    "plt.plot(timedata)"
   ]
  },
  {
   "cell_type": "code",
   "execution_count": 26,
   "id": "e2d325a7-3cfd-46fa-92be-b3c439ac8cf9",
   "metadata": {},
   "outputs": [
    {
     "data": {
      "text/plain": [
       "[<matplotlib.lines.Line2D at 0x157802729c0>]"
      ]
     },
     "execution_count": 26,
     "metadata": {},
     "output_type": "execute_result"
    },
    {
     "data": {
      "image/png": "[encoded data removed]",
      "text/plain": [
       "<Figure size 640x480 with 1 Axes>"
      ]
     },
     "metadata": {},
     "output_type": "display_data"
    }
   ],
   "source": [
    "plt.plot(timedata[:,0], timedata[:,1],\".\")"
   ]
  },
  {
   "cell_type": "code",
   "execution_count": 30,
   "id": "193cc92a-c90b-45ff-897a-8a9ff3ba6628",
   "metadata": {},
   "outputs": [
    {
     "data": {
      "text/plain": [
       "[<matplotlib.lines.Line2D at 0x157802eb800>]"
      ]
     },
     "execution_count": 30,
     "metadata": {},
     "output_type": "execute_result"
    },
    {
     "data": {
      "image/png": "[encoded data removed]",
      "text/plain": [
       "<Figure size 640x480 with 1 Axes>"
      ]
     },
     "metadata": {},
     "output_type": "display_data"
    }
   ],
   "source": [
    "plt.plot(humidata[:,0], humidata[:,1],\".\")"
   ]
  },
  {
   "cell_type": "code",
   "execution_count": 31,
   "id": "743c8bc8-ad86-4fcc-86e3-7660859dd7fc",
   "metadata": {},
   "outputs": [],
   "source": [
    "#unix time stamps from January 1st 1970"
   ]
  },
  {
   "cell_type": "code",
   "execution_count": 33,
   "id": "10c5951d-4e6c-41cf-b2fe-2eb02bda2125",
   "metadata": {},
   "outputs": [
    {
     "data": {
      "text/plain": [
       "array([[1.70479452e+18, 2.08000000e+01],\n",
       "       [1.70479458e+18, 2.08000000e+01],\n",
       "       [1.70479464e+18, 2.08000000e+01],\n",
       "       [1.70479470e+18, 2.08000000e+01],\n",
       "       [1.70479476e+18, 2.08000000e+01]])"
      ]
     },
     "execution_count": 33,
     "metadata": {},
     "output_type": "execute_result"
    }
   ],
   "source": [
    "timedata[:5,:]"
   ]
  },
  {
   "cell_type": "code",
   "execution_count": 36,
   "id": "025f4f65-05b9-4aa4-a5a2-47cd67022b63",
   "metadata": {},
   "outputs": [
    {
     "data": {
      "text/plain": [
       "0.0"
      ]
     },
     "execution_count": 36,
     "metadata": {},
     "output_type": "execute_result"
    }
   ],
   "source": [
    "#timedata[x][0] - timedata[0][0] for x in "
   ]
  },
  {
   "cell_type": "code",
   "execution_count": 38,
   "id": "dd22e2e3-65e3-4b1d-a521-d1cf2e35920b",
   "metadata": {},
   "outputs": [
    {
     "data": {
      "text/plain": [
       "1.7047945179240415e+18"
      ]
     },
     "execution_count": 38,
     "metadata": {},
     "output_type": "execute_result"
    }
   ],
   "source": [
    "timedata[0,0]"
   ]
  },
  {
   "cell_type": "code",
   "execution_count": 39,
   "id": "5c662b67-f7e4-462e-afc3-079877b57ac0",
   "metadata": {},
   "outputs": [
    {
     "data": {
      "text/plain": [
       "1.7047945179240415e+18"
      ]
     },
     "execution_count": 39,
     "metadata": {},
     "output_type": "execute_result"
    }
   ],
   "source": [
    "timedata[0][0]"
   ]
  },
  {
   "cell_type": "code",
   "execution_count": 40,
   "id": "f4c56a96-5092-4dc0-861d-fc63a5b32873",
   "metadata": {},
   "outputs": [
    {
     "data": {
      "text/plain": [
       "array([0.00000000e+00, 6.02181750e+01, 1.20372108e+02, ...,\n",
       "       3.50381350e+05, 3.50441875e+05, 3.50502102e+05])"
      ]
     },
     "execution_count": 40,
     "metadata": {},
     "output_type": "execute_result"
    }
   ],
   "source": [
    "(timedata[:,0] - timedata[0,0]) * 1e-9"
   ]
  },
  {
   "cell_type": "code",
   "execution_count": 41,
   "id": "af4b7c91-5aeb-4108-ab64-0e290258c626",
   "metadata": {},
   "outputs": [],
   "source": [
    "#we didn't need a list interpolation or loop here because\n",
    "#we are in numpy and it does all vectorially\n",
    "#if dimensions don't match then it will match the dimensions\n",
    "#and then do it"
   ]
  },
  {
   "cell_type": "code",
   "execution_count": 42,
   "id": "1fd07c23-88ca-487a-b66b-7bcccf05651a",
   "metadata": {},
   "outputs": [],
   "source": [
    "timedata[:,0] = (timedata[:,0] - timedata[0,0]) * 1e-9"
   ]
  },
  {
   "cell_type": "code",
   "execution_count": 44,
   "id": "fee780ba-6d6e-453f-8847-37f3b1047d0c",
   "metadata": {},
   "outputs": [
    {
     "data": {
      "image/png": "[encoded data removed]",
      "text/plain": [
       "<Figure size 640x480 with 1 Axes>"
      ]
     },
     "metadata": {},
     "output_type": "display_data"
    }
   ],
   "source": [
    "plt.plot(timedata[:,0], timedata[:,1],\".\")\n",
    "plt.grid()"
   ]
  },
  {
   "cell_type": "code",
   "execution_count": 45,
   "id": "fde7a34a-deef-4264-90d9-597205d960d8",
   "metadata": {},
   "outputs": [],
   "source": [
    "tdata = timedata[:95000,:]"
   ]
  },
  {
   "cell_type": "code",
   "execution_count": 46,
   "id": "181d5732-8a18-4cc5-8f10-10318b2e8a9c",
   "metadata": {},
   "outputs": [
    {
     "data": {
      "text/plain": [
       "array([[0.00000000e+00, 2.08000000e+01],\n",
       "       [6.02181750e+01, 2.08000000e+01],\n",
       "       [1.20372108e+02, 2.08000000e+01],\n",
       "       ...,\n",
       "       [3.50381350e+05, 1.73000000e+01],\n",
       "       [3.50441875e+05, 1.73000000e+01],\n",
       "       [3.50502102e+05, 1.72000000e+01]])"
      ]
     },
     "execution_count": 46,
     "metadata": {},
     "output_type": "execute_result"
    }
   ],
   "source": [
    "tdata"
   ]
  },
  {
   "cell_type": "code",
   "execution_count": 47,
   "id": "3e812d04-3413-41a6-8de0-a3f2a0450795",
   "metadata": {},
   "outputs": [
    {
     "data": {
      "text/plain": [
       "[<matplotlib.lines.Line2D at 0x1578260e4b0>]"
      ]
     },
     "execution_count": 47,
     "metadata": {},
     "output_type": "execute_result"
    },
    {
     "data": {
      "image/png": "[encoded data removed]",
      "text/plain": [
       "<Figure size 640x480 with 1 Axes>"
      ]
     },
     "metadata": {},
     "output_type": "display_data"
    }
   ],
   "source": [
    "plt.plot(tdata[:,0], tdata[:,1],\".\")"
   ]
  },
  {
   "cell_type": "code",
   "execution_count": 48,
   "id": "1e853e48-2701-4643-9580-d381453dc738",
   "metadata": {},
   "outputs": [],
   "source": [
    "#looks the same coz there are 2900 samples and not 95000"
   ]
  },
  {
   "cell_type": "code",
   "execution_count": 51,
   "id": "ee39fa55-509a-4160-bd3a-6ccd47808dc7",
   "metadata": {},
   "outputs": [],
   "source": [
    "tdata = timedata [timedata[:,0]<99000,:]"
   ]
  },
  {
   "cell_type": "code",
   "execution_count": 52,
   "id": "a0325477-00fb-45f2-8899-067949a32750",
   "metadata": {},
   "outputs": [
    {
     "data": {
      "text/plain": [
       "[<matplotlib.lines.Line2D at 0x157826e1100>]"
      ]
     },
     "execution_count": 52,
     "metadata": {},
     "output_type": "execute_result"
    },
    {
     "data": {
      "image/png": "[encoded data removed]",
      "text/plain": [
       "<Figure size 640x480 with 1 Axes>"
      ]
     },
     "metadata": {},
     "output_type": "display_data"
    }
   ],
   "source": [
    "plt.plot(tdata[:,0], tdata[:,1],\".\")"
   ]
  },
  {
   "cell_type": "code",
   "execution_count": 56,
   "id": "9da97e4e-ba31-40a9-b43f-a144b1b6244a",
   "metadata": {},
   "outputs": [],
   "source": [
    "#predict the temp is advance\n",
    "#regression because we want decimals\n",
    "#we do supervised learning \n",
    "#we need labels"
   ]
  },
  {
   "cell_type": "code",
   "execution_count": 57,
   "id": "0a2c8ce2-1d74-4071-bdec-c615da1376b6",
   "metadata": {},
   "outputs": [],
   "source": [
    "#input is time\n",
    "#output is temperature"
   ]
  },
  {
   "cell_type": "code",
   "execution_count": 103,
   "id": "29dc2c9a-2190-414a-bd01-14df19db5f88",
   "metadata": {},
   "outputs": [
    {
     "ename": "InvalidParameterError",
     "evalue": "The 'stratify' parameter of train_test_split must be an array-like or None. Got False instead.",
     "output_type": "error",
     "traceback": [
      "\u001b[1;31m---------------------------------------------------------------------------\u001b[0m",
      "\u001b[1;31mInvalidParameterError\u001b[0m                     Traceback (most recent call last)",
      "Cell \u001b[1;32mIn[103], line 1\u001b[0m\n\u001b[1;32m----> 1\u001b[0m xtrain, xtest, ytrain, ytest \u001b[38;5;241m=\u001b[39m \u001b[43mtrain_test_split\u001b[49m\u001b[43m(\u001b[49m\u001b[43mtdata\u001b[49m\u001b[43m[\u001b[49m\u001b[43m:\u001b[49m\u001b[43m,\u001b[49m\u001b[38;5;241;43m0\u001b[39;49m\u001b[43m]\u001b[49m\u001b[43m,\u001b[49m\u001b[43m \u001b[49m\u001b[43mtdata\u001b[49m\u001b[43m[\u001b[49m\u001b[43m:\u001b[49m\u001b[43m,\u001b[49m\u001b[38;5;241;43m1\u001b[39;49m\u001b[43m]\u001b[49m\u001b[43m,\u001b[49m\u001b[43m \u001b[49m\u001b[43mtest_size\u001b[49m\u001b[38;5;241;43m=\u001b[39;49m\u001b[38;5;241;43m0.3\u001b[39;49m\u001b[43m,\u001b[49m\u001b[43m \u001b[49m\u001b[43mstratify\u001b[49m\u001b[43m \u001b[49m\u001b[38;5;241;43m=\u001b[39;49m\u001b[43m \u001b[49m\u001b[38;5;28;43;01mFalse\u001b[39;49;00m\u001b[43m)\u001b[49m\n",
      "File \u001b[1;32m~\\AppData\\Local\\Programs\\Python\\Python312\\Lib\\site-packages\\sklearn\\utils\\_param_validation.py:204\u001b[0m, in \u001b[0;36mvalidate_params.<locals>.decorator.<locals>.wrapper\u001b[1;34m(*args, **kwargs)\u001b[0m\n\u001b[0;32m    201\u001b[0m to_ignore \u001b[38;5;241m+\u001b[39m\u001b[38;5;241m=\u001b[39m [\u001b[38;5;124m\"\u001b[39m\u001b[38;5;124mself\u001b[39m\u001b[38;5;124m\"\u001b[39m, \u001b[38;5;124m\"\u001b[39m\u001b[38;5;124mcls\u001b[39m\u001b[38;5;124m\"\u001b[39m]\n\u001b[0;32m    202\u001b[0m params \u001b[38;5;241m=\u001b[39m {k: v \u001b[38;5;28;01mfor\u001b[39;00m k, v \u001b[38;5;129;01min\u001b[39;00m params\u001b[38;5;241m.\u001b[39marguments\u001b[38;5;241m.\u001b[39mitems() \u001b[38;5;28;01mif\u001b[39;00m k \u001b[38;5;129;01mnot\u001b[39;00m \u001b[38;5;129;01min\u001b[39;00m to_ignore}\n\u001b[1;32m--> 204\u001b[0m \u001b[43mvalidate_parameter_constraints\u001b[49m\u001b[43m(\u001b[49m\n\u001b[0;32m    205\u001b[0m \u001b[43m    \u001b[49m\u001b[43mparameter_constraints\u001b[49m\u001b[43m,\u001b[49m\u001b[43m \u001b[49m\u001b[43mparams\u001b[49m\u001b[43m,\u001b[49m\u001b[43m \u001b[49m\u001b[43mcaller_name\u001b[49m\u001b[38;5;241;43m=\u001b[39;49m\u001b[43mfunc\u001b[49m\u001b[38;5;241;43m.\u001b[39;49m\u001b[38;5;18;43m__qualname__\u001b[39;49m\n\u001b[0;32m    206\u001b[0m \u001b[43m\u001b[49m\u001b[43m)\u001b[49m\n\u001b[0;32m    208\u001b[0m \u001b[38;5;28;01mtry\u001b[39;00m:\n\u001b[0;32m    209\u001b[0m     \u001b[38;5;28;01mwith\u001b[39;00m config_context(\n\u001b[0;32m    210\u001b[0m         skip_parameter_validation\u001b[38;5;241m=\u001b[39m(\n\u001b[0;32m    211\u001b[0m             prefer_skip_nested_validation \u001b[38;5;129;01mor\u001b[39;00m global_skip_validation\n\u001b[0;32m    212\u001b[0m         )\n\u001b[0;32m    213\u001b[0m     ):\n",
      "File \u001b[1;32m~\\AppData\\Local\\Programs\\Python\\Python312\\Lib\\site-packages\\sklearn\\utils\\_param_validation.py:96\u001b[0m, in \u001b[0;36mvalidate_parameter_constraints\u001b[1;34m(parameter_constraints, params, caller_name)\u001b[0m\n\u001b[0;32m     90\u001b[0m \u001b[38;5;28;01melse\u001b[39;00m:\n\u001b[0;32m     91\u001b[0m     constraints_str \u001b[38;5;241m=\u001b[39m (\n\u001b[0;32m     92\u001b[0m         \u001b[38;5;124mf\u001b[39m\u001b[38;5;124m\"\u001b[39m\u001b[38;5;132;01m{\u001b[39;00m\u001b[38;5;124m'\u001b[39m\u001b[38;5;124m, \u001b[39m\u001b[38;5;124m'\u001b[39m\u001b[38;5;241m.\u001b[39mjoin([\u001b[38;5;28mstr\u001b[39m(c)\u001b[38;5;250m \u001b[39m\u001b[38;5;28;01mfor\u001b[39;00m\u001b[38;5;250m \u001b[39mc\u001b[38;5;250m \u001b[39m\u001b[38;5;129;01min\u001b[39;00m\u001b[38;5;250m \u001b[39mconstraints[:\u001b[38;5;241m-\u001b[39m\u001b[38;5;241m1\u001b[39m]])\u001b[38;5;132;01m}\u001b[39;00m\u001b[38;5;124m or\u001b[39m\u001b[38;5;124m\"\u001b[39m\n\u001b[0;32m     93\u001b[0m         \u001b[38;5;124mf\u001b[39m\u001b[38;5;124m\"\u001b[39m\u001b[38;5;124m \u001b[39m\u001b[38;5;132;01m{\u001b[39;00mconstraints[\u001b[38;5;241m-\u001b[39m\u001b[38;5;241m1\u001b[39m]\u001b[38;5;132;01m}\u001b[39;00m\u001b[38;5;124m\"\u001b[39m\n\u001b[0;32m     94\u001b[0m     )\n\u001b[1;32m---> 96\u001b[0m \u001b[38;5;28;01mraise\u001b[39;00m InvalidParameterError(\n\u001b[0;32m     97\u001b[0m     \u001b[38;5;124mf\u001b[39m\u001b[38;5;124m\"\u001b[39m\u001b[38;5;124mThe \u001b[39m\u001b[38;5;132;01m{\u001b[39;00mparam_name\u001b[38;5;132;01m!r}\u001b[39;00m\u001b[38;5;124m parameter of \u001b[39m\u001b[38;5;132;01m{\u001b[39;00mcaller_name\u001b[38;5;132;01m}\u001b[39;00m\u001b[38;5;124m must be\u001b[39m\u001b[38;5;124m\"\u001b[39m\n\u001b[0;32m     98\u001b[0m     \u001b[38;5;124mf\u001b[39m\u001b[38;5;124m\"\u001b[39m\u001b[38;5;124m \u001b[39m\u001b[38;5;132;01m{\u001b[39;00mconstraints_str\u001b[38;5;132;01m}\u001b[39;00m\u001b[38;5;124m. Got \u001b[39m\u001b[38;5;132;01m{\u001b[39;00mparam_val\u001b[38;5;132;01m!r}\u001b[39;00m\u001b[38;5;124m instead.\u001b[39m\u001b[38;5;124m\"\u001b[39m\n\u001b[0;32m     99\u001b[0m )\n",
      "\u001b[1;31mInvalidParameterError\u001b[0m: The 'stratify' parameter of train_test_split must be an array-like or None. Got False instead."
     ]
    }
   ],
   "source": [
    "xtrain, xtest, ytrain, ytest = train_test_split(tdata[:,0], tdata[:,1], test_size=0.3, stratify = )"
   ]
  },
  {
   "cell_type": "code",
   "execution_count": 97,
   "id": "fb6a4a38-9675-4b50-90e5-c61794859521",
   "metadata": {},
   "outputs": [
    {
     "data": {
      "text/plain": [
       "array([22382.38878566, 46193.5267008 , 95625.29910426, ...,\n",
       "        9723.12937395, 77238.4244631 , 38537.83798835])"
      ]
     },
     "execution_count": 97,
     "metadata": {},
     "output_type": "execute_result"
    }
   ],
   "source": [
    "xtrain"
   ]
  },
  {
   "cell_type": "code",
   "execution_count": 98,
   "id": "9f1129c8-aee3-47bf-8fec-29bf805324ff",
   "metadata": {},
   "outputs": [
    {
     "data": {
      "text/plain": [
       "array([[1.        , 0.10053715],\n",
       "       [0.10053715, 1.        ]])"
      ]
     },
     "execution_count": 98,
     "metadata": {},
     "output_type": "execute_result"
    }
   ],
   "source": [
    "np.corrcoef(xtrain,ytrain)"
   ]
  },
  {
   "cell_type": "code",
   "execution_count": 100,
   "id": "73a2abc8-e0e8-481b-a46a-9a881c58bb99",
   "metadata": {},
   "outputs": [
    {
     "data": {
      "text/plain": [
       "(1131,)"
      ]
     },
     "execution_count": 100,
     "metadata": {},
     "output_type": "execute_result"
    }
   ],
   "source": [
    "xtrain.shape"
   ]
  },
  {
   "cell_type": "code",
   "execution_count": 104,
   "id": "76fc3e5d-8eac-4cb9-b691-dc4f21b94a40",
   "metadata": {},
   "outputs": [
    {
     "data": {
      "text/html": [
       "<style>#sk-container-id-5 {color: black;}#sk-container-id-5 pre{padding: 0;}#sk-container-id-5 div.sk-toggleable {background-color: white;}#sk-container-id-5 label.sk-toggleable__label {cursor: pointer;display: block;width: 100%;margin-bottom: 0;padding: 0.3em;box-sizing: border-box;text-align: center;}#sk-container-id-5 label.sk-toggleable__label-arrow:before {content: \"▸\";float: left;margin-right: 0.25em;color: #696969;}#sk-container-id-5 label.sk-toggleable__label-arrow:hover:before {color: black;}#sk-container-id-5 div.sk-estimator:hover label.sk-toggleable__label-arrow:before {color: black;}#sk-container-id-5 div.sk-toggleable__content {max-height: 0;max-width: 0;overflow: hidden;text-align: left;background-color: #f0f8ff;}#sk-container-id-5 div.sk-toggleable__content pre {margin: 0.2em;color: black;border-radius: 0.25em;background-color: #f0f8ff;}#sk-container-id-5 input.sk-toggleable__control:checked~div.sk-toggleable__content {max-height: 200px;max-width: 100%;overflow: auto;}#sk-container-id-5 input.sk-toggleable__control:checked~label.sk-toggleable__label-arrow:before {content: \"▾\";}#sk-container-id-5 div.sk-estimator input.sk-toggleable__control:checked~label.sk-toggleable__label {background-color: #d4ebff;}#sk-container-id-5 div.sk-label input.sk-toggleable__control:checked~label.sk-toggleable__label {background-color: #d4ebff;}#sk-container-id-5 input.sk-hidden--visually {border: 0;clip: rect(1px 1px 1px 1px);clip: rect(1px, 1px, 1px, 1px);height: 1px;margin: -1px;overflow: hidden;padding: 0;position: absolute;width: 1px;}#sk-container-id-5 div.sk-estimator {font-family: monospace;background-color: #f0f8ff;border: 1px dotted black;border-radius: 0.25em;box-sizing: border-box;margin-bottom: 0.5em;}#sk-container-id-5 div.sk-estimator:hover {background-color: #d4ebff;}#sk-container-id-5 div.sk-parallel-item::after {content: \"\";width: 100%;border-bottom: 1px solid gray;flex-grow: 1;}#sk-container-id-5 div.sk-label:hover label.sk-toggleable__label {background-color: #d4ebff;}#sk-container-id-5 div.sk-serial::before {content: \"\";position: absolute;border-left: 1px solid gray;box-sizing: border-box;top: 0;bottom: 0;left: 50%;z-index: 0;}#sk-container-id-5 div.sk-serial {display: flex;flex-direction: column;align-items: center;background-color: white;padding-right: 0.2em;padding-left: 0.2em;position: relative;}#sk-container-id-5 div.sk-item {position: relative;z-index: 1;}#sk-container-id-5 div.sk-parallel {display: flex;align-items: stretch;justify-content: center;background-color: white;position: relative;}#sk-container-id-5 div.sk-item::before, #sk-container-id-5 div.sk-parallel-item::before {content: \"\";position: absolute;border-left: 1px solid gray;box-sizing: border-box;top: 0;bottom: 0;left: 50%;z-index: -1;}#sk-container-id-5 div.sk-parallel-item {display: flex;flex-direction: column;z-index: 1;position: relative;background-color: white;}#sk-container-id-5 div.sk-parallel-item:first-child::after {align-self: flex-end;width: 50%;}#sk-container-id-5 div.sk-parallel-item:last-child::after {align-self: flex-start;width: 50%;}#sk-container-id-5 div.sk-parallel-item:only-child::after {width: 0;}#sk-container-id-5 div.sk-dashed-wrapped {border: 1px dashed gray;margin: 0 0.4em 0.5em 0.4em;box-sizing: border-box;padding-bottom: 0.4em;background-color: white;}#sk-container-id-5 div.sk-label label {font-family: monospace;font-weight: bold;display: inline-block;line-height: 1.2em;}#sk-container-id-5 div.sk-label-container {text-align: center;}#sk-container-id-5 div.sk-container {/* jupyter's `normalize.less` sets `[hidden] { display: none; }` but bootstrap.min.css set `[hidden] { display: none !important; }` so we also need the `!important` here to be able to override the default hidden behavior on the sphinx rendered scikit-learn.org. See: https://github.com/scikit-learn/scikit-learn/issues/21755 */display: inline-block !important;position: relative;}#sk-container-id-5 div.sk-text-repr-fallback {display: none;}</style><div id=\"sk-container-id-5\" class=\"sk-top-container\"><div class=\"sk-text-repr-fallback\"><pre>LinearRegression()</pre><b>In a Jupyter environment, please rerun this cell to show the HTML representation or trust the notebook. <br />On GitHub, the HTML representation is unable to render, please try loading this page with nbviewer.org.</b></div><div class=\"sk-container\" hidden><div class=\"sk-item\"><div class=\"sk-estimator sk-toggleable\"><input class=\"sk-toggleable__control sk-hidden--visually\" id=\"sk-estimator-id-5\" type=\"checkbox\" checked><label for=\"sk-estimator-id-5\" class=\"sk-toggleable__label sk-toggleable__label-arrow\">LinearRegression</label><div class=\"sk-toggleable__content\"><pre>LinearRegression()</pre></div></div></div></div></div>"
      ],
      "text/plain": [
       "LinearRegression()"
      ]
     },
     "execution_count": 104,
     "metadata": {},
     "output_type": "execute_result"
    }
   ],
   "source": [
    "#linear regression only for straight lines\n",
    "m=sklearn.linear_model.LinearRegression()\n",
    "m"
   ]
  },
  {
   "cell_type": "code",
   "execution_count": 105,
   "id": "d66ec43d-1b8f-4e89-b03a-f829ccd2c2d9",
   "metadata": {},
   "outputs": [
    {
     "data": {
      "text/plain": [
       "True"
      ]
     },
     "execution_count": 105,
     "metadata": {},
     "output_type": "execute_result"
    }
   ],
   "source": [
    "m.fit_intercept"
   ]
  },
  {
   "cell_type": "code",
   "execution_count": 121,
   "id": "303ebebc-12b1-48b5-83fb-613317407b4a",
   "metadata": {},
   "outputs": [
    {
     "data": {
      "text/plain": [
       "(1131, 1)"
      ]
     },
     "execution_count": 121,
     "metadata": {},
     "output_type": "execute_result"
    }
   ],
   "source": [
    "xchanged = xtrain.reshape(1,-1).T\n",
    "xchanged.shape"
   ]
  },
  {
   "cell_type": "code",
   "execution_count": 122,
   "id": "c577fe86-aa13-4898-ab43-da8273a7504f",
   "metadata": {},
   "outputs": [],
   "source": [
    "ychanged = ytrain.reshape(1,-1).T"
   ]
  },
  {
   "cell_type": "code",
   "execution_count": 123,
   "id": "d903d67b-7ff2-4bdd-812e-45028b513fe0",
   "metadata": {},
   "outputs": [
    {
     "data": {
      "text/html": [
       "<style>#sk-container-id-8 {color: black;}#sk-container-id-8 pre{padding: 0;}#sk-container-id-8 div.sk-toggleable {background-color: white;}#sk-container-id-8 label.sk-toggleable__label {cursor: pointer;display: block;width: 100%;margin-bottom: 0;padding: 0.3em;box-sizing: border-box;text-align: center;}#sk-container-id-8 label.sk-toggleable__label-arrow:before {content: \"▸\";float: left;margin-right: 0.25em;color: #696969;}#sk-container-id-8 label.sk-toggleable__label-arrow:hover:before {color: black;}#sk-container-id-8 div.sk-estimator:hover label.sk-toggleable__label-arrow:before {color: black;}#sk-container-id-8 div.sk-toggleable__content {max-height: 0;max-width: 0;overflow: hidden;text-align: left;background-color: #f0f8ff;}#sk-container-id-8 div.sk-toggleable__content pre {margin: 0.2em;color: black;border-radius: 0.25em;background-color: #f0f8ff;}#sk-container-id-8 input.sk-toggleable__control:checked~div.sk-toggleable__content {max-height: 200px;max-width: 100%;overflow: auto;}#sk-container-id-8 input.sk-toggleable__control:checked~label.sk-toggleable__label-arrow:before {content: \"▾\";}#sk-container-id-8 div.sk-estimator input.sk-toggleable__control:checked~label.sk-toggleable__label {background-color: #d4ebff;}#sk-container-id-8 div.sk-label input.sk-toggleable__control:checked~label.sk-toggleable__label {background-color: #d4ebff;}#sk-container-id-8 input.sk-hidden--visually {border: 0;clip: rect(1px 1px 1px 1px);clip: rect(1px, 1px, 1px, 1px);height: 1px;margin: -1px;overflow: hidden;padding: 0;position: absolute;width: 1px;}#sk-container-id-8 div.sk-estimator {font-family: monospace;background-color: #f0f8ff;border: 1px dotted black;border-radius: 0.25em;box-sizing: border-box;margin-bottom: 0.5em;}#sk-container-id-8 div.sk-estimator:hover {background-color: #d4ebff;}#sk-container-id-8 div.sk-parallel-item::after {content: \"\";width: 100%;border-bottom: 1px solid gray;flex-grow: 1;}#sk-container-id-8 div.sk-label:hover label.sk-toggleable__label {background-color: #d4ebff;}#sk-container-id-8 div.sk-serial::before {content: \"\";position: absolute;border-left: 1px solid gray;box-sizing: border-box;top: 0;bottom: 0;left: 50%;z-index: 0;}#sk-container-id-8 div.sk-serial {display: flex;flex-direction: column;align-items: center;background-color: white;padding-right: 0.2em;padding-left: 0.2em;position: relative;}#sk-container-id-8 div.sk-item {position: relative;z-index: 1;}#sk-container-id-8 div.sk-parallel {display: flex;align-items: stretch;justify-content: center;background-color: white;position: relative;}#sk-container-id-8 div.sk-item::before, #sk-container-id-8 div.sk-parallel-item::before {content: \"\";position: absolute;border-left: 1px solid gray;box-sizing: border-box;top: 0;bottom: 0;left: 50%;z-index: -1;}#sk-container-id-8 div.sk-parallel-item {display: flex;flex-direction: column;z-index: 1;position: relative;background-color: white;}#sk-container-id-8 div.sk-parallel-item:first-child::after {align-self: flex-end;width: 50%;}#sk-container-id-8 div.sk-parallel-item:last-child::after {align-self: flex-start;width: 50%;}#sk-container-id-8 div.sk-parallel-item:only-child::after {width: 0;}#sk-container-id-8 div.sk-dashed-wrapped {border: 1px dashed gray;margin: 0 0.4em 0.5em 0.4em;box-sizing: border-box;padding-bottom: 0.4em;background-color: white;}#sk-container-id-8 div.sk-label label {font-family: monospace;font-weight: bold;display: inline-block;line-height: 1.2em;}#sk-container-id-8 div.sk-label-container {text-align: center;}#sk-container-id-8 div.sk-container {/* jupyter's `normalize.less` sets `[hidden] { display: none; }` but bootstrap.min.css set `[hidden] { display: none !important; }` so we also need the `!important` here to be able to override the default hidden behavior on the sphinx rendered scikit-learn.org. See: https://github.com/scikit-learn/scikit-learn/issues/21755 */display: inline-block !important;position: relative;}#sk-container-id-8 div.sk-text-repr-fallback {display: none;}</style><div id=\"sk-container-id-8\" class=\"sk-top-container\"><div class=\"sk-text-repr-fallback\"><pre>LinearRegression()</pre><b>In a Jupyter environment, please rerun this cell to show the HTML representation or trust the notebook. <br />On GitHub, the HTML representation is unable to render, please try loading this page with nbviewer.org.</b></div><div class=\"sk-container\" hidden><div class=\"sk-item\"><div class=\"sk-estimator sk-toggleable\"><input class=\"sk-toggleable__control sk-hidden--visually\" id=\"sk-estimator-id-8\" type=\"checkbox\" checked><label for=\"sk-estimator-id-8\" class=\"sk-toggleable__label sk-toggleable__label-arrow\">LinearRegression</label><div class=\"sk-toggleable__content\"><pre>LinearRegression()</pre></div></div></div></div></div>"
      ],
      "text/plain": [
       "LinearRegression()"
      ]
     },
     "execution_count": 123,
     "metadata": {},
     "output_type": "execute_result"
    }
   ],
   "source": [
    "#m.fit(xtrain[0],ytrain[0])\n",
    "m.fit(xchanged, ychanged)"
   ]
  },
  {
   "cell_type": "code",
   "execution_count": 124,
   "id": "d8542cc9-0a6f-47db-8f08-0f9d4f5cc50c",
   "metadata": {},
   "outputs": [
    {
     "data": {
      "text/plain": [
       "(486, 1)"
      ]
     },
     "execution_count": 124,
     "metadata": {},
     "output_type": "execute_result"
    }
   ],
   "source": [
    "xtestchanged = xtest.reshape(1,-1).T\n",
    "xtestchanged.shape"
   ]
  },
  {
   "cell_type": "code",
   "execution_count": 135,
   "id": "1a3d2ef4-b3bf-4e63-837f-ce65410f9f06",
   "metadata": {},
   "outputs": [
    {
     "data": {
      "text/plain": [
       "(486, 1)"
      ]
     },
     "execution_count": 135,
     "metadata": {},
     "output_type": "execute_result"
    }
   ],
   "source": [
    "yh=m.predict(xtestchanged)\n",
    "yh.shape"
   ]
  },
  {
   "cell_type": "code",
   "execution_count": 89,
   "id": "acc82b0e-a1c5-4c37-a52e-995258768e00",
   "metadata": {},
   "outputs": [],
   "source": [
    "#can't do random forest or linear regression if it is a single feature"
   ]
  },
  {
   "cell_type": "code",
   "execution_count": 94,
   "id": "5144ee8b-d25d-4e78-a058-dd1cf0faa030",
   "metadata": {},
   "outputs": [],
   "source": [
    "#so we rank them by MSE"
   ]
  },
  {
   "cell_type": "code",
   "execution_count": 95,
   "id": "428c05ff-597e-4853-a83e-577a62cdd27d",
   "metadata": {},
   "outputs": [
    {
     "data": {
      "text/plain": [
       "(1131,)"
      ]
     },
     "execution_count": 95,
     "metadata": {},
     "output_type": "execute_result"
    }
   ],
   "source": [
    "xtrain.shape"
   ]
  },
  {
   "cell_type": "code",
   "execution_count": 136,
   "id": "c30f93e8-adba-4708-8074-416928c3aed9",
   "metadata": {},
   "outputs": [],
   "source": [
    "#np.corrcoef(yh,ytest)"
   ]
  },
  {
   "cell_type": "code",
   "execution_count": 132,
   "id": "40cbc37e-c308-4d6b-a221-3f35f6f3afd1",
   "metadata": {},
   "outputs": [
    {
     "data": {
      "text/plain": [
       "(486, 1)"
      ]
     },
     "execution_count": 132,
     "metadata": {},
     "output_type": "execute_result"
    }
   ],
   "source": [
    "ytestchanged = ytest.reshape(1,-1).T\n",
    "ytestchanged.shape"
   ]
  },
  {
   "cell_type": "code",
   "execution_count": 133,
   "id": "5a118237-8ef2-415e-ade2-6caa237dd98c",
   "metadata": {},
   "outputs": [
    {
     "name": "stderr",
     "output_type": "stream",
     "text": [
      "C:\\Users\\YASHWANTH PINDI\\AppData\\Local\\Programs\\Python\\Python312\\Lib\\site-packages\\numpy\\lib\\function_base.py:2889: RuntimeWarning: Degrees of freedom <= 0 for slice\n",
      "  c = cov(x, y, rowvar, dtype=dtype)\n",
      "C:\\Users\\YASHWANTH PINDI\\AppData\\Local\\Programs\\Python\\Python312\\Lib\\site-packages\\numpy\\lib\\function_base.py:2748: RuntimeWarning: divide by zero encountered in divide\n",
      "  c *= np.true_divide(1, fact)\n",
      "C:\\Users\\YASHWANTH PINDI\\AppData\\Local\\Programs\\Python\\Python312\\Lib\\site-packages\\numpy\\lib\\function_base.py:2748: RuntimeWarning: invalid value encountered in multiply\n",
      "  c *= np.true_divide(1, fact)\n"
     ]
    },
    {
     "data": {
      "text/plain": [
       "array([[nan, nan, nan, ..., nan, nan, nan],\n",
       "       [nan, nan, nan, ..., nan, nan, nan],\n",
       "       [nan, nan, nan, ..., nan, nan, nan],\n",
       "       ...,\n",
       "       [nan, nan, nan, ..., nan, nan, nan],\n",
       "       [nan, nan, nan, ..., nan, nan, nan],\n",
       "       [nan, nan, nan, ..., nan, nan, nan]])"
      ]
     },
     "execution_count": 133,
     "metadata": {},
     "output_type": "execute_result"
    }
   ],
   "source": [
    "np.corrcoef(yh,ytestchanged)"
   ]
  },
  {
   "cell_type": "code",
   "execution_count": 138,
   "id": "48ef08d5-c79e-42e6-ad25-bbe0ec702128",
   "metadata": {},
   "outputs": [
    {
     "data": {
      "text/plain": [
       "array([[1.        , 0.15757987],\n",
       "       [0.15757987, 1.        ]])"
      ]
     },
     "execution_count": 138,
     "metadata": {},
     "output_type": "execute_result"
    }
   ],
   "source": [
    "np.corrcoef(yh,ytestchanged, rowvar = False)"
   ]
  },
  {
   "cell_type": "code",
   "execution_count": 140,
   "id": "be19cc88-62ec-489e-b482-d764a0dbe7c7",
   "metadata": {},
   "outputs": [],
   "source": [
    "#np.corrcoef?"
   ]
  },
  {
   "cell_type": "code",
   "execution_count": 141,
   "id": "3ea7e661-3a03-45e7-a49d-6bf2cbfcb0fe",
   "metadata": {},
   "outputs": [
    {
     "data": {
      "text/plain": [
       "[<matplotlib.lines.Line2D at 0x1579c724d70>]"
      ]
     },
     "execution_count": 141,
     "metadata": {},
     "output_type": "execute_result"
    },
    {
     "data": {
      "image/png": "[encoded data removed]",
      "text/plain": [
       "<Figure size 640x480 with 1 Axes>"
      ]
     },
     "metadata": {},
     "output_type": "display_data"
    }
   ],
   "source": [
    "plt.plot(ytestchanged,yh,'.')\n",
    "plt.plot(ytest,ytest)"
   ]
  },
  {
   "cell_type": "code",
   "execution_count": 142,
   "id": "e850cce3-aba9-4cbe-a66a-4c07091fa394",
   "metadata": {},
   "outputs": [],
   "source": [
    "#try MSE"
   ]
  },
  {
   "cell_type": "code",
   "execution_count": 143,
   "id": "a79a9168-5184-4d76-924a-00b7bcd25038",
   "metadata": {},
   "outputs": [],
   "source": [
    "#professor stuff"
   ]
  },
  {
   "cell_type": "code",
   "execution_count": 145,
   "id": "8cf5b00e-6d28-476b-a75f-3603b4c9ba66",
   "metadata": {},
   "outputs": [],
   "source": [
    "from sklearn.ensemble import RandomForestRegressor"
   ]
  },
  {
   "cell_type": "code",
   "execution_count": 166,
   "id": "6e158b6c-38e0-450a-87cb-1ee2ac0bd2fb",
   "metadata": {},
   "outputs": [
    {
     "name": "stdout",
     "output_type": "stream",
     "text": [
      "(800, 1)\n",
      "(800, 1)\n"
     ]
    }
   ],
   "source": [
    "X= tdata[:800,0].reshape(1,-1).T\n",
    "Y= tdata[:800,1].reshape(1,-1).T\n",
    "print(X.shape)\n",
    "print(Y.shape)"
   ]
  },
  {
   "cell_type": "code",
   "execution_count": 167,
   "id": "cbe14364-e26d-4e06-8107-8a25ccb36727",
   "metadata": {},
   "outputs": [],
   "source": [
    "#try SVR - support vector regression. MSE came as 7.7\n",
    "#MSE - ideal value is 0.\n",
    "#check notes Practical 12"
   ]
  },
  {
   "cell_type": "code",
   "execution_count": 168,
   "id": "f4f6265e-1663-4a53-ab43-19b7b00b5d4b",
   "metadata": {},
   "outputs": [],
   "source": [
    "#Linear regressor is best in this case"
   ]
  },
  {
   "cell_type": "code",
   "execution_count": 169,
   "id": "6c71fffd-3283-48ba-847a-9601b1e2155d",
   "metadata": {},
   "outputs": [],
   "source": [
    "#so you need a prediction horizon because we are not able to predict too far\n",
    "#into the future\n",
    "#so you predict very near future, see MSE, and then continue to predict\n",
    "#the future after that again. So you need a loop"
   ]
  },
  {
   "cell_type": "code",
   "execution_count": 170,
   "id": "443c7363-988b-4533-ab9b-eee9a1fd5c2e",
   "metadata": {},
   "outputs": [],
   "source": [
    "from sklearn.ensemble import RandomForestRegressor"
   ]
  },
  {
   "cell_type": "code",
   "execution_count": 171,
   "id": "5024f4b5-544b-4a52-a86a-7ce08f5de33a",
   "metadata": {},
   "outputs": [
    {
     "ename": "NameError",
     "evalue": "name 'SVR' is not defined",
     "output_type": "error",
     "traceback": [
      "\u001b[1;31m---------------------------------------------------------------------------\u001b[0m",
      "\u001b[1;31mNameError\u001b[0m                                 Traceback (most recent call last)",
      "Cell \u001b[1;32mIn[171], line 4\u001b[0m\n\u001b[0;32m      1\u001b[0m X\u001b[38;5;241m=\u001b[39mX[Y\u001b[38;5;241m>\u001b[39m\u001b[38;5;241m10\u001b[39m];\n\u001b[0;32m      2\u001b[0m Y\u001b[38;5;241m=\u001b[39mY[Y\u001b[38;5;241m>\u001b[39m\u001b[38;5;241m10\u001b[39m];\n\u001b[1;32m----> 4\u001b[0m rf\u001b[38;5;241m=\u001b[39m\u001b[43mSVR\u001b[49m()\n\u001b[0;32m      5\u001b[0m rf\u001b[38;5;241m.\u001b[39mfit(X,Y)\n",
      "\u001b[1;31mNameError\u001b[0m: name 'SVR' is not defined"
     ]
    }
   ],
   "source": [
    "X=X[Y>10];\n",
    "Y=Y[Y>10];\n",
    "\n",
    "rf=SVR()\n",
    "rf.fit(X,Y)"
   ]
  },
  {
   "cell_type": "code",
   "execution_count": 172,
   "id": "3e10472e-62dd-4387-a19f-3b73856b6166",
   "metadata": {},
   "outputs": [],
   "source": [
    "temps=tdata[:, 1]\n",
    "X=np.array([temps[i:60+i] for i in range(len(temps)-60)])"
   ]
  },
  {
   "cell_type": "code",
   "execution_count": 173,
   "id": "fa675d8d-6100-458c-875c-455ed303936a",
   "metadata": {},
   "outputs": [],
   "source": [
    "y=temps[60:]"
   ]
  },
  {
   "cell_type": "code",
   "execution_count": 174,
   "id": "7b15fb6e-abc0-4011-9223-9d895bdf7a89",
   "metadata": {},
   "outputs": [
    {
     "ename": "NameError",
     "evalue": "name 'LinearRegression' is not defined",
     "output_type": "error",
     "traceback": [
      "\u001b[1;31m---------------------------------------------------------------------------\u001b[0m",
      "\u001b[1;31mNameError\u001b[0m                                 Traceback (most recent call last)",
      "Cell \u001b[1;32mIn[174], line 1\u001b[0m\n\u001b[1;32m----> 1\u001b[0m rf\u001b[38;5;241m=\u001b[39m \u001b[43mLinearRegression\u001b[49m()\n\u001b[0;32m      2\u001b[0m rf\u001b[38;5;241m.\u001b[39mfit(X,y)\n",
      "\u001b[1;31mNameError\u001b[0m: name 'LinearRegression' is not defined"
     ]
    }
   ],
   "source": [
    "rf= LinearRegression()\n",
    "rf.fit(X,y)"
   ]
  },
  {
   "cell_type": "code",
   "execution_count": 176,
   "id": "167d9942-cbf5-4b2d-8bae-c3d290367e87",
   "metadata": {},
   "outputs": [],
   "source": [
    "#try to import text and csv data\n",
    "#try it\n",
    "#try house pricing. Try what to do with missing data. SOLVE problem"
   ]
  },
  {
   "cell_type": "code",
   "execution_count": 178,
   "id": "4a8b4408-9374-4fce-93a3-2c8600edae3b",
   "metadata": {},
   "outputs": [],
   "source": [
    "#https://www.bing.com/search?q=linear+prediction+coding&qs=UT&pq=linear+prediction+&sc=10-18&cvid=AECCD0F17DF64E5A9772F84CA3155F13&FORM=QBRE&sp=1&ghc=1&lq=0"
   ]
  },
  {
   "cell_type": "code",
   "execution_count": 179,
   "id": "48a9aff3-42a5-41d1-9442-d29dbc6d38cb",
   "metadata": {},
   "outputs": [],
   "source": [
    "#https://www.kaggle.com/datasets/crawford/computer-network-traffic"
   ]
  },
  {
   "cell_type": "code",
   "execution_count": null,
   "id": "00e7ab5f-81e5-4d68-9d1e-7ace75e7c9c7",
   "metadata": {},
   "outputs": [],
   "source": []
  }
 ],
 "metadata": {
  "kernelspec": {
   "display_name": "Python 3 (ipykernel)",
   "language": "python",
   "name": "python3"
  },
  "language_info": {
   "codemirror_mode": {
    "name": "ipython",
    "version": 3
   },
   "file_extension": ".py",
   "mimetype": "text/x-python",
   "name": "python",
   "nbconvert_exporter": "python",
   "pygments_lexer": "ipython3",
   "version": "3.12.0"
  }
 },
 "nbformat": 4,
 "nbformat_minor": 5
}
