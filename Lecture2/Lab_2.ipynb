{
 "cells": [
  {
   "cell_type": "code",
   "execution_count": 1,
   "id": "f1e77576-00d7-46bc-8549-041aaba91b48",
   "metadata": {},
   "outputs": [],
   "source": [
    "x=[1,2,5,10]"
   ]
  },
  {
   "cell_type": "code",
   "execution_count": 14,
   "id": "bc89dd77-f257-4a1e-8170-cee77a17f1d5",
   "metadata": {},
   "outputs": [
    {
     "data": {
      "text/plain": [
       "[1, 2, 5, 10]"
      ]
     },
     "execution_count": 14,
     "metadata": {},
     "output_type": "execute_result"
    }
   ],
   "source": [
    "xh=x\n",
    "xh"
   ]
  },
  {
   "cell_type": "code",
   "execution_count": 2,
   "id": "df2159a4-d401-45f6-8fd6-6857957d063e",
   "metadata": {},
   "outputs": [],
   "source": [
    "#x"
   ]
  },
  {
   "cell_type": "code",
   "execution_count": 3,
   "id": "5f46bd83-3af5-472c-9a54-0f94e4965f2c",
   "metadata": {},
   "outputs": [],
   "source": [
    "y=[1,4,15,25]"
   ]
  },
  {
   "cell_type": "code",
   "execution_count": 4,
   "id": "72ff4127-619f-4ac4-b5e3-e4ddaf91ea64",
   "metadata": {},
   "outputs": [],
   "source": [
    "import matplotlib.pyplot as plt"
   ]
  },
  {
   "cell_type": "code",
   "execution_count": 5,
   "id": "802f547f-c259-4669-8741-6c0e904ee6d2",
   "metadata": {},
   "outputs": [
    {
     "data": {
      "text/plain": [
       "[<matplotlib.lines.Line2D at 0x2f07f7beae0>]"
      ]
     },
     "execution_count": 5,
     "metadata": {},
     "output_type": "execute_result"
    },
    {
     "data": {
      "image/png": "[encoded data removed]",
      "text/plain": [
       "<Figure size 640x480 with 1 Axes>"
      ]
     },
     "metadata": {},
     "output_type": "display_data"
    }
   ],
   "source": [
    "plt.plot(x,y,'*')"
   ]
  },
  {
   "cell_type": "code",
   "execution_count": 6,
   "id": "c0f49130-90b3-4c37-a62f-fcff877698b4",
   "metadata": {},
   "outputs": [],
   "source": [
    "a=2\n",
    "b=0"
   ]
  },
  {
   "cell_type": "code",
   "execution_count": 7,
   "id": "5256b40e-c461-4d14-a64b-89551450cdec",
   "metadata": {},
   "outputs": [
    {
     "ename": "TypeError",
     "evalue": "can only concatenate list (not \"int\") to list",
     "output_type": "error",
     "traceback": [
      "\u001b[1;31m---------------------------------------------------------------------------\u001b[0m",
      "\u001b[1;31mTypeError\u001b[0m                                 Traceback (most recent call last)",
      "Cell \u001b[1;32mIn[7], line 1\u001b[0m\n\u001b[1;32m----> 1\u001b[0m yh\u001b[38;5;241m=\u001b[39m\u001b[43ma\u001b[49m\u001b[38;5;241;43m*\u001b[39;49m\u001b[43mx\u001b[49m\u001b[38;5;241;43m+\u001b[39;49m\u001b[43mb\u001b[49m \u001b[38;5;66;03m#this doesn't work like this yet\u001b[39;00m\n",
      "\u001b[1;31mTypeError\u001b[0m: can only concatenate list (not \"int\") to list"
     ]
    }
   ],
   "source": [
    "yh=a*x+b #this doesn't work like this yet"
   ]
  },
  {
   "cell_type": "code",
   "execution_count": 8,
   "id": "a8b5c534-b7bf-4509-8b1c-3084693a4822",
   "metadata": {},
   "outputs": [
    {
     "data": {
      "text/plain": [
       "[1, 7, 6, 3, 9]"
      ]
     },
     "execution_count": 8,
     "metadata": {},
     "output_type": "execute_result"
    }
   ],
   "source": [
    "[1,7]+[6,3,9] #list concatenation"
   ]
  },
  {
   "cell_type": "code",
   "execution_count": 10,
   "id": "dcf00984-229f-4f54-a84e-4bbbf5768f66",
   "metadata": {},
   "outputs": [
    {
     "data": {
      "text/plain": [
       "[2, 4, 10, 20]"
      ]
     },
     "execution_count": 10,
     "metadata": {},
     "output_type": "execute_result"
    }
   ],
   "source": [
    "[a*z+b for z in x] #z is like an iteration. This is list interpolation"
   ]
  },
  {
   "cell_type": "code",
   "execution_count": 11,
   "id": "4279f8bc-d764-4a7f-9308-45b20d7a4d14",
   "metadata": {},
   "outputs": [
    {
     "data": {
      "text/plain": [
       "[0, 0, 0, 0]"
      ]
     },
     "execution_count": 11,
     "metadata": {},
     "output_type": "execute_result"
    }
   ],
   "source": [
    "[0 for z in x] #test"
   ]
  },
  {
   "cell_type": "code",
   "execution_count": 15,
   "id": "d2ae1779-543d-414c-b473-dd5479f3fb3b",
   "metadata": {},
   "outputs": [
    {
     "data": {
      "text/plain": [
       "[1, 2, 5, 10]"
      ]
     },
     "execution_count": 15,
     "metadata": {},
     "output_type": "execute_result"
    }
   ],
   "source": [
    "[z for z in x] #test"
   ]
  },
  {
   "cell_type": "code",
   "execution_count": 17,
   "id": "d2eb48ae-4858-498f-ab3c-2a8a887d5ef5",
   "metadata": {},
   "outputs": [
    {
     "data": {
      "text/plain": [
       "[1, 2, 5, 10]"
      ]
     },
     "execution_count": 17,
     "metadata": {},
     "output_type": "execute_result"
    }
   ],
   "source": [
    "x"
   ]
  },
  {
   "cell_type": "code",
   "execution_count": 18,
   "id": "4f940934-5a93-4cc1-b29a-d254b6829132",
   "metadata": {},
   "outputs": [
    {
     "data": {
      "text/plain": [
       "[2, 4, 10, 20]"
      ]
     },
     "execution_count": 18,
     "metadata": {},
     "output_type": "execute_result"
    }
   ],
   "source": [
    "[a*t+b for t in x] #list interpolation test"
   ]
  },
  {
   "cell_type": "code",
   "execution_count": 19,
   "id": "d440b122-dcc0-4988-8e5e-7bd0c44a502c",
   "metadata": {},
   "outputs": [],
   "source": [
    "yh = [a*x+b for x in x] #list interpolation test [just the first 2 x here are the same thing"
   ]
  },
  {
   "cell_type": "code",
   "execution_count": 20,
   "id": "e57ea7c7-9cfb-4122-b6a1-d90db16e30fb",
   "metadata": {},
   "outputs": [
    {
     "name": "stdout",
     "output_type": "stream",
     "text": [
      "[2, 4, 10, 20]\n"
     ]
    }
   ],
   "source": [
    "yh = [a*x+b for x in x] #list interpolation test [just the first 2 x here are the same thing\n",
    "print(yh)"
   ]
  },
  {
   "cell_type": "code",
   "execution_count": 21,
   "id": "db1a9890-b041-4e7b-ac7c-803c063f49c5",
   "metadata": {},
   "outputs": [
    {
     "data": {
      "text/plain": [
       "[2, 4, 10, 20]"
      ]
     },
     "execution_count": 21,
     "metadata": {},
     "output_type": "execute_result"
    }
   ],
   "source": [
    "yh #you can just write yh without the print() also for printing"
   ]
  },
  {
   "cell_type": "code",
   "execution_count": 25,
   "id": "ed640345-8f4f-4830-9d6f-5fcdab0fd49b",
   "metadata": {},
   "outputs": [
    {
     "data": {
      "image/png": "[encoded data removed]",
      "text/plain": [
       "<Figure size 640x480 with 1 Axes>"
      ]
     },
     "metadata": {},
     "output_type": "display_data"
    }
   ],
   "source": [
    "plt.plot(x,y,'*')\n",
    "plt.plot(x,yh,'+k',ms=15)\n",
    "plt.grid(1)\n",
    "#can add colours too in the graph plots"
   ]
  },
  {
   "cell_type": "code",
   "execution_count": null,
   "id": "c257f9bb-f030-40ea-ad00-cf8de5a1dcda",
   "metadata": {},
   "outputs": [],
   "source": [
    "# plt.plot?  \n",
    "# this is help"
   ]
  },
  {
   "cell_type": "code",
   "execution_count": null,
   "id": "2f3e2e56-8e69-4d9f-8f3d-4fac27b72e4d",
   "metadata": {},
   "outputs": [],
   "source": [
    "y[0] #to get the particular indexes(indeces)"
   ]
  },
  {
   "cell_type": "code",
   "execution_count": null,
   "id": "1d8af879-7cab-4cfe-a2fb-31d86135941b",
   "metadata": {},
   "outputs": [],
   "source": [
    "y"
   ]
  },
  {
   "cell_type": "code",
   "execution_count": null,
   "id": "9a39de38-5b79-4e69-96c4-d91498f923c2",
   "metadata": {},
   "outputs": [],
   "source": [
    "y[2]"
   ]
  },
  {
   "cell_type": "code",
   "execution_count": null,
   "id": "7a258ba0-c02c-4c58-8cf6-aabb4ee47326",
   "metadata": {},
   "outputs": [],
   "source": [
    "#error in the 3rd point\n",
    "y[2]-yh[2]"
   ]
  },
  {
   "cell_type": "code",
   "execution_count": null,
   "id": "802366bb-f578-4656-a2e7-62182634b192",
   "metadata": {},
   "outputs": [],
   "source": [
    "(y[2]-yh[2])"
   ]
  },
  {
   "cell_type": "code",
   "execution_count": null,
   "id": "b8b61512-ab19-4707-bbb5-89bc8adcc950",
   "metadata": {},
   "outputs": [],
   "source": [
    "(y[2]-yh[2])**2"
   ]
  },
  {
   "cell_type": "code",
   "execution_count": null,
   "id": "6eca79ae-ed0a-4cff-b7cd-1799f06bbd17",
   "metadata": {},
   "outputs": [],
   "source": [
    "# sse is sum of squared errors"
   ]
  },
  {
   "cell_type": "code",
   "execution_count": null,
   "id": "4830ebb6-3ce1-448e-9733-37f8cbcc5d58",
   "metadata": {},
   "outputs": [],
   "source": [
    "range(5)"
   ]
  },
  {
   "cell_type": "code",
   "execution_count": null,
   "id": "87c26cfa-e2f6-4a4e-b2e4-38277af79877",
   "metadata": {},
   "outputs": [],
   "source": [
    "ax=range(5)\n",
    "ax?"
   ]
  },
  {
   "cell_type": "code",
   "execution_count": null,
   "id": "5db04a17-ff8a-4d92-961f-fc1da45322e4",
   "metadata": {},
   "outputs": [],
   "source": [
    "[t for t in range(5)]\n",
    "#this is a generator"
   ]
  },
  {
   "cell_type": "code",
   "execution_count": null,
   "id": "7a27261d-a311-4a08-a23e-f41da1fa0214",
   "metadata": {},
   "outputs": [],
   "source": [
    "[x for x in range(5)]"
   ]
  },
  {
   "cell_type": "code",
   "execution_count": null,
   "id": "b1399cfc-0e02-47ec-847c-d2fe2aa1fd16",
   "metadata": {},
   "outputs": [],
   "source": [
    "x\n",
    "#the above statement doesn't affect the actual x"
   ]
  },
  {
   "cell_type": "code",
   "execution_count": null,
   "id": "4f81e457-b2c9-462e-9f69-dcaf0ac71645",
   "metadata": {},
   "outputs": [],
   "source": [
    "#collect all errors\n",
    "[(y[i]-yh[i])**2 for i in range (len(y))]"
   ]
  },
  {
   "cell_type": "code",
   "execution_count": 27,
   "id": "60f59373-32cd-4979-9b17-67b9171b30cc",
   "metadata": {},
   "outputs": [
    {
     "data": {
      "text/plain": [
       "[1, 4, 15, 25]"
      ]
     },
     "execution_count": 27,
     "metadata": {},
     "output_type": "execute_result"
    }
   ],
   "source": [
    "y"
   ]
  },
  {
   "cell_type": "code",
   "execution_count": 28,
   "id": "a898edb0-819c-433c-9d33-5db164f84129",
   "metadata": {},
   "outputs": [
    {
     "data": {
      "text/plain": [
       "[2, 4, 10, 20]"
      ]
     },
     "execution_count": 28,
     "metadata": {},
     "output_type": "execute_result"
    }
   ],
   "source": [
    "yh"
   ]
  },
  {
   "cell_type": "code",
   "execution_count": 26,
   "id": "e14ec3a7-6280-4b55-b0ee-f35b87ec34ba",
   "metadata": {},
   "outputs": [
    {
     "data": {
      "text/plain": [
       "51"
      ]
     },
     "execution_count": 26,
     "metadata": {},
     "output_type": "execute_result"
    }
   ],
   "source": [
    "# collect all errors and sum them\n",
    "sum([(y[i]-yh[i])**2 for i in range (len(y))])"
   ]
  },
  {
   "cell_type": "code",
   "execution_count": null,
   "id": "3b8914de-6fc8-4902-b140-75455316f652",
   "metadata": {},
   "outputs": [],
   "source": [
    "#tuples"
   ]
  },
  {
   "cell_type": "code",
   "execution_count": null,
   "id": "cb8177de-fa13-4a9b-a531-95bdb99a902d",
   "metadata": {},
   "outputs": [],
   "source": [
    "(0,1)"
   ]
  },
  {
   "cell_type": "code",
   "execution_count": null,
   "id": "69f2e215-8ffd-4d32-8e29-db91d51140ba",
   "metadata": {},
   "outputs": [],
   "source": [
    "0,1"
   ]
  },
  {
   "cell_type": "code",
   "execution_count": null,
   "id": "4447c931-6b6e-4519-b849-a4b99bc507d6",
   "metadata": {},
   "outputs": [],
   "source": [
    "0,8,22"
   ]
  },
  {
   "cell_type": "code",
   "execution_count": null,
   "id": "092c36d4-9063-431e-9eb3-db90112a74d9",
   "metadata": {},
   "outputs": [],
   "source": [
    "u, v=9,6"
   ]
  },
  {
   "cell_type": "code",
   "execution_count": null,
   "id": "30d5adfd-1a8a-4c3a-9990-9cb95ce6d67e",
   "metadata": {},
   "outputs": [],
   "source": [
    "u"
   ]
  },
  {
   "cell_type": "code",
   "execution_count": null,
   "id": "da64758b-510d-46f4-bceb-dc6dd0812e0f",
   "metadata": {},
   "outputs": [],
   "source": [
    "v"
   ]
  },
  {
   "cell_type": "code",
   "execution_count": null,
   "id": "ed3aa108-cafe-4bc5-b835-85385d83f0e4",
   "metadata": {},
   "outputs": [],
   "source": [
    "zip\n",
    "#joining 2 lists together"
   ]
  },
  {
   "cell_type": "code",
   "execution_count": null,
   "id": "89b46989-d843-44df-bca1-57367687f9c5",
   "metadata": {},
   "outputs": [],
   "source": [
    "zip?"
   ]
  },
  {
   "cell_type": "code",
   "execution_count": null,
   "id": "ba8deb8a-048e-46d6-821e-bb3b341922c3",
   "metadata": {},
   "outputs": [],
   "source": [
    "#alternate way of computing SSE"
   ]
  },
  {
   "cell_type": "code",
   "execution_count": null,
   "id": "34ab4ee6-f7a5-4901-8610-8bfe2f63fe18",
   "metadata": {},
   "outputs": [],
   "source": [
    "y"
   ]
  },
  {
   "cell_type": "code",
   "execution_count": null,
   "id": "a6a4f09a-a6d7-4c10-978e-85c9d975ed12",
   "metadata": {},
   "outputs": [],
   "source": [
    "yh"
   ]
  },
  {
   "cell_type": "code",
   "execution_count": 29,
   "id": "d991a4cb-6cdc-4786-9927-7c987719dc8a",
   "metadata": {},
   "outputs": [
    {
     "data": {
      "text/plain": [
       "2308"
      ]
     },
     "execution_count": 29,
     "metadata": {},
     "output_type": "execute_result"
    }
   ],
   "source": [
    "# collect all errors and sum them\n",
    "sum([(u-v)**2 for u in y for v in yh])"
   ]
  },
  {
   "cell_type": "code",
   "execution_count": 30,
   "id": "d40b033f-6e46-4903-aa19-2dce2f7a44f8",
   "metadata": {},
   "outputs": [
    {
     "data": {
      "text/plain": [
       "[(0, 0), (0, 1), (0, 2), (1, 0), (1, 1), (1, 2)]"
      ]
     },
     "execution_count": 30,
     "metadata": {},
     "output_type": "execute_result"
    }
   ],
   "source": [
    "[(i,j) for i in range(2) for j in range(3)]\n",
    "#each with each"
   ]
  },
  {
   "cell_type": "code",
   "execution_count": null,
   "id": "18bcecc4-ebe7-4675-9172-b79634bf6239",
   "metadata": {},
   "outputs": [],
   "source": [
    "n=zip(y,yh)\n",
    "n"
   ]
  },
  {
   "cell_type": "code",
   "execution_count": 31,
   "id": "09411a1d-1d74-4edf-8fed-ed617bf6433c",
   "metadata": {},
   "outputs": [
    {
     "data": {
      "text/plain": [
       "51"
      ]
     },
     "execution_count": 31,
     "metadata": {},
     "output_type": "execute_result"
    }
   ],
   "source": [
    "# collect all errors and sum them\n",
    "sum((u-v)**2 for u,v in zip(y,yh))"
   ]
  },
  {
   "cell_type": "code",
   "execution_count": 32,
   "id": "26487eab-5acc-4d80-a552-1d1b7562fd99",
   "metadata": {},
   "outputs": [
    {
     "data": {
      "text/plain": [
       "(2, 0)"
      ]
     },
     "execution_count": 32,
     "metadata": {},
     "output_type": "execute_result"
    }
   ],
   "source": [
    "a,b"
   ]
  },
  {
   "cell_type": "code",
   "execution_count": null,
   "id": "d5418ae0-e4bb-4c03-9d93-9d5554d1dd6f",
   "metadata": {},
   "outputs": [],
   "source": [
    "def f(x):\n",
    "    return x**2+3"
   ]
  },
  {
   "cell_type": "code",
   "execution_count": null,
   "id": "eeadad3e-fec1-4bea-9e03-9c4a99b1b7b6",
   "metadata": {},
   "outputs": [],
   "source": [
    "f(0)"
   ]
  },
  {
   "cell_type": "code",
   "execution_count": null,
   "id": "895b3123-7d42-4e33-9a92-9831e1835406",
   "metadata": {},
   "outputs": [],
   "source": [
    "f(-2)"
   ]
  },
  {
   "cell_type": "code",
   "execution_count": 23,
   "id": "5cef7549-eb67-44ce-8dab-26e308a33eb1",
   "metadata": {},
   "outputs": [],
   "source": [
    "def sse(y,yh):\n",
    "    return sum((u-v)**2 for u,v in zip(y,yh))"
   ]
  },
  {
   "cell_type": "code",
   "execution_count": null,
   "id": "3836afb2-3d38-4eeb-abf6-b76f659a6887",
   "metadata": {},
   "outputs": [],
   "source": [
    "#def sse(x,y):\n",
    "#    return sum[(u-v)**2 for u,v in zip(x,y)]"
   ]
  },
  {
   "cell_type": "code",
   "execution_count": null,
   "id": "9fa6e806-881d-4e87-9c14-139da2dfb67a",
   "metadata": {},
   "outputs": [],
   "source": [
    "sse(y,yh)"
   ]
  },
  {
   "cell_type": "code",
   "execution_count": 25,
   "id": "96478c70-8698-49bd-aefd-5e29c06da5aa",
   "metadata": {},
   "outputs": [],
   "source": [
    "#m is my model\n",
    "#x is the list of points in which I want to predict\n",
    "#m[0]=a , m[1]=b\n",
    "def predict(m,x):\n",
    "    a,b=m\n",
    "    return [a*x+b for x in x]\n",
    "    #return yh = [a*x+b for x in x]"
   ]
  },
  {
   "cell_type": "code",
   "execution_count": null,
   "id": "e9c99ab5-6c4c-4102-a0fb-4e9e4c3e19a6",
   "metadata": {},
   "outputs": [],
   "source": [
    "#def predict(m,x):\n",
    "#    u,v=m\n",
    "#    return [u*x+v for x in x]"
   ]
  },
  {
   "cell_type": "code",
   "execution_count": null,
   "id": "7c70aad4-06a9-4230-b45e-4ddb7d40620c",
   "metadata": {},
   "outputs": [],
   "source": [
    "yh"
   ]
  },
  {
   "cell_type": "code",
   "execution_count": null,
   "id": "70a37e02-65cf-429a-bfc3-5be6c8ddd5f8",
   "metadata": {},
   "outputs": [],
   "source": [
    "predict((a,b),x)"
   ]
  },
  {
   "cell_type": "code",
   "execution_count": null,
   "id": "a716eeb7-0dcb-4d13-b18f-56f97b515289",
   "metadata": {},
   "outputs": [],
   "source": [
    "predict((a,b),x+x) #test"
   ]
  },
  {
   "cell_type": "code",
   "execution_count": null,
   "id": "859b64a2-ae7f-4da8-b889-a216197c11fc",
   "metadata": {},
   "outputs": [],
   "source": [
    "#to build a grid for ax+b in the range -5 to 5 on x and y axises both"
   ]
  },
  {
   "cell_type": "code",
   "execution_count": null,
   "id": "c7859323-cce8-4943-8f75-9cb6d34738ec",
   "metadata": {},
   "outputs": [],
   "source": [
    "# [(a,b) for a in range(20) for b in range(20)]"
   ]
  },
  {
   "cell_type": "code",
   "execution_count": null,
   "id": "368e9100-4c94-4e31-a78d-f40ca5b839c2",
   "metadata": {},
   "outputs": [],
   "source": [
    "a"
   ]
  },
  {
   "cell_type": "code",
   "execution_count": null,
   "id": "cc415778-ccf0-45db-836b-561efec54262",
   "metadata": {},
   "outputs": [],
   "source": [
    "[(a,b) for a in range(-5,5) for b in range(-5,5)]"
   ]
  },
  {
   "cell_type": "code",
   "execution_count": null,
   "id": "fa21471e-b518-4da0-bef6-242c6f6df37a",
   "metadata": {},
   "outputs": [],
   "source": [
    "range?"
   ]
  },
  {
   "cell_type": "code",
   "execution_count": null,
   "id": "7cf79f3f-81a8-4e61-b551-d24b738856ea",
   "metadata": {},
   "outputs": [],
   "source": [
    "[x for x in range(-5,5,-.1)]"
   ]
  },
  {
   "cell_type": "code",
   "execution_count": 19,
   "id": "963edd07-8f9c-430d-8b1c-d972007ee732",
   "metadata": {
    "collapsed": true,
    "jupyter": {
     "outputs_hidden": true
    }
   },
   "outputs": [
    {
     "data": {
      "text/plain": [
       "[(-5.0, -5.0),\n",
       " (-5.0, -4.5),\n",
       " (-5.0, -4.0),\n",
       " (-5.0, -3.5),\n",
       " (-5.0, -3.0),\n",
       " (-5.0, -2.5),\n",
       " (-5.0, -2.0),\n",
       " (-5.0, -1.5),\n",
       " (-5.0, -1.0),\n",
       " (-5.0, -0.5),\n",
       " (-5.0, 0.0),\n",
       " (-5.0, 0.5),\n",
       " (-5.0, 1.0),\n",
       " (-5.0, 1.5),\n",
       " (-5.0, 2.0),\n",
       " (-5.0, 2.5),\n",
       " (-5.0, 3.0),\n",
       " (-5.0, 3.5),\n",
       " (-5.0, 4.0),\n",
       " (-5.0, 4.5),\n",
       " (-4.5, -5.0),\n",
       " (-4.5, -4.5),\n",
       " (-4.5, -4.0),\n",
       " (-4.5, -3.5),\n",
       " (-4.5, -3.0),\n",
       " (-4.5, -2.5),\n",
       " (-4.5, -2.0),\n",
       " (-4.5, -1.5),\n",
       " (-4.5, -1.0),\n",
       " (-4.5, -0.5),\n",
       " (-4.5, 0.0),\n",
       " (-4.5, 0.5),\n",
       " (-4.5, 1.0),\n",
       " (-4.5, 1.5),\n",
       " (-4.5, 2.0),\n",
       " (-4.5, 2.5),\n",
       " (-4.5, 3.0),\n",
       " (-4.5, 3.5),\n",
       " (-4.5, 4.0),\n",
       " (-4.5, 4.5),\n",
       " (-4.0, -5.0),\n",
       " (-4.0, -4.5),\n",
       " (-4.0, -4.0),\n",
       " (-4.0, -3.5),\n",
       " (-4.0, -3.0),\n",
       " (-4.0, -2.5),\n",
       " (-4.0, -2.0),\n",
       " (-4.0, -1.5),\n",
       " (-4.0, -1.0),\n",
       " (-4.0, -0.5),\n",
       " (-4.0, 0.0),\n",
       " (-4.0, 0.5),\n",
       " (-4.0, 1.0),\n",
       " (-4.0, 1.5),\n",
       " (-4.0, 2.0),\n",
       " (-4.0, 2.5),\n",
       " (-4.0, 3.0),\n",
       " (-4.0, 3.5),\n",
       " (-4.0, 4.0),\n",
       " (-4.0, 4.5),\n",
       " (-3.5, -5.0),\n",
       " (-3.5, -4.5),\n",
       " (-3.5, -4.0),\n",
       " (-3.5, -3.5),\n",
       " (-3.5, -3.0),\n",
       " (-3.5, -2.5),\n",
       " (-3.5, -2.0),\n",
       " (-3.5, -1.5),\n",
       " (-3.5, -1.0),\n",
       " (-3.5, -0.5),\n",
       " (-3.5, 0.0),\n",
       " (-3.5, 0.5),\n",
       " (-3.5, 1.0),\n",
       " (-3.5, 1.5),\n",
       " (-3.5, 2.0),\n",
       " (-3.5, 2.5),\n",
       " (-3.5, 3.0),\n",
       " (-3.5, 3.5),\n",
       " (-3.5, 4.0),\n",
       " (-3.5, 4.5),\n",
       " (-3.0, -5.0),\n",
       " (-3.0, -4.5),\n",
       " (-3.0, -4.0),\n",
       " (-3.0, -3.5),\n",
       " (-3.0, -3.0),\n",
       " (-3.0, -2.5),\n",
       " (-3.0, -2.0),\n",
       " (-3.0, -1.5),\n",
       " (-3.0, -1.0),\n",
       " (-3.0, -0.5),\n",
       " (-3.0, 0.0),\n",
       " (-3.0, 0.5),\n",
       " (-3.0, 1.0),\n",
       " (-3.0, 1.5),\n",
       " (-3.0, 2.0),\n",
       " (-3.0, 2.5),\n",
       " (-3.0, 3.0),\n",
       " (-3.0, 3.5),\n",
       " (-3.0, 4.0),\n",
       " (-3.0, 4.5),\n",
       " (-2.5, -5.0),\n",
       " (-2.5, -4.5),\n",
       " (-2.5, -4.0),\n",
       " (-2.5, -3.5),\n",
       " (-2.5, -3.0),\n",
       " (-2.5, -2.5),\n",
       " (-2.5, -2.0),\n",
       " (-2.5, -1.5),\n",
       " (-2.5, -1.0),\n",
       " (-2.5, -0.5),\n",
       " (-2.5, 0.0),\n",
       " (-2.5, 0.5),\n",
       " (-2.5, 1.0),\n",
       " (-2.5, 1.5),\n",
       " (-2.5, 2.0),\n",
       " (-2.5, 2.5),\n",
       " (-2.5, 3.0),\n",
       " (-2.5, 3.5),\n",
       " (-2.5, 4.0),\n",
       " (-2.5, 4.5),\n",
       " (-2.0, -5.0),\n",
       " (-2.0, -4.5),\n",
       " (-2.0, -4.0),\n",
       " (-2.0, -3.5),\n",
       " (-2.0, -3.0),\n",
       " (-2.0, -2.5),\n",
       " (-2.0, -2.0),\n",
       " (-2.0, -1.5),\n",
       " (-2.0, -1.0),\n",
       " (-2.0, -0.5),\n",
       " (-2.0, 0.0),\n",
       " (-2.0, 0.5),\n",
       " (-2.0, 1.0),\n",
       " (-2.0, 1.5),\n",
       " (-2.0, 2.0),\n",
       " (-2.0, 2.5),\n",
       " (-2.0, 3.0),\n",
       " (-2.0, 3.5),\n",
       " (-2.0, 4.0),\n",
       " (-2.0, 4.5),\n",
       " (-1.5, -5.0),\n",
       " (-1.5, -4.5),\n",
       " (-1.5, -4.0),\n",
       " (-1.5, -3.5),\n",
       " (-1.5, -3.0),\n",
       " (-1.5, -2.5),\n",
       " (-1.5, -2.0),\n",
       " (-1.5, -1.5),\n",
       " (-1.5, -1.0),\n",
       " (-1.5, -0.5),\n",
       " (-1.5, 0.0),\n",
       " (-1.5, 0.5),\n",
       " (-1.5, 1.0),\n",
       " (-1.5, 1.5),\n",
       " (-1.5, 2.0),\n",
       " (-1.5, 2.5),\n",
       " (-1.5, 3.0),\n",
       " (-1.5, 3.5),\n",
       " (-1.5, 4.0),\n",
       " (-1.5, 4.5),\n",
       " (-1.0, -5.0),\n",
       " (-1.0, -4.5),\n",
       " (-1.0, -4.0),\n",
       " (-1.0, -3.5),\n",
       " (-1.0, -3.0),\n",
       " (-1.0, -2.5),\n",
       " (-1.0, -2.0),\n",
       " (-1.0, -1.5),\n",
       " (-1.0, -1.0),\n",
       " (-1.0, -0.5),\n",
       " (-1.0, 0.0),\n",
       " (-1.0, 0.5),\n",
       " (-1.0, 1.0),\n",
       " (-1.0, 1.5),\n",
       " (-1.0, 2.0),\n",
       " (-1.0, 2.5),\n",
       " (-1.0, 3.0),\n",
       " (-1.0, 3.5),\n",
       " (-1.0, 4.0),\n",
       " (-1.0, 4.5),\n",
       " (-0.5, -5.0),\n",
       " (-0.5, -4.5),\n",
       " (-0.5, -4.0),\n",
       " (-0.5, -3.5),\n",
       " (-0.5, -3.0),\n",
       " (-0.5, -2.5),\n",
       " (-0.5, -2.0),\n",
       " (-0.5, -1.5),\n",
       " (-0.5, -1.0),\n",
       " (-0.5, -0.5),\n",
       " (-0.5, 0.0),\n",
       " (-0.5, 0.5),\n",
       " (-0.5, 1.0),\n",
       " (-0.5, 1.5),\n",
       " (-0.5, 2.0),\n",
       " (-0.5, 2.5),\n",
       " (-0.5, 3.0),\n",
       " (-0.5, 3.5),\n",
       " (-0.5, 4.0),\n",
       " (-0.5, 4.5),\n",
       " (0.0, -5.0),\n",
       " (0.0, -4.5),\n",
       " (0.0, -4.0),\n",
       " (0.0, -3.5),\n",
       " (0.0, -3.0),\n",
       " (0.0, -2.5),\n",
       " (0.0, -2.0),\n",
       " (0.0, -1.5),\n",
       " (0.0, -1.0),\n",
       " (0.0, -0.5),\n",
       " (0.0, 0.0),\n",
       " (0.0, 0.5),\n",
       " (0.0, 1.0),\n",
       " (0.0, 1.5),\n",
       " (0.0, 2.0),\n",
       " (0.0, 2.5),\n",
       " (0.0, 3.0),\n",
       " (0.0, 3.5),\n",
       " (0.0, 4.0),\n",
       " (0.0, 4.5),\n",
       " (0.5, -5.0),\n",
       " (0.5, -4.5),\n",
       " (0.5, -4.0),\n",
       " (0.5, -3.5),\n",
       " (0.5, -3.0),\n",
       " (0.5, -2.5),\n",
       " (0.5, -2.0),\n",
       " (0.5, -1.5),\n",
       " (0.5, -1.0),\n",
       " (0.5, -0.5),\n",
       " (0.5, 0.0),\n",
       " (0.5, 0.5),\n",
       " (0.5, 1.0),\n",
       " (0.5, 1.5),\n",
       " (0.5, 2.0),\n",
       " (0.5, 2.5),\n",
       " (0.5, 3.0),\n",
       " (0.5, 3.5),\n",
       " (0.5, 4.0),\n",
       " (0.5, 4.5),\n",
       " (1.0, -5.0),\n",
       " (1.0, -4.5),\n",
       " (1.0, -4.0),\n",
       " (1.0, -3.5),\n",
       " (1.0, -3.0),\n",
       " (1.0, -2.5),\n",
       " (1.0, -2.0),\n",
       " (1.0, -1.5),\n",
       " (1.0, -1.0),\n",
       " (1.0, -0.5),\n",
       " (1.0, 0.0),\n",
       " (1.0, 0.5),\n",
       " (1.0, 1.0),\n",
       " (1.0, 1.5),\n",
       " (1.0, 2.0),\n",
       " (1.0, 2.5),\n",
       " (1.0, 3.0),\n",
       " (1.0, 3.5),\n",
       " (1.0, 4.0),\n",
       " (1.0, 4.5),\n",
       " (1.5, -5.0),\n",
       " (1.5, -4.5),\n",
       " (1.5, -4.0),\n",
       " (1.5, -3.5),\n",
       " (1.5, -3.0),\n",
       " (1.5, -2.5),\n",
       " (1.5, -2.0),\n",
       " (1.5, -1.5),\n",
       " (1.5, -1.0),\n",
       " (1.5, -0.5),\n",
       " (1.5, 0.0),\n",
       " (1.5, 0.5),\n",
       " (1.5, 1.0),\n",
       " (1.5, 1.5),\n",
       " (1.5, 2.0),\n",
       " (1.5, 2.5),\n",
       " (1.5, 3.0),\n",
       " (1.5, 3.5),\n",
       " (1.5, 4.0),\n",
       " (1.5, 4.5),\n",
       " (2.0, -5.0),\n",
       " (2.0, -4.5),\n",
       " (2.0, -4.0),\n",
       " (2.0, -3.5),\n",
       " (2.0, -3.0),\n",
       " (2.0, -2.5),\n",
       " (2.0, -2.0),\n",
       " (2.0, -1.5),\n",
       " (2.0, -1.0),\n",
       " (2.0, -0.5),\n",
       " (2.0, 0.0),\n",
       " (2.0, 0.5),\n",
       " (2.0, 1.0),\n",
       " (2.0, 1.5),\n",
       " (2.0, 2.0),\n",
       " (2.0, 2.5),\n",
       " (2.0, 3.0),\n",
       " (2.0, 3.5),\n",
       " (2.0, 4.0),\n",
       " (2.0, 4.5),\n",
       " (2.5, -5.0),\n",
       " (2.5, -4.5),\n",
       " (2.5, -4.0),\n",
       " (2.5, -3.5),\n",
       " (2.5, -3.0),\n",
       " (2.5, -2.5),\n",
       " (2.5, -2.0),\n",
       " (2.5, -1.5),\n",
       " (2.5, -1.0),\n",
       " (2.5, -0.5),\n",
       " (2.5, 0.0),\n",
       " (2.5, 0.5),\n",
       " (2.5, 1.0),\n",
       " (2.5, 1.5),\n",
       " (2.5, 2.0),\n",
       " (2.5, 2.5),\n",
       " (2.5, 3.0),\n",
       " (2.5, 3.5),\n",
       " (2.5, 4.0),\n",
       " (2.5, 4.5),\n",
       " (3.0, -5.0),\n",
       " (3.0, -4.5),\n",
       " (3.0, -4.0),\n",
       " (3.0, -3.5),\n",
       " (3.0, -3.0),\n",
       " (3.0, -2.5),\n",
       " (3.0, -2.0),\n",
       " (3.0, -1.5),\n",
       " (3.0, -1.0),\n",
       " (3.0, -0.5),\n",
       " (3.0, 0.0),\n",
       " (3.0, 0.5),\n",
       " (3.0, 1.0),\n",
       " (3.0, 1.5),\n",
       " (3.0, 2.0),\n",
       " (3.0, 2.5),\n",
       " (3.0, 3.0),\n",
       " (3.0, 3.5),\n",
       " (3.0, 4.0),\n",
       " (3.0, 4.5),\n",
       " (3.5, -5.0),\n",
       " (3.5, -4.5),\n",
       " (3.5, -4.0),\n",
       " (3.5, -3.5),\n",
       " (3.5, -3.0),\n",
       " (3.5, -2.5),\n",
       " (3.5, -2.0),\n",
       " (3.5, -1.5),\n",
       " (3.5, -1.0),\n",
       " (3.5, -0.5),\n",
       " (3.5, 0.0),\n",
       " (3.5, 0.5),\n",
       " (3.5, 1.0),\n",
       " (3.5, 1.5),\n",
       " (3.5, 2.0),\n",
       " (3.5, 2.5),\n",
       " (3.5, 3.0),\n",
       " (3.5, 3.5),\n",
       " (3.5, 4.0),\n",
       " (3.5, 4.5),\n",
       " (4.0, -5.0),\n",
       " (4.0, -4.5),\n",
       " (4.0, -4.0),\n",
       " (4.0, -3.5),\n",
       " (4.0, -3.0),\n",
       " (4.0, -2.5),\n",
       " (4.0, -2.0),\n",
       " (4.0, -1.5),\n",
       " (4.0, -1.0),\n",
       " (4.0, -0.5),\n",
       " (4.0, 0.0),\n",
       " (4.0, 0.5),\n",
       " (4.0, 1.0),\n",
       " (4.0, 1.5),\n",
       " (4.0, 2.0),\n",
       " (4.0, 2.5),\n",
       " (4.0, 3.0),\n",
       " (4.0, 3.5),\n",
       " (4.0, 4.0),\n",
       " (4.0, 4.5),\n",
       " (4.5, -5.0),\n",
       " (4.5, -4.5),\n",
       " (4.5, -4.0),\n",
       " (4.5, -3.5),\n",
       " (4.5, -3.0),\n",
       " (4.5, -2.5),\n",
       " (4.5, -2.0),\n",
       " (4.5, -1.5),\n",
       " (4.5, -1.0),\n",
       " (4.5, -0.5),\n",
       " (4.5, 0.0),\n",
       " (4.5, 0.5),\n",
       " (4.5, 1.0),\n",
       " (4.5, 1.5),\n",
       " (4.5, 2.0),\n",
       " (4.5, 2.5),\n",
       " (4.5, 3.0),\n",
       " (4.5, 3.5),\n",
       " (4.5, 4.0),\n",
       " (4.5, 4.5)]"
      ]
     },
     "execution_count": 19,
     "metadata": {},
     "output_type": "execute_result"
    }
   ],
   "source": [
    "g=[(a/2-5,b/2-5) for a in range(20) for b in range(20)]\n",
    "g"
   ]
  },
  {
   "cell_type": "code",
   "execution_count": 20,
   "id": "4f617c4e-7d72-4ee8-be42-12a1aa3a2425",
   "metadata": {},
   "outputs": [
    {
     "data": {
      "text/plain": [
       "[<matplotlib.lines.Line2D at 0x7f5d0498b880>,\n",
       " <matplotlib.lines.Line2D at 0x7f5d0498b8b0>]"
      ]
     },
     "execution_count": 20,
     "metadata": {},
     "output_type": "execute_result"
    },
    {
     "data": {
      "image/png": "[encoded data removed]",
      "text/plain": [
       "<Figure size 640x480 with 1 Axes>"
      ]
     },
     "metadata": {},
     "output_type": "display_data"
    }
   ],
   "source": [
    "plt.plot(g)"
   ]
  },
  {
   "cell_type": "code",
   "execution_count": null,
   "id": "bc370204-f967-470c-b5ba-882b5721c8e6",
   "metadata": {},
   "outputs": [],
   "source": [
    "plt.plot(g,'*')"
   ]
  },
  {
   "cell_type": "code",
   "execution_count": null,
   "id": "e7021129-316d-4126-8426-3e4e7d9d23ff",
   "metadata": {
    "scrolled": true
   },
   "outputs": [],
   "source": [
    "g[5]"
   ]
  },
  {
   "cell_type": "code",
   "execution_count": null,
   "id": "87cc056e-83ab-4bdf-9954-a37577327c7d",
   "metadata": {},
   "outputs": [],
   "source": [
    "for i in range(len(g)):\n",
    "    plt.plot(g[i][0],g[i][1],'.k')"
   ]
  },
  {
   "cell_type": "code",
   "execution_count": null,
   "id": "b1277805-645d-4897-84f1-9d0ec4a9902f",
   "metadata": {},
   "outputs": [],
   "source": [
    "x"
   ]
  },
  {
   "cell_type": "code",
   "execution_count": null,
   "id": "2ef3e9ef-6168-478b-8f0b-8c7594c544de",
   "metadata": {},
   "outputs": [],
   "source": [
    "sse(y,predict(g[5],x))"
   ]
  },
  {
   "cell_type": "code",
   "execution_count": null,
   "id": "e1ea8fe0-fe4a-4062-a24a-f92c6d5a14d5",
   "metadata": {},
   "outputs": [],
   "source": [
    "x[0]"
   ]
  },
  {
   "cell_type": "code",
   "execution_count": null,
   "id": "05749fe2-d080-44f9-aa5c-cf22a3aa6d71",
   "metadata": {},
   "outputs": [],
   "source": [
    "sse(y,predict(g[5],x))"
   ]
  },
  {
   "cell_type": "code",
   "execution_count": null,
   "id": "cb925e29-7eda-40a3-8da6-8a6e0c502b3b",
   "metadata": {},
   "outputs": [],
   "source": [
    "g[5]"
   ]
  },
  {
   "cell_type": "code",
   "execution_count": null,
   "id": "0e8eb4f1-b90c-467f-b03f-5958c3eeaf88",
   "metadata": {},
   "outputs": [],
   "source": [
    "len(g)"
   ]
  },
  {
   "cell_type": "code",
   "execution_count": 27,
   "id": "ab576340-203a-4b22-926d-619fcf4322a2",
   "metadata": {},
   "outputs": [
    {
     "data": {
      "text/plain": [
       "[1, 4, 15, 25]"
      ]
     },
     "execution_count": 27,
     "metadata": {},
     "output_type": "execute_result"
    }
   ],
   "source": [
    "y"
   ]
  },
  {
   "cell_type": "code",
   "execution_count": 28,
   "id": "973a0ccc-191c-436f-9694-4461c760d6dc",
   "metadata": {
    "collapsed": true,
    "jupyter": {
     "outputs_hidden": true
    }
   },
   "outputs": [
    {
     "data": {
      "text/plain": [
       "[(-5.0, -5.0),\n",
       " (-5.0, -4.5),\n",
       " (-5.0, -4.0),\n",
       " (-5.0, -3.5),\n",
       " (-5.0, -3.0),\n",
       " (-5.0, -2.5),\n",
       " (-5.0, -2.0),\n",
       " (-5.0, -1.5),\n",
       " (-5.0, -1.0),\n",
       " (-5.0, -0.5),\n",
       " (-5.0, 0.0),\n",
       " (-5.0, 0.5),\n",
       " (-5.0, 1.0),\n",
       " (-5.0, 1.5),\n",
       " (-5.0, 2.0),\n",
       " (-5.0, 2.5),\n",
       " (-5.0, 3.0),\n",
       " (-5.0, 3.5),\n",
       " (-5.0, 4.0),\n",
       " (-5.0, 4.5),\n",
       " (-4.5, -5.0),\n",
       " (-4.5, -4.5),\n",
       " (-4.5, -4.0),\n",
       " (-4.5, -3.5),\n",
       " (-4.5, -3.0),\n",
       " (-4.5, -2.5),\n",
       " (-4.5, -2.0),\n",
       " (-4.5, -1.5),\n",
       " (-4.5, -1.0),\n",
       " (-4.5, -0.5),\n",
       " (-4.5, 0.0),\n",
       " (-4.5, 0.5),\n",
       " (-4.5, 1.0),\n",
       " (-4.5, 1.5),\n",
       " (-4.5, 2.0),\n",
       " (-4.5, 2.5),\n",
       " (-4.5, 3.0),\n",
       " (-4.5, 3.5),\n",
       " (-4.5, 4.0),\n",
       " (-4.5, 4.5),\n",
       " (-4.0, -5.0),\n",
       " (-4.0, -4.5),\n",
       " (-4.0, -4.0),\n",
       " (-4.0, -3.5),\n",
       " (-4.0, -3.0),\n",
       " (-4.0, -2.5),\n",
       " (-4.0, -2.0),\n",
       " (-4.0, -1.5),\n",
       " (-4.0, -1.0),\n",
       " (-4.0, -0.5),\n",
       " (-4.0, 0.0),\n",
       " (-4.0, 0.5),\n",
       " (-4.0, 1.0),\n",
       " (-4.0, 1.5),\n",
       " (-4.0, 2.0),\n",
       " (-4.0, 2.5),\n",
       " (-4.0, 3.0),\n",
       " (-4.0, 3.5),\n",
       " (-4.0, 4.0),\n",
       " (-4.0, 4.5),\n",
       " (-3.5, -5.0),\n",
       " (-3.5, -4.5),\n",
       " (-3.5, -4.0),\n",
       " (-3.5, -3.5),\n",
       " (-3.5, -3.0),\n",
       " (-3.5, -2.5),\n",
       " (-3.5, -2.0),\n",
       " (-3.5, -1.5),\n",
       " (-3.5, -1.0),\n",
       " (-3.5, -0.5),\n",
       " (-3.5, 0.0),\n",
       " (-3.5, 0.5),\n",
       " (-3.5, 1.0),\n",
       " (-3.5, 1.5),\n",
       " (-3.5, 2.0),\n",
       " (-3.5, 2.5),\n",
       " (-3.5, 3.0),\n",
       " (-3.5, 3.5),\n",
       " (-3.5, 4.0),\n",
       " (-3.5, 4.5),\n",
       " (-3.0, -5.0),\n",
       " (-3.0, -4.5),\n",
       " (-3.0, -4.0),\n",
       " (-3.0, -3.5),\n",
       " (-3.0, -3.0),\n",
       " (-3.0, -2.5),\n",
       " (-3.0, -2.0),\n",
       " (-3.0, -1.5),\n",
       " (-3.0, -1.0),\n",
       " (-3.0, -0.5),\n",
       " (-3.0, 0.0),\n",
       " (-3.0, 0.5),\n",
       " (-3.0, 1.0),\n",
       " (-3.0, 1.5),\n",
       " (-3.0, 2.0),\n",
       " (-3.0, 2.5),\n",
       " (-3.0, 3.0),\n",
       " (-3.0, 3.5),\n",
       " (-3.0, 4.0),\n",
       " (-3.0, 4.5),\n",
       " (-2.5, -5.0),\n",
       " (-2.5, -4.5),\n",
       " (-2.5, -4.0),\n",
       " (-2.5, -3.5),\n",
       " (-2.5, -3.0),\n",
       " (-2.5, -2.5),\n",
       " (-2.5, -2.0),\n",
       " (-2.5, -1.5),\n",
       " (-2.5, -1.0),\n",
       " (-2.5, -0.5),\n",
       " (-2.5, 0.0),\n",
       " (-2.5, 0.5),\n",
       " (-2.5, 1.0),\n",
       " (-2.5, 1.5),\n",
       " (-2.5, 2.0),\n",
       " (-2.5, 2.5),\n",
       " (-2.5, 3.0),\n",
       " (-2.5, 3.5),\n",
       " (-2.5, 4.0),\n",
       " (-2.5, 4.5),\n",
       " (-2.0, -5.0),\n",
       " (-2.0, -4.5),\n",
       " (-2.0, -4.0),\n",
       " (-2.0, -3.5),\n",
       " (-2.0, -3.0),\n",
       " (-2.0, -2.5),\n",
       " (-2.0, -2.0),\n",
       " (-2.0, -1.5),\n",
       " (-2.0, -1.0),\n",
       " (-2.0, -0.5),\n",
       " (-2.0, 0.0),\n",
       " (-2.0, 0.5),\n",
       " (-2.0, 1.0),\n",
       " (-2.0, 1.5),\n",
       " (-2.0, 2.0),\n",
       " (-2.0, 2.5),\n",
       " (-2.0, 3.0),\n",
       " (-2.0, 3.5),\n",
       " (-2.0, 4.0),\n",
       " (-2.0, 4.5),\n",
       " (-1.5, -5.0),\n",
       " (-1.5, -4.5),\n",
       " (-1.5, -4.0),\n",
       " (-1.5, -3.5),\n",
       " (-1.5, -3.0),\n",
       " (-1.5, -2.5),\n",
       " (-1.5, -2.0),\n",
       " (-1.5, -1.5),\n",
       " (-1.5, -1.0),\n",
       " (-1.5, -0.5),\n",
       " (-1.5, 0.0),\n",
       " (-1.5, 0.5),\n",
       " (-1.5, 1.0),\n",
       " (-1.5, 1.5),\n",
       " (-1.5, 2.0),\n",
       " (-1.5, 2.5),\n",
       " (-1.5, 3.0),\n",
       " (-1.5, 3.5),\n",
       " (-1.5, 4.0),\n",
       " (-1.5, 4.5),\n",
       " (-1.0, -5.0),\n",
       " (-1.0, -4.5),\n",
       " (-1.0, -4.0),\n",
       " (-1.0, -3.5),\n",
       " (-1.0, -3.0),\n",
       " (-1.0, -2.5),\n",
       " (-1.0, -2.0),\n",
       " (-1.0, -1.5),\n",
       " (-1.0, -1.0),\n",
       " (-1.0, -0.5),\n",
       " (-1.0, 0.0),\n",
       " (-1.0, 0.5),\n",
       " (-1.0, 1.0),\n",
       " (-1.0, 1.5),\n",
       " (-1.0, 2.0),\n",
       " (-1.0, 2.5),\n",
       " (-1.0, 3.0),\n",
       " (-1.0, 3.5),\n",
       " (-1.0, 4.0),\n",
       " (-1.0, 4.5),\n",
       " (-0.5, -5.0),\n",
       " (-0.5, -4.5),\n",
       " (-0.5, -4.0),\n",
       " (-0.5, -3.5),\n",
       " (-0.5, -3.0),\n",
       " (-0.5, -2.5),\n",
       " (-0.5, -2.0),\n",
       " (-0.5, -1.5),\n",
       " (-0.5, -1.0),\n",
       " (-0.5, -0.5),\n",
       " (-0.5, 0.0),\n",
       " (-0.5, 0.5),\n",
       " (-0.5, 1.0),\n",
       " (-0.5, 1.5),\n",
       " (-0.5, 2.0),\n",
       " (-0.5, 2.5),\n",
       " (-0.5, 3.0),\n",
       " (-0.5, 3.5),\n",
       " (-0.5, 4.0),\n",
       " (-0.5, 4.5),\n",
       " (0.0, -5.0),\n",
       " (0.0, -4.5),\n",
       " (0.0, -4.0),\n",
       " (0.0, -3.5),\n",
       " (0.0, -3.0),\n",
       " (0.0, -2.5),\n",
       " (0.0, -2.0),\n",
       " (0.0, -1.5),\n",
       " (0.0, -1.0),\n",
       " (0.0, -0.5),\n",
       " (0.0, 0.0),\n",
       " (0.0, 0.5),\n",
       " (0.0, 1.0),\n",
       " (0.0, 1.5),\n",
       " (0.0, 2.0),\n",
       " (0.0, 2.5),\n",
       " (0.0, 3.0),\n",
       " (0.0, 3.5),\n",
       " (0.0, 4.0),\n",
       " (0.0, 4.5),\n",
       " (0.5, -5.0),\n",
       " (0.5, -4.5),\n",
       " (0.5, -4.0),\n",
       " (0.5, -3.5),\n",
       " (0.5, -3.0),\n",
       " (0.5, -2.5),\n",
       " (0.5, -2.0),\n",
       " (0.5, -1.5),\n",
       " (0.5, -1.0),\n",
       " (0.5, -0.5),\n",
       " (0.5, 0.0),\n",
       " (0.5, 0.5),\n",
       " (0.5, 1.0),\n",
       " (0.5, 1.5),\n",
       " (0.5, 2.0),\n",
       " (0.5, 2.5),\n",
       " (0.5, 3.0),\n",
       " (0.5, 3.5),\n",
       " (0.5, 4.0),\n",
       " (0.5, 4.5),\n",
       " (1.0, -5.0),\n",
       " (1.0, -4.5),\n",
       " (1.0, -4.0),\n",
       " (1.0, -3.5),\n",
       " (1.0, -3.0),\n",
       " (1.0, -2.5),\n",
       " (1.0, -2.0),\n",
       " (1.0, -1.5),\n",
       " (1.0, -1.0),\n",
       " (1.0, -0.5),\n",
       " (1.0, 0.0),\n",
       " (1.0, 0.5),\n",
       " (1.0, 1.0),\n",
       " (1.0, 1.5),\n",
       " (1.0, 2.0),\n",
       " (1.0, 2.5),\n",
       " (1.0, 3.0),\n",
       " (1.0, 3.5),\n",
       " (1.0, 4.0),\n",
       " (1.0, 4.5),\n",
       " (1.5, -5.0),\n",
       " (1.5, -4.5),\n",
       " (1.5, -4.0),\n",
       " (1.5, -3.5),\n",
       " (1.5, -3.0),\n",
       " (1.5, -2.5),\n",
       " (1.5, -2.0),\n",
       " (1.5, -1.5),\n",
       " (1.5, -1.0),\n",
       " (1.5, -0.5),\n",
       " (1.5, 0.0),\n",
       " (1.5, 0.5),\n",
       " (1.5, 1.0),\n",
       " (1.5, 1.5),\n",
       " (1.5, 2.0),\n",
       " (1.5, 2.5),\n",
       " (1.5, 3.0),\n",
       " (1.5, 3.5),\n",
       " (1.5, 4.0),\n",
       " (1.5, 4.5),\n",
       " (2.0, -5.0),\n",
       " (2.0, -4.5),\n",
       " (2.0, -4.0),\n",
       " (2.0, -3.5),\n",
       " (2.0, -3.0),\n",
       " (2.0, -2.5),\n",
       " (2.0, -2.0),\n",
       " (2.0, -1.5),\n",
       " (2.0, -1.0),\n",
       " (2.0, -0.5),\n",
       " (2.0, 0.0),\n",
       " (2.0, 0.5),\n",
       " (2.0, 1.0),\n",
       " (2.0, 1.5),\n",
       " (2.0, 2.0),\n",
       " (2.0, 2.5),\n",
       " (2.0, 3.0),\n",
       " (2.0, 3.5),\n",
       " (2.0, 4.0),\n",
       " (2.0, 4.5),\n",
       " (2.5, -5.0),\n",
       " (2.5, -4.5),\n",
       " (2.5, -4.0),\n",
       " (2.5, -3.5),\n",
       " (2.5, -3.0),\n",
       " (2.5, -2.5),\n",
       " (2.5, -2.0),\n",
       " (2.5, -1.5),\n",
       " (2.5, -1.0),\n",
       " (2.5, -0.5),\n",
       " (2.5, 0.0),\n",
       " (2.5, 0.5),\n",
       " (2.5, 1.0),\n",
       " (2.5, 1.5),\n",
       " (2.5, 2.0),\n",
       " (2.5, 2.5),\n",
       " (2.5, 3.0),\n",
       " (2.5, 3.5),\n",
       " (2.5, 4.0),\n",
       " (2.5, 4.5),\n",
       " (3.0, -5.0),\n",
       " (3.0, -4.5),\n",
       " (3.0, -4.0),\n",
       " (3.0, -3.5),\n",
       " (3.0, -3.0),\n",
       " (3.0, -2.5),\n",
       " (3.0, -2.0),\n",
       " (3.0, -1.5),\n",
       " (3.0, -1.0),\n",
       " (3.0, -0.5),\n",
       " (3.0, 0.0),\n",
       " (3.0, 0.5),\n",
       " (3.0, 1.0),\n",
       " (3.0, 1.5),\n",
       " (3.0, 2.0),\n",
       " (3.0, 2.5),\n",
       " (3.0, 3.0),\n",
       " (3.0, 3.5),\n",
       " (3.0, 4.0),\n",
       " (3.0, 4.5),\n",
       " (3.5, -5.0),\n",
       " (3.5, -4.5),\n",
       " (3.5, -4.0),\n",
       " (3.5, -3.5),\n",
       " (3.5, -3.0),\n",
       " (3.5, -2.5),\n",
       " (3.5, -2.0),\n",
       " (3.5, -1.5),\n",
       " (3.5, -1.0),\n",
       " (3.5, -0.5),\n",
       " (3.5, 0.0),\n",
       " (3.5, 0.5),\n",
       " (3.5, 1.0),\n",
       " (3.5, 1.5),\n",
       " (3.5, 2.0),\n",
       " (3.5, 2.5),\n",
       " (3.5, 3.0),\n",
       " (3.5, 3.5),\n",
       " (3.5, 4.0),\n",
       " (3.5, 4.5),\n",
       " (4.0, -5.0),\n",
       " (4.0, -4.5),\n",
       " (4.0, -4.0),\n",
       " (4.0, -3.5),\n",
       " (4.0, -3.0),\n",
       " (4.0, -2.5),\n",
       " (4.0, -2.0),\n",
       " (4.0, -1.5),\n",
       " (4.0, -1.0),\n",
       " (4.0, -0.5),\n",
       " (4.0, 0.0),\n",
       " (4.0, 0.5),\n",
       " (4.0, 1.0),\n",
       " (4.0, 1.5),\n",
       " (4.0, 2.0),\n",
       " (4.0, 2.5),\n",
       " (4.0, 3.0),\n",
       " (4.0, 3.5),\n",
       " (4.0, 4.0),\n",
       " (4.0, 4.5),\n",
       " (4.5, -5.0),\n",
       " (4.5, -4.5),\n",
       " (4.5, -4.0),\n",
       " (4.5, -3.5),\n",
       " (4.5, -3.0),\n",
       " (4.5, -2.5),\n",
       " (4.5, -2.0),\n",
       " (4.5, -1.5),\n",
       " (4.5, -1.0),\n",
       " (4.5, -0.5),\n",
       " (4.5, 0.0),\n",
       " (4.5, 0.5),\n",
       " (4.5, 1.0),\n",
       " (4.5, 1.5),\n",
       " (4.5, 2.0),\n",
       " (4.5, 2.5),\n",
       " (4.5, 3.0),\n",
       " (4.5, 3.5),\n",
       " (4.5, 4.0),\n",
       " (4.5, 4.5)]"
      ]
     },
     "execution_count": 28,
     "metadata": {},
     "output_type": "execute_result"
    }
   ],
   "source": [
    "g"
   ]
  },
  {
   "cell_type": "code",
   "execution_count": 26,
   "id": "00b7aca5-7e09-4c37-a155-1f903821d4a9",
   "metadata": {
    "scrolled": true
   },
   "outputs": [
    {
     "data": {
      "text/plain": [
       "[8907.0,\n",
       " 8753.0,\n",
       " 8601.0,\n",
       " 8451.0,\n",
       " 8303.0,\n",
       " 8157.0,\n",
       " 8013.0,\n",
       " 7871.0,\n",
       " 7731.0,\n",
       " 7593.0,\n",
       " 7457.0,\n",
       " 7323.0,\n",
       " 7191.0,\n",
       " 7061.0,\n",
       " 6933.0,\n",
       " 6807.0,\n",
       " 6683.0,\n",
       " 6561.0,\n",
       " 6441.0,\n",
       " 6323.0,\n",
       " 7865.5,\n",
       " 7720.5,\n",
       " 7577.5,\n",
       " 7436.5,\n",
       " 7297.5,\n",
       " 7160.5,\n",
       " 7025.5,\n",
       " 6892.5,\n",
       " 6761.5,\n",
       " 6632.5,\n",
       " 6505.5,\n",
       " 6380.5,\n",
       " 6257.5,\n",
       " 6136.5,\n",
       " 6017.5,\n",
       " 5900.5,\n",
       " 5785.5,\n",
       " 5672.5,\n",
       " 5561.5,\n",
       " 5452.5,\n",
       " 6889.0,\n",
       " 6753.0,\n",
       " 6619.0,\n",
       " 6487.0,\n",
       " 6357.0,\n",
       " 6229.0,\n",
       " 6103.0,\n",
       " 5979.0,\n",
       " 5857.0,\n",
       " 5737.0,\n",
       " 5619.0,\n",
       " 5503.0,\n",
       " 5389.0,\n",
       " 5277.0,\n",
       " 5167.0,\n",
       " 5059.0,\n",
       " 4953.0,\n",
       " 4849.0,\n",
       " 4747.0,\n",
       " 4647.0,\n",
       " 5977.5,\n",
       " 5850.5,\n",
       " 5725.5,\n",
       " 5602.5,\n",
       " 5481.5,\n",
       " 5362.5,\n",
       " 5245.5,\n",
       " 5130.5,\n",
       " 5017.5,\n",
       " 4906.5,\n",
       " 4797.5,\n",
       " 4690.5,\n",
       " 4585.5,\n",
       " 4482.5,\n",
       " 4381.5,\n",
       " 4282.5,\n",
       " 4185.5,\n",
       " 4090.5,\n",
       " 3997.5,\n",
       " 3906.5,\n",
       " 5131.0,\n",
       " 5013.0,\n",
       " 4897.0,\n",
       " 4783.0,\n",
       " 4671.0,\n",
       " 4561.0,\n",
       " 4453.0,\n",
       " 4347.0,\n",
       " 4243.0,\n",
       " 4141.0,\n",
       " 4041.0,\n",
       " 3943.0,\n",
       " 3847.0,\n",
       " 3753.0,\n",
       " 3661.0,\n",
       " 3571.0,\n",
       " 3483.0,\n",
       " 3397.0,\n",
       " 3313.0,\n",
       " 3231.0,\n",
       " 4349.5,\n",
       " 4240.5,\n",
       " 4133.5,\n",
       " 4028.5,\n",
       " 3925.5,\n",
       " 3824.5,\n",
       " 3725.5,\n",
       " 3628.5,\n",
       " 3533.5,\n",
       " 3440.5,\n",
       " 3349.5,\n",
       " 3260.5,\n",
       " 3173.5,\n",
       " 3088.5,\n",
       " 3005.5,\n",
       " 2924.5,\n",
       " 2845.5,\n",
       " 2768.5,\n",
       " 2693.5,\n",
       " 2620.5,\n",
       " 3633.0,\n",
       " 3533.0,\n",
       " 3435.0,\n",
       " 3339.0,\n",
       " 3245.0,\n",
       " 3153.0,\n",
       " 3063.0,\n",
       " 2975.0,\n",
       " 2889.0,\n",
       " 2805.0,\n",
       " 2723.0,\n",
       " 2643.0,\n",
       " 2565.0,\n",
       " 2489.0,\n",
       " 2415.0,\n",
       " 2343.0,\n",
       " 2273.0,\n",
       " 2205.0,\n",
       " 2139.0,\n",
       " 2075.0,\n",
       " 2981.5,\n",
       " 2890.5,\n",
       " 2801.5,\n",
       " 2714.5,\n",
       " 2629.5,\n",
       " 2546.5,\n",
       " 2465.5,\n",
       " 2386.5,\n",
       " 2309.5,\n",
       " 2234.5,\n",
       " 2161.5,\n",
       " 2090.5,\n",
       " 2021.5,\n",
       " 1954.5,\n",
       " 1889.5,\n",
       " 1826.5,\n",
       " 1765.5,\n",
       " 1706.5,\n",
       " 1649.5,\n",
       " 1594.5,\n",
       " 2395.0,\n",
       " 2313.0,\n",
       " 2233.0,\n",
       " 2155.0,\n",
       " 2079.0,\n",
       " 2005.0,\n",
       " 1933.0,\n",
       " 1863.0,\n",
       " 1795.0,\n",
       " 1729.0,\n",
       " 1665.0,\n",
       " 1603.0,\n",
       " 1543.0,\n",
       " 1485.0,\n",
       " 1429.0,\n",
       " 1375.0,\n",
       " 1323.0,\n",
       " 1273.0,\n",
       " 1225.0,\n",
       " 1179.0,\n",
       " 1873.5,\n",
       " 1800.5,\n",
       " 1729.5,\n",
       " 1660.5,\n",
       " 1593.5,\n",
       " 1528.5,\n",
       " 1465.5,\n",
       " 1404.5,\n",
       " 1345.5,\n",
       " 1288.5,\n",
       " 1233.5,\n",
       " 1180.5,\n",
       " 1129.5,\n",
       " 1080.5,\n",
       " 1033.5,\n",
       " 988.5,\n",
       " 945.5,\n",
       " 904.5,\n",
       " 865.5,\n",
       " 828.5,\n",
       " 1417.0,\n",
       " 1353.0,\n",
       " 1291.0,\n",
       " 1231.0,\n",
       " 1173.0,\n",
       " 1117.0,\n",
       " 1063.0,\n",
       " 1011.0,\n",
       " 961.0,\n",
       " 913.0,\n",
       " 867.0,\n",
       " 823.0,\n",
       " 781.0,\n",
       " 741.0,\n",
       " 703.0,\n",
       " 667.0,\n",
       " 633.0,\n",
       " 601.0,\n",
       " 571.0,\n",
       " 543.0,\n",
       " 1025.5,\n",
       " 970.5,\n",
       " 917.5,\n",
       " 866.5,\n",
       " 817.5,\n",
       " 770.5,\n",
       " 725.5,\n",
       " 682.5,\n",
       " 641.5,\n",
       " 602.5,\n",
       " 565.5,\n",
       " 530.5,\n",
       " 497.5,\n",
       " 466.5,\n",
       " 437.5,\n",
       " 410.5,\n",
       " 385.5,\n",
       " 362.5,\n",
       " 341.5,\n",
       " 322.5,\n",
       " 699.0,\n",
       " 653.0,\n",
       " 609.0,\n",
       " 567.0,\n",
       " 527.0,\n",
       " 489.0,\n",
       " 453.0,\n",
       " 419.0,\n",
       " 387.0,\n",
       " 357.0,\n",
       " 329.0,\n",
       " 303.0,\n",
       " 279.0,\n",
       " 257.0,\n",
       " 237.0,\n",
       " 219.0,\n",
       " 203.0,\n",
       " 189.0,\n",
       " 177.0,\n",
       " 167.0,\n",
       " 437.5,\n",
       " 400.5,\n",
       " 365.5,\n",
       " 332.5,\n",
       " 301.5,\n",
       " 272.5,\n",
       " 245.5,\n",
       " 220.5,\n",
       " 197.5,\n",
       " 176.5,\n",
       " 157.5,\n",
       " 140.5,\n",
       " 125.5,\n",
       " 112.5,\n",
       " 101.5,\n",
       " 92.5,\n",
       " 85.5,\n",
       " 80.5,\n",
       " 77.5,\n",
       " 76.5,\n",
       " 241.0,\n",
       " 213.0,\n",
       " 187.0,\n",
       " 163.0,\n",
       " 141.0,\n",
       " 121.0,\n",
       " 103.0,\n",
       " 87.0,\n",
       " 73.0,\n",
       " 61.0,\n",
       " 51.0,\n",
       " 43.0,\n",
       " 37.0,\n",
       " 33.0,\n",
       " 31.0,\n",
       " 31.0,\n",
       " 33.0,\n",
       " 37.0,\n",
       " 43.0,\n",
       " 51.0,\n",
       " 109.5,\n",
       " 90.5,\n",
       " 73.5,\n",
       " 58.5,\n",
       " 45.5,\n",
       " 34.5,\n",
       " 25.5,\n",
       " 18.5,\n",
       " 13.5,\n",
       " 10.5,\n",
       " 9.5,\n",
       " 10.5,\n",
       " 13.5,\n",
       " 18.5,\n",
       " 25.5,\n",
       " 34.5,\n",
       " 45.5,\n",
       " 58.5,\n",
       " 73.5,\n",
       " 90.5,\n",
       " 43.0,\n",
       " 33.0,\n",
       " 25.0,\n",
       " 19.0,\n",
       " 15.0,\n",
       " 13.0,\n",
       " 13.0,\n",
       " 15.0,\n",
       " 19.0,\n",
       " 25.0,\n",
       " 33.0,\n",
       " 43.0,\n",
       " 55.0,\n",
       " 69.0,\n",
       " 85.0,\n",
       " 103.0,\n",
       " 123.0,\n",
       " 145.0,\n",
       " 169.0,\n",
       " 195.0,\n",
       " 41.5,\n",
       " 40.5,\n",
       " 41.5,\n",
       " 44.5,\n",
       " 49.5,\n",
       " 56.5,\n",
       " 65.5,\n",
       " 76.5,\n",
       " 89.5,\n",
       " 104.5,\n",
       " 121.5,\n",
       " 140.5,\n",
       " 161.5,\n",
       " 184.5,\n",
       " 209.5,\n",
       " 236.5,\n",
       " 265.5,\n",
       " 296.5,\n",
       " 329.5,\n",
       " 364.5,\n",
       " 105.0,\n",
       " 113.0,\n",
       " 123.0,\n",
       " 135.0,\n",
       " 149.0,\n",
       " 165.0,\n",
       " 183.0,\n",
       " 203.0,\n",
       " 225.0,\n",
       " 249.0,\n",
       " 275.0,\n",
       " 303.0,\n",
       " 333.0,\n",
       " 365.0,\n",
       " 399.0,\n",
       " 435.0,\n",
       " 473.0,\n",
       " 513.0,\n",
       " 555.0,\n",
       " 599.0,\n",
       " 233.5,\n",
       " 250.5,\n",
       " 269.5,\n",
       " 290.5,\n",
       " 313.5,\n",
       " 338.5,\n",
       " 365.5,\n",
       " 394.5,\n",
       " 425.5,\n",
       " 458.5,\n",
       " 493.5,\n",
       " 530.5,\n",
       " 569.5,\n",
       " 610.5,\n",
       " 653.5,\n",
       " 698.5,\n",
       " 745.5,\n",
       " 794.5,\n",
       " 845.5,\n",
       " 898.5]"
      ]
     },
     "execution_count": 26,
     "metadata": {},
     "output_type": "execute_result"
    }
   ],
   "source": [
    "#collect errors measurementts for all candidates in g\n",
    "[sse(y,predict(m,x)) for m in g]"
   ]
  },
  {
   "cell_type": "code",
   "execution_count": 30,
   "id": "1310453f-432d-44ae-872f-cd8893289573",
   "metadata": {},
   "outputs": [],
   "source": [
    "allerrors=[sse(y,predict(m,x)) for m in g]"
   ]
  },
  {
   "cell_type": "code",
   "execution_count": 31,
   "id": "a8c8afc3-2085-49d1-97dd-ca0ad8641c33",
   "metadata": {},
   "outputs": [
    {
     "data": {
      "text/plain": [
       "[<matplotlib.lines.Line2D at 0x7f5d04877910>]"
      ]
     },
     "execution_count": 31,
     "metadata": {},
     "output_type": "execute_result"
    },
    {
     "data": {
      "image/png": "[encoded data removed]",
      "text/plain": [
       "<Figure size 640x480 with 1 Axes>"
      ]
     },
     "metadata": {},
     "output_type": "display_data"
    }
   ],
   "source": [
    "plt.plot(allerrors,\"*\")"
   ]
  },
  {
   "cell_type": "code",
   "execution_count": 32,
   "id": "6d17ff2f-ba3c-4d54-ad11-544ec6349e35",
   "metadata": {},
   "outputs": [
    {
     "data": {
      "text/plain": [
       "9.5"
      ]
     },
     "execution_count": 32,
     "metadata": {},
     "output_type": "execute_result"
    }
   ],
   "source": [
    "min(allerrors)"
   ]
  },
  {
   "cell_type": "code",
   "execution_count": 33,
   "id": "5aa1c074-f3ef-4952-90a7-5cfaa42023d2",
   "metadata": {
    "scrolled": true
   },
   "outputs": [
    {
     "ename": "NameError",
     "evalue": "name 'argmin' is not defined",
     "output_type": "error",
     "traceback": [
      "\u001b[0;31m---------------------------------------------------------------------------\u001b[0m",
      "\u001b[0;31mNameError\u001b[0m                                 Traceback (most recent call last)",
      "Cell \u001b[0;32mIn[33], line 1\u001b[0m\n\u001b[0;32m----> 1\u001b[0m \u001b[43margmin\u001b[49m\n\u001b[1;32m      2\u001b[0m \u001b[38;5;66;03m#this also gives where the minimum comes. Not just the minimum value\u001b[39;00m\n",
      "\u001b[0;31mNameError\u001b[0m: name 'argmin' is not defined"
     ]
    }
   ],
   "source": [
    "argmin\n",
    "#this also gives where the minimum comes. Not just the minimum value"
   ]
  },
  {
   "cell_type": "code",
   "execution_count": 34,
   "id": "63436fb9-9528-4ca5-8fb3-088943d551d0",
   "metadata": {},
   "outputs": [
    {
     "data": {
      "text/plain": [
       "9.5"
      ]
     },
     "execution_count": 34,
     "metadata": {},
     "output_type": "execute_result"
    }
   ],
   "source": [
    "minerror=min(allerrors)\n",
    "minerror"
   ]
  },
  {
   "cell_type": "code",
   "execution_count": 35,
   "id": "51f2c19a-1bea-415c-9029-51dd9d0890d5",
   "metadata": {},
   "outputs": [
    {
     "data": {
      "text/plain": [
       "1"
      ]
     },
     "execution_count": 35,
     "metadata": {},
     "output_type": "execute_result"
    }
   ],
   "source": [
    "sum([e==minerror for e in allerrors])"
   ]
  },
  {
   "cell_type": "code",
   "execution_count": 36,
   "id": "faf8c8e1-e555-4df0-acb6-75a540659db6",
   "metadata": {},
   "outputs": [
    {
     "data": {
      "text/plain": [
       "[(-5.0, -5.0), (-5.0, -4.5), (-5.0, -4.0), (-5.0, -3.5), (-5.0, -3.0)]"
      ]
     },
     "execution_count": 36,
     "metadata": {},
     "output_type": "execute_result"
    }
   ],
   "source": [
    "g[:5]\n",
    "#range upto 5 but not including 5\n",
    "#first 5 elements in my grid list of model candidates"
   ]
  },
  {
   "cell_type": "code",
   "execution_count": 37,
   "id": "00a43287-a3da-468f-8534-30cb67f0ab28",
   "metadata": {},
   "outputs": [
    {
     "data": {
      "image/png": "[encoded data removed]",
      "text/plain": [
       "<Figure size 640x480 with 1 Axes>"
      ]
     },
     "metadata": {},
     "output_type": "display_data"
    }
   ],
   "source": [
    "plt.plot(([e==minerror for e in allerrors]))\n",
    "plt.grid(1)"
   ]
  },
  {
   "cell_type": "code",
   "execution_count": 38,
   "id": "e4d28211-a754-4f8e-82f8-db2fd2dcac1f",
   "metadata": {
    "collapsed": true,
    "jupyter": {
     "outputs_hidden": true
    }
   },
   "outputs": [
    {
     "data": {
      "text/plain": [
       "[(-5.0, -5.0),\n",
       " (-5.0, -4.5),\n",
       " (-5.0, -4.0),\n",
       " (-5.0, -3.5),\n",
       " (-5.0, -3.0),\n",
       " (-5.0, -2.5),\n",
       " (-5.0, -2.0),\n",
       " (-5.0, -1.5),\n",
       " (-5.0, -1.0),\n",
       " (-5.0, -0.5),\n",
       " (-5.0, 0.0),\n",
       " (-5.0, 0.5),\n",
       " (-5.0, 1.0),\n",
       " (-5.0, 1.5),\n",
       " (-5.0, 2.0),\n",
       " (-5.0, 2.5),\n",
       " (-5.0, 3.0),\n",
       " (-5.0, 3.5),\n",
       " (-5.0, 4.0),\n",
       " (-5.0, 4.5),\n",
       " (-4.5, -5.0),\n",
       " (-4.5, -4.5),\n",
       " (-4.5, -4.0),\n",
       " (-4.5, -3.5),\n",
       " (-4.5, -3.0),\n",
       " (-4.5, -2.5),\n",
       " (-4.5, -2.0),\n",
       " (-4.5, -1.5),\n",
       " (-4.5, -1.0),\n",
       " (-4.5, -0.5),\n",
       " (-4.5, 0.0),\n",
       " (-4.5, 0.5),\n",
       " (-4.5, 1.0),\n",
       " (-4.5, 1.5),\n",
       " (-4.5, 2.0),\n",
       " (-4.5, 2.5),\n",
       " (-4.5, 3.0),\n",
       " (-4.5, 3.5),\n",
       " (-4.5, 4.0),\n",
       " (-4.5, 4.5),\n",
       " (-4.0, -5.0),\n",
       " (-4.0, -4.5),\n",
       " (-4.0, -4.0),\n",
       " (-4.0, -3.5),\n",
       " (-4.0, -3.0),\n",
       " (-4.0, -2.5),\n",
       " (-4.0, -2.0),\n",
       " (-4.0, -1.5),\n",
       " (-4.0, -1.0),\n",
       " (-4.0, -0.5),\n",
       " (-4.0, 0.0),\n",
       " (-4.0, 0.5),\n",
       " (-4.0, 1.0),\n",
       " (-4.0, 1.5),\n",
       " (-4.0, 2.0),\n",
       " (-4.0, 2.5),\n",
       " (-4.0, 3.0),\n",
       " (-4.0, 3.5),\n",
       " (-4.0, 4.0),\n",
       " (-4.0, 4.5),\n",
       " (-3.5, -5.0),\n",
       " (-3.5, -4.5),\n",
       " (-3.5, -4.0),\n",
       " (-3.5, -3.5),\n",
       " (-3.5, -3.0),\n",
       " (-3.5, -2.5),\n",
       " (-3.5, -2.0),\n",
       " (-3.5, -1.5),\n",
       " (-3.5, -1.0),\n",
       " (-3.5, -0.5),\n",
       " (-3.5, 0.0),\n",
       " (-3.5, 0.5),\n",
       " (-3.5, 1.0),\n",
       " (-3.5, 1.5),\n",
       " (-3.5, 2.0),\n",
       " (-3.5, 2.5),\n",
       " (-3.5, 3.0),\n",
       " (-3.5, 3.5),\n",
       " (-3.5, 4.0),\n",
       " (-3.5, 4.5),\n",
       " (-3.0, -5.0),\n",
       " (-3.0, -4.5),\n",
       " (-3.0, -4.0),\n",
       " (-3.0, -3.5),\n",
       " (-3.0, -3.0),\n",
       " (-3.0, -2.5),\n",
       " (-3.0, -2.0),\n",
       " (-3.0, -1.5),\n",
       " (-3.0, -1.0),\n",
       " (-3.0, -0.5),\n",
       " (-3.0, 0.0),\n",
       " (-3.0, 0.5),\n",
       " (-3.0, 1.0),\n",
       " (-3.0, 1.5),\n",
       " (-3.0, 2.0),\n",
       " (-3.0, 2.5),\n",
       " (-3.0, 3.0),\n",
       " (-3.0, 3.5),\n",
       " (-3.0, 4.0),\n",
       " (-3.0, 4.5),\n",
       " (-2.5, -5.0),\n",
       " (-2.5, -4.5),\n",
       " (-2.5, -4.0),\n",
       " (-2.5, -3.5),\n",
       " (-2.5, -3.0),\n",
       " (-2.5, -2.5),\n",
       " (-2.5, -2.0),\n",
       " (-2.5, -1.5),\n",
       " (-2.5, -1.0),\n",
       " (-2.5, -0.5),\n",
       " (-2.5, 0.0),\n",
       " (-2.5, 0.5),\n",
       " (-2.5, 1.0),\n",
       " (-2.5, 1.5),\n",
       " (-2.5, 2.0),\n",
       " (-2.5, 2.5),\n",
       " (-2.5, 3.0),\n",
       " (-2.5, 3.5),\n",
       " (-2.5, 4.0),\n",
       " (-2.5, 4.5),\n",
       " (-2.0, -5.0),\n",
       " (-2.0, -4.5),\n",
       " (-2.0, -4.0),\n",
       " (-2.0, -3.5),\n",
       " (-2.0, -3.0),\n",
       " (-2.0, -2.5),\n",
       " (-2.0, -2.0),\n",
       " (-2.0, -1.5),\n",
       " (-2.0, -1.0),\n",
       " (-2.0, -0.5),\n",
       " (-2.0, 0.0),\n",
       " (-2.0, 0.5),\n",
       " (-2.0, 1.0),\n",
       " (-2.0, 1.5),\n",
       " (-2.0, 2.0),\n",
       " (-2.0, 2.5),\n",
       " (-2.0, 3.0),\n",
       " (-2.0, 3.5),\n",
       " (-2.0, 4.0),\n",
       " (-2.0, 4.5),\n",
       " (-1.5, -5.0),\n",
       " (-1.5, -4.5),\n",
       " (-1.5, -4.0),\n",
       " (-1.5, -3.5),\n",
       " (-1.5, -3.0),\n",
       " (-1.5, -2.5),\n",
       " (-1.5, -2.0),\n",
       " (-1.5, -1.5),\n",
       " (-1.5, -1.0),\n",
       " (-1.5, -0.5),\n",
       " (-1.5, 0.0),\n",
       " (-1.5, 0.5),\n",
       " (-1.5, 1.0),\n",
       " (-1.5, 1.5),\n",
       " (-1.5, 2.0),\n",
       " (-1.5, 2.5),\n",
       " (-1.5, 3.0),\n",
       " (-1.5, 3.5),\n",
       " (-1.5, 4.0),\n",
       " (-1.5, 4.5),\n",
       " (-1.0, -5.0),\n",
       " (-1.0, -4.5),\n",
       " (-1.0, -4.0),\n",
       " (-1.0, -3.5),\n",
       " (-1.0, -3.0),\n",
       " (-1.0, -2.5),\n",
       " (-1.0, -2.0),\n",
       " (-1.0, -1.5),\n",
       " (-1.0, -1.0),\n",
       " (-1.0, -0.5),\n",
       " (-1.0, 0.0),\n",
       " (-1.0, 0.5),\n",
       " (-1.0, 1.0),\n",
       " (-1.0, 1.5),\n",
       " (-1.0, 2.0),\n",
       " (-1.0, 2.5),\n",
       " (-1.0, 3.0),\n",
       " (-1.0, 3.5),\n",
       " (-1.0, 4.0),\n",
       " (-1.0, 4.5),\n",
       " (-0.5, -5.0),\n",
       " (-0.5, -4.5),\n",
       " (-0.5, -4.0),\n",
       " (-0.5, -3.5),\n",
       " (-0.5, -3.0),\n",
       " (-0.5, -2.5),\n",
       " (-0.5, -2.0),\n",
       " (-0.5, -1.5),\n",
       " (-0.5, -1.0),\n",
       " (-0.5, -0.5),\n",
       " (-0.5, 0.0),\n",
       " (-0.5, 0.5),\n",
       " (-0.5, 1.0),\n",
       " (-0.5, 1.5),\n",
       " (-0.5, 2.0),\n",
       " (-0.5, 2.5),\n",
       " (-0.5, 3.0),\n",
       " (-0.5, 3.5),\n",
       " (-0.5, 4.0),\n",
       " (-0.5, 4.5),\n",
       " (0.0, -5.0),\n",
       " (0.0, -4.5),\n",
       " (0.0, -4.0),\n",
       " (0.0, -3.5),\n",
       " (0.0, -3.0),\n",
       " (0.0, -2.5),\n",
       " (0.0, -2.0),\n",
       " (0.0, -1.5),\n",
       " (0.0, -1.0),\n",
       " (0.0, -0.5),\n",
       " (0.0, 0.0),\n",
       " (0.0, 0.5),\n",
       " (0.0, 1.0),\n",
       " (0.0, 1.5),\n",
       " (0.0, 2.0),\n",
       " (0.0, 2.5),\n",
       " (0.0, 3.0),\n",
       " (0.0, 3.5),\n",
       " (0.0, 4.0),\n",
       " (0.0, 4.5),\n",
       " (0.5, -5.0),\n",
       " (0.5, -4.5),\n",
       " (0.5, -4.0),\n",
       " (0.5, -3.5),\n",
       " (0.5, -3.0),\n",
       " (0.5, -2.5),\n",
       " (0.5, -2.0),\n",
       " (0.5, -1.5),\n",
       " (0.5, -1.0),\n",
       " (0.5, -0.5),\n",
       " (0.5, 0.0),\n",
       " (0.5, 0.5),\n",
       " (0.5, 1.0),\n",
       " (0.5, 1.5),\n",
       " (0.5, 2.0),\n",
       " (0.5, 2.5),\n",
       " (0.5, 3.0),\n",
       " (0.5, 3.5),\n",
       " (0.5, 4.0),\n",
       " (0.5, 4.5),\n",
       " (1.0, -5.0),\n",
       " (1.0, -4.5),\n",
       " (1.0, -4.0),\n",
       " (1.0, -3.5),\n",
       " (1.0, -3.0),\n",
       " (1.0, -2.5),\n",
       " (1.0, -2.0),\n",
       " (1.0, -1.5),\n",
       " (1.0, -1.0),\n",
       " (1.0, -0.5),\n",
       " (1.0, 0.0),\n",
       " (1.0, 0.5),\n",
       " (1.0, 1.0),\n",
       " (1.0, 1.5),\n",
       " (1.0, 2.0),\n",
       " (1.0, 2.5),\n",
       " (1.0, 3.0),\n",
       " (1.0, 3.5),\n",
       " (1.0, 4.0),\n",
       " (1.0, 4.5),\n",
       " (1.5, -5.0),\n",
       " (1.5, -4.5),\n",
       " (1.5, -4.0),\n",
       " (1.5, -3.5),\n",
       " (1.5, -3.0),\n",
       " (1.5, -2.5),\n",
       " (1.5, -2.0),\n",
       " (1.5, -1.5),\n",
       " (1.5, -1.0),\n",
       " (1.5, -0.5),\n",
       " (1.5, 0.0),\n",
       " (1.5, 0.5),\n",
       " (1.5, 1.0),\n",
       " (1.5, 1.5),\n",
       " (1.5, 2.0),\n",
       " (1.5, 2.5),\n",
       " (1.5, 3.0),\n",
       " (1.5, 3.5),\n",
       " (1.5, 4.0),\n",
       " (1.5, 4.5),\n",
       " (2.0, -5.0),\n",
       " (2.0, -4.5),\n",
       " (2.0, -4.0),\n",
       " (2.0, -3.5),\n",
       " (2.0, -3.0),\n",
       " (2.0, -2.5),\n",
       " (2.0, -2.0),\n",
       " (2.0, -1.5),\n",
       " (2.0, -1.0),\n",
       " (2.0, -0.5),\n",
       " (2.0, 0.0),\n",
       " (2.0, 0.5),\n",
       " (2.0, 1.0),\n",
       " (2.0, 1.5),\n",
       " (2.0, 2.0),\n",
       " (2.0, 2.5),\n",
       " (2.0, 3.0),\n",
       " (2.0, 3.5),\n",
       " (2.0, 4.0),\n",
       " (2.0, 4.5),\n",
       " (2.5, -5.0),\n",
       " (2.5, -4.5),\n",
       " (2.5, -4.0),\n",
       " (2.5, -3.5),\n",
       " (2.5, -3.0),\n",
       " (2.5, -2.5),\n",
       " (2.5, -2.0),\n",
       " (2.5, -1.5),\n",
       " (2.5, -1.0),\n",
       " (2.5, -0.5),\n",
       " (2.5, 0.0),\n",
       " (2.5, 0.5),\n",
       " (2.5, 1.0),\n",
       " (2.5, 1.5),\n",
       " (2.5, 2.0),\n",
       " (2.5, 2.5),\n",
       " (2.5, 3.0),\n",
       " (2.5, 3.5),\n",
       " (2.5, 4.0),\n",
       " (2.5, 4.5),\n",
       " (3.0, -5.0),\n",
       " (3.0, -4.5),\n",
       " (3.0, -4.0),\n",
       " (3.0, -3.5),\n",
       " (3.0, -3.0),\n",
       " (3.0, -2.5),\n",
       " (3.0, -2.0),\n",
       " (3.0, -1.5),\n",
       " (3.0, -1.0),\n",
       " (3.0, -0.5),\n",
       " (3.0, 0.0),\n",
       " (3.0, 0.5),\n",
       " (3.0, 1.0),\n",
       " (3.0, 1.5),\n",
       " (3.0, 2.0),\n",
       " (3.0, 2.5),\n",
       " (3.0, 3.0),\n",
       " (3.0, 3.5),\n",
       " (3.0, 4.0),\n",
       " (3.0, 4.5),\n",
       " (3.5, -5.0),\n",
       " (3.5, -4.5),\n",
       " (3.5, -4.0),\n",
       " (3.5, -3.5),\n",
       " (3.5, -3.0),\n",
       " (3.5, -2.5),\n",
       " (3.5, -2.0),\n",
       " (3.5, -1.5),\n",
       " (3.5, -1.0),\n",
       " (3.5, -0.5),\n",
       " (3.5, 0.0),\n",
       " (3.5, 0.5),\n",
       " (3.5, 1.0),\n",
       " (3.5, 1.5),\n",
       " (3.5, 2.0),\n",
       " (3.5, 2.5),\n",
       " (3.5, 3.0),\n",
       " (3.5, 3.5),\n",
       " (3.5, 4.0),\n",
       " (3.5, 4.5),\n",
       " (4.0, -5.0),\n",
       " (4.0, -4.5),\n",
       " (4.0, -4.0),\n",
       " (4.0, -3.5),\n",
       " (4.0, -3.0),\n",
       " (4.0, -2.5),\n",
       " (4.0, -2.0),\n",
       " (4.0, -1.5),\n",
       " (4.0, -1.0),\n",
       " (4.0, -0.5),\n",
       " (4.0, 0.0),\n",
       " (4.0, 0.5),\n",
       " (4.0, 1.0),\n",
       " (4.0, 1.5),\n",
       " (4.0, 2.0),\n",
       " (4.0, 2.5),\n",
       " (4.0, 3.0),\n",
       " (4.0, 3.5),\n",
       " (4.0, 4.0),\n",
       " (4.0, 4.5),\n",
       " (4.5, -5.0),\n",
       " (4.5, -4.5),\n",
       " (4.5, -4.0),\n",
       " (4.5, -3.5),\n",
       " (4.5, -3.0),\n",
       " (4.5, -2.5),\n",
       " (4.5, -2.0),\n",
       " (4.5, -1.5),\n",
       " (4.5, -1.0),\n",
       " (4.5, -0.5),\n",
       " (4.5, 0.0),\n",
       " (4.5, 0.5),\n",
       " (4.5, 1.0),\n",
       " (4.5, 1.5),\n",
       " (4.5, 2.0),\n",
       " (4.5, 2.5),\n",
       " (4.5, 3.0),\n",
       " (4.5, 3.5),\n",
       " (4.5, 4.0),\n",
       " (4.5, 4.5)]"
      ]
     },
     "execution_count": 38,
     "metadata": {},
     "output_type": "execute_result"
    }
   ],
   "source": [
    "g"
   ]
  },
  {
   "cell_type": "code",
   "execution_count": 39,
   "id": "87f0b585-e9f1-470c-9c09-89fd64e81bf6",
   "metadata": {},
   "outputs": [
    {
     "data": {
      "text/plain": [
       "[(2.5, 0.0)]"
      ]
     },
     "execution_count": 39,
     "metadata": {},
     "output_type": "execute_result"
    }
   ],
   "source": [
    "bestmodel=[m for m in g if sse(y,predict(m,x))==minerror]\n",
    "bestmodel"
   ]
  },
  {
   "cell_type": "code",
   "execution_count": null,
   "id": "3e0cd0b1-d2b0-4b36-ac26-c6db468bcc3c",
   "metadata": {},
   "outputs": [],
   "source": [
    "bestmodel=[m for m in g if sse(y,predict(m,x))==minerror][0]\n",
    "bestmodel"
   ]
  },
  {
   "cell_type": "code",
   "execution_count": null,
   "id": "84355eb3-c9cb-4cc5-b1c4-d8bad84871bb",
   "metadata": {},
   "outputs": [],
   "source": [
    "plt.plot(x,y,'+',ms=50)\n",
    "plt.plot(x,predict(bestmodel,x),\"o\")\n",
    "plt.grid(1)"
   ]
  },
  {
   "cell_type": "code",
   "execution_count": 40,
   "id": "d226217f-6b0c-422a-abf4-682199b68445",
   "metadata": {},
   "outputs": [
    {
     "ename": "ValueError",
     "evalue": "not enough values to unpack (expected 2, got 1)",
     "output_type": "error",
     "traceback": [
      "\u001b[0;31m---------------------------------------------------------------------------\u001b[0m",
      "\u001b[0;31mValueError\u001b[0m                                Traceback (most recent call last)",
      "Cell \u001b[0;32mIn[40], line 2\u001b[0m\n\u001b[1;32m      1\u001b[0m plt\u001b[38;5;241m.\u001b[39mplot(x,y,\u001b[38;5;124m'\u001b[39m\u001b[38;5;124m+\u001b[39m\u001b[38;5;124m'\u001b[39m,ms\u001b[38;5;241m=\u001b[39m\u001b[38;5;241m50\u001b[39m)\n\u001b[0;32m----> 2\u001b[0m plt\u001b[38;5;241m.\u001b[39mplot(\u001b[38;5;28mrange\u001b[39m(\u001b[38;5;241m11\u001b[39m),\u001b[43mpredict\u001b[49m\u001b[43m(\u001b[49m\u001b[43mbestmodel\u001b[49m\u001b[43m,\u001b[49m\u001b[38;5;28;43mrange\u001b[39;49m\u001b[43m(\u001b[49m\u001b[38;5;241;43m11\u001b[39;49m\u001b[43m)\u001b[49m\u001b[43m)\u001b[49m,\u001b[38;5;124m\"\u001b[39m\u001b[38;5;124mo\u001b[39m\u001b[38;5;124m\"\u001b[39m)\n\u001b[1;32m      3\u001b[0m plt\u001b[38;5;241m.\u001b[39mgrid(\u001b[38;5;241m1\u001b[39m)\n",
      "Cell \u001b[0;32mIn[25], line 5\u001b[0m, in \u001b[0;36mpredict\u001b[0;34m(m, x)\u001b[0m\n\u001b[1;32m      4\u001b[0m \u001b[38;5;28;01mdef\u001b[39;00m \u001b[38;5;21mpredict\u001b[39m(m,x):\n\u001b[0;32m----> 5\u001b[0m     a,b\u001b[38;5;241m=\u001b[39mm\n\u001b[1;32m      6\u001b[0m     \u001b[38;5;28;01mreturn\u001b[39;00m [a\u001b[38;5;241m*\u001b[39mx\u001b[38;5;241m+\u001b[39mb \u001b[38;5;28;01mfor\u001b[39;00m x \u001b[38;5;129;01min\u001b[39;00m x]\n",
      "\u001b[0;31mValueError\u001b[0m: not enough values to unpack (expected 2, got 1)"
     ]
    },
    {
     "data": {
      "image/png": "[encoded data removed]",
      "text/plain": [
       "<Figure size 640x480 with 1 Axes>"
      ]
     },
     "metadata": {},
     "output_type": "display_data"
    }
   ],
   "source": [
    "plt.plot(x,y,'+',ms=50)\n",
    "plt.plot(range(11),predict(bestmodel,range(11)),\"o\")\n",
    "plt.grid(1)"
   ]
  },
  {
   "cell_type": "code",
   "execution_count": null,
   "id": "d235dc69-739c-4623-ac16-337cb75f6feb",
   "metadata": {},
   "outputs": [],
   "source": []
  }
 ],
 "metadata": {
  "kernelspec": {
   "display_name": "Python 3 (ipykernel)",
   "language": "python",
   "name": "python3"
  },
  "language_info": {
   "codemirror_mode": {
    "name": "ipython",
    "version": 3
   },
   "file_extension": ".py",
   "mimetype": "text/x-python",
   "name": "python",
   "nbconvert_exporter": "python",
   "pygments_lexer": "ipython3",
   "version": "3.12.0"
  }
 },
 "nbformat": 4,
 "nbformat_minor": 5
}
