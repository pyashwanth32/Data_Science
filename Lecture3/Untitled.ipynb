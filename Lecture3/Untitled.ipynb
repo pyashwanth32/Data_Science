{
 "cells": [
  {
   "cell_type": "code",
   "execution_count": null,
   "id": "3a57c1d2-a122-4e99-9850-da6038653f25",
   "metadata": {},
   "outputs": [],
   "source": [
    "er=df.iloc[0, :]\n",
    "er.shape"
   ]
  },
  {
   "cell_type": "code",
   "execution_count": null,
   "id": "034053ba-5314-4532-b5b8-c43a93db22af",
   "metadata": {},
   "outputs": [],
   "source": [
    "df.iloc[:, 100]"
   ]
  },
  {
   "cell_type": "code",
   "execution_count": null,
   "id": "fdcd5622-ff89-4ffa-81d4-7d98c03463c4",
   "metadata": {},
   "outputs": [],
   "source": [
    "corr=[np.corrcoef(x[:,i],y)[0,1] for i in range(10)]"
   ]
  }
 ],
 "metadata": {
  "kernelspec": {
   "display_name": "Python 3 (ipykernel)",
   "language": "python",
   "name": "python3"
  },
  "language_info": {
   "codemirror_mode": {
    "name": "ipython",
    "version": 3
   },
   "file_extension": ".py",
   "mimetype": "text/x-python",
   "name": "python",
   "nbconvert_exporter": "python",
   "pygments_lexer": "ipython3",
   "version": "3.12.0"
  }
 },
 "nbformat": 4,
 "nbformat_minor": 5
}
