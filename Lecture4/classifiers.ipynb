{
 "cells": [
  {
   "cell_type": "code",
   "execution_count": 14,
   "id": "446577dd-311c-4d3a-95ff-539f2e8500e1",
   "metadata": {},
   "outputs": [],
   "source": [
    "from sklearn.datasets import load_iris\n",
    "import matplotlib.pyplot as plt\n",
    "import numpy as np\n",
    "from sklearn.model_selection import train_test_split\n",
    "from sklearn.svm import SVC\n",
    "data=load_iris()"
   ]
  },
  {
   "cell_type": "code",
   "execution_count": 15,
   "id": "a4c85c78-3586-4618-8008-99e18df3af24",
   "metadata": {},
   "outputs": [
    {
     "data": {
      "text/plain": [
       "array(['setosa', 'versicolor', 'virginica'], dtype='<U10')"
      ]
     },
     "execution_count": 15,
     "metadata": {},
     "output_type": "execute_result"
    }
   ],
   "source": [
    "data.target_names"
   ]
  },
  {
   "cell_type": "code",
   "execution_count": 16,
   "id": "f455b5ad-2cf7-4d41-b1af-45d4aa7f8030",
   "metadata": {},
   "outputs": [
    {
     "data": {
      "text/plain": [
       "['sepal length (cm)',\n",
       " 'sepal width (cm)',\n",
       " 'petal length (cm)',\n",
       " 'petal width (cm)']"
      ]
     },
     "execution_count": 16,
     "metadata": {},
     "output_type": "execute_result"
    }
   ],
   "source": [
    "data.feature_names"
   ]
  },
  {
   "cell_type": "code",
   "execution_count": 17,
   "id": "d2581551-176e-48ac-98c4-e7be73909c83",
   "metadata": {},
   "outputs": [
    {
     "data": {
      "text/plain": [
       "array([0, 0, 0, 0, 0, 0, 0, 0, 0, 0, 0, 0, 0, 0, 0, 0, 0, 0, 0, 0, 0, 0,\n",
       "       0, 0, 0, 0, 0, 0, 0, 0, 0, 0, 0, 0, 0, 0, 0, 0, 0, 0, 0, 0, 0, 0,\n",
       "       0, 0, 0, 0, 0, 0, 1, 1, 1, 1, 1, 1, 1, 1, 1, 1, 1, 1, 1, 1, 1, 1,\n",
       "       1, 1, 1, 1, 1, 1, 1, 1, 1, 1, 1, 1, 1, 1, 1, 1, 1, 1, 1, 1, 1, 1,\n",
       "       1, 1, 1, 1, 1, 1, 1, 1, 1, 1, 1, 1, 2, 2, 2, 2, 2, 2, 2, 2, 2, 2,\n",
       "       2, 2, 2, 2, 2, 2, 2, 2, 2, 2, 2, 2, 2, 2, 2, 2, 2, 2, 2, 2, 2, 2,\n",
       "       2, 2, 2, 2, 2, 2, 2, 2, 2, 2, 2, 2, 2, 2, 2, 2, 2, 2])"
      ]
     },
     "execution_count": 17,
     "metadata": {},
     "output_type": "execute_result"
    }
   ],
   "source": [
    "data.target"
   ]
  },
  {
   "cell_type": "code",
   "execution_count": 18,
   "id": "02ba944d-c614-4c62-b850-01ac4a7708fc",
   "metadata": {},
   "outputs": [],
   "source": [
    "#data.data\n",
    "# 5.1 to 0.2 is first flower\n",
    "# next 4 is 2nd flower and so on\n",
    "# fischer tried to classify flowers based on sepal length and sepal width. \n",
    "# Check this on feature names\n",
    "# this is 4 dimensional data"
   ]
  },
  {
   "cell_type": "code",
   "execution_count": 19,
   "id": "e2571fdc-c74a-4c6c-a95c-513a5e38e92c",
   "metadata": {},
   "outputs": [],
   "source": [
    "#plt.scatter?"
   ]
  },
  {
   "cell_type": "code",
   "execution_count": 20,
   "id": "c28186c5-5acf-46af-860c-af71958d257f",
   "metadata": {
    "scrolled": true
   },
   "outputs": [
    {
     "data": {
      "text/plain": [
       "array([[5.1, 3.5, 1.4, 0.2],\n",
       "       [4.9, 3. , 1.4, 0.2],\n",
       "       [4.7, 3.2, 1.3, 0.2],\n",
       "       [4.6, 3.1, 1.5, 0.2],\n",
       "       [5. , 3.6, 1.4, 0.2],\n",
       "       [5.4, 3.9, 1.7, 0.4],\n",
       "       [4.6, 3.4, 1.4, 0.3],\n",
       "       [5. , 3.4, 1.5, 0.2],\n",
       "       [4.4, 2.9, 1.4, 0.2],\n",
       "       [4.9, 3.1, 1.5, 0.1],\n",
       "       [5.4, 3.7, 1.5, 0.2],\n",
       "       [4.8, 3.4, 1.6, 0.2],\n",
       "       [4.8, 3. , 1.4, 0.1],\n",
       "       [4.3, 3. , 1.1, 0.1],\n",
       "       [5.8, 4. , 1.2, 0.2],\n",
       "       [5.7, 4.4, 1.5, 0.4],\n",
       "       [5.4, 3.9, 1.3, 0.4],\n",
       "       [5.1, 3.5, 1.4, 0.3],\n",
       "       [5.7, 3.8, 1.7, 0.3],\n",
       "       [5.1, 3.8, 1.5, 0.3],\n",
       "       [5.4, 3.4, 1.7, 0.2],\n",
       "       [5.1, 3.7, 1.5, 0.4],\n",
       "       [4.6, 3.6, 1. , 0.2],\n",
       "       [5.1, 3.3, 1.7, 0.5],\n",
       "       [4.8, 3.4, 1.9, 0.2],\n",
       "       [5. , 3. , 1.6, 0.2],\n",
       "       [5. , 3.4, 1.6, 0.4],\n",
       "       [5.2, 3.5, 1.5, 0.2],\n",
       "       [5.2, 3.4, 1.4, 0.2],\n",
       "       [4.7, 3.2, 1.6, 0.2],\n",
       "       [4.8, 3.1, 1.6, 0.2],\n",
       "       [5.4, 3.4, 1.5, 0.4],\n",
       "       [5.2, 4.1, 1.5, 0.1],\n",
       "       [5.5, 4.2, 1.4, 0.2],\n",
       "       [4.9, 3.1, 1.5, 0.2],\n",
       "       [5. , 3.2, 1.2, 0.2],\n",
       "       [5.5, 3.5, 1.3, 0.2],\n",
       "       [4.9, 3.6, 1.4, 0.1],\n",
       "       [4.4, 3. , 1.3, 0.2],\n",
       "       [5.1, 3.4, 1.5, 0.2],\n",
       "       [5. , 3.5, 1.3, 0.3],\n",
       "       [4.5, 2.3, 1.3, 0.3],\n",
       "       [4.4, 3.2, 1.3, 0.2],\n",
       "       [5. , 3.5, 1.6, 0.6],\n",
       "       [5.1, 3.8, 1.9, 0.4],\n",
       "       [4.8, 3. , 1.4, 0.3],\n",
       "       [5.1, 3.8, 1.6, 0.2],\n",
       "       [4.6, 3.2, 1.4, 0.2],\n",
       "       [5.3, 3.7, 1.5, 0.2],\n",
       "       [5. , 3.3, 1.4, 0.2],\n",
       "       [7. , 3.2, 4.7, 1.4],\n",
       "       [6.4, 3.2, 4.5, 1.5],\n",
       "       [6.9, 3.1, 4.9, 1.5],\n",
       "       [5.5, 2.3, 4. , 1.3],\n",
       "       [6.5, 2.8, 4.6, 1.5],\n",
       "       [5.7, 2.8, 4.5, 1.3],\n",
       "       [6.3, 3.3, 4.7, 1.6],\n",
       "       [4.9, 2.4, 3.3, 1. ],\n",
       "       [6.6, 2.9, 4.6, 1.3],\n",
       "       [5.2, 2.7, 3.9, 1.4],\n",
       "       [5. , 2. , 3.5, 1. ],\n",
       "       [5.9, 3. , 4.2, 1.5],\n",
       "       [6. , 2.2, 4. , 1. ],\n",
       "       [6.1, 2.9, 4.7, 1.4],\n",
       "       [5.6, 2.9, 3.6, 1.3],\n",
       "       [6.7, 3.1, 4.4, 1.4],\n",
       "       [5.6, 3. , 4.5, 1.5],\n",
       "       [5.8, 2.7, 4.1, 1. ],\n",
       "       [6.2, 2.2, 4.5, 1.5],\n",
       "       [5.6, 2.5, 3.9, 1.1],\n",
       "       [5.9, 3.2, 4.8, 1.8],\n",
       "       [6.1, 2.8, 4. , 1.3],\n",
       "       [6.3, 2.5, 4.9, 1.5],\n",
       "       [6.1, 2.8, 4.7, 1.2],\n",
       "       [6.4, 2.9, 4.3, 1.3],\n",
       "       [6.6, 3. , 4.4, 1.4],\n",
       "       [6.8, 2.8, 4.8, 1.4],\n",
       "       [6.7, 3. , 5. , 1.7],\n",
       "       [6. , 2.9, 4.5, 1.5],\n",
       "       [5.7, 2.6, 3.5, 1. ],\n",
       "       [5.5, 2.4, 3.8, 1.1],\n",
       "       [5.5, 2.4, 3.7, 1. ],\n",
       "       [5.8, 2.7, 3.9, 1.2],\n",
       "       [6. , 2.7, 5.1, 1.6],\n",
       "       [5.4, 3. , 4.5, 1.5],\n",
       "       [6. , 3.4, 4.5, 1.6],\n",
       "       [6.7, 3.1, 4.7, 1.5],\n",
       "       [6.3, 2.3, 4.4, 1.3],\n",
       "       [5.6, 3. , 4.1, 1.3],\n",
       "       [5.5, 2.5, 4. , 1.3],\n",
       "       [5.5, 2.6, 4.4, 1.2],\n",
       "       [6.1, 3. , 4.6, 1.4],\n",
       "       [5.8, 2.6, 4. , 1.2],\n",
       "       [5. , 2.3, 3.3, 1. ],\n",
       "       [5.6, 2.7, 4.2, 1.3],\n",
       "       [5.7, 3. , 4.2, 1.2],\n",
       "       [5.7, 2.9, 4.2, 1.3],\n",
       "       [6.2, 2.9, 4.3, 1.3],\n",
       "       [5.1, 2.5, 3. , 1.1],\n",
       "       [5.7, 2.8, 4.1, 1.3],\n",
       "       [6.3, 3.3, 6. , 2.5],\n",
       "       [5.8, 2.7, 5.1, 1.9],\n",
       "       [7.1, 3. , 5.9, 2.1],\n",
       "       [6.3, 2.9, 5.6, 1.8],\n",
       "       [6.5, 3. , 5.8, 2.2],\n",
       "       [7.6, 3. , 6.6, 2.1],\n",
       "       [4.9, 2.5, 4.5, 1.7],\n",
       "       [7.3, 2.9, 6.3, 1.8],\n",
       "       [6.7, 2.5, 5.8, 1.8],\n",
       "       [7.2, 3.6, 6.1, 2.5],\n",
       "       [6.5, 3.2, 5.1, 2. ],\n",
       "       [6.4, 2.7, 5.3, 1.9],\n",
       "       [6.8, 3. , 5.5, 2.1],\n",
       "       [5.7, 2.5, 5. , 2. ],\n",
       "       [5.8, 2.8, 5.1, 2.4],\n",
       "       [6.4, 3.2, 5.3, 2.3],\n",
       "       [6.5, 3. , 5.5, 1.8],\n",
       "       [7.7, 3.8, 6.7, 2.2],\n",
       "       [7.7, 2.6, 6.9, 2.3],\n",
       "       [6. , 2.2, 5. , 1.5],\n",
       "       [6.9, 3.2, 5.7, 2.3],\n",
       "       [5.6, 2.8, 4.9, 2. ],\n",
       "       [7.7, 2.8, 6.7, 2. ],\n",
       "       [6.3, 2.7, 4.9, 1.8],\n",
       "       [6.7, 3.3, 5.7, 2.1],\n",
       "       [7.2, 3.2, 6. , 1.8],\n",
       "       [6.2, 2.8, 4.8, 1.8],\n",
       "       [6.1, 3. , 4.9, 1.8],\n",
       "       [6.4, 2.8, 5.6, 2.1],\n",
       "       [7.2, 3. , 5.8, 1.6],\n",
       "       [7.4, 2.8, 6.1, 1.9],\n",
       "       [7.9, 3.8, 6.4, 2. ],\n",
       "       [6.4, 2.8, 5.6, 2.2],\n",
       "       [6.3, 2.8, 5.1, 1.5],\n",
       "       [6.1, 2.6, 5.6, 1.4],\n",
       "       [7.7, 3. , 6.1, 2.3],\n",
       "       [6.3, 3.4, 5.6, 2.4],\n",
       "       [6.4, 3.1, 5.5, 1.8],\n",
       "       [6. , 3. , 4.8, 1.8],\n",
       "       [6.9, 3.1, 5.4, 2.1],\n",
       "       [6.7, 3.1, 5.6, 2.4],\n",
       "       [6.9, 3.1, 5.1, 2.3],\n",
       "       [5.8, 2.7, 5.1, 1.9],\n",
       "       [6.8, 3.2, 5.9, 2.3],\n",
       "       [6.7, 3.3, 5.7, 2.5],\n",
       "       [6.7, 3. , 5.2, 2.3],\n",
       "       [6.3, 2.5, 5. , 1.9],\n",
       "       [6.5, 3. , 5.2, 2. ],\n",
       "       [6.2, 3.4, 5.4, 2.3],\n",
       "       [5.9, 3. , 5.1, 1.8]])"
      ]
     },
     "execution_count": 20,
     "metadata": {},
     "output_type": "execute_result"
    }
   ],
   "source": [
    "data.data"
   ]
  },
  {
   "cell_type": "code",
   "execution_count": 21,
   "id": "726e4efc-fe44-440a-8571-a099358f8741",
   "metadata": {},
   "outputs": [
    {
     "data": {
      "text/plain": [
       "(150, 4)"
      ]
     },
     "execution_count": 21,
     "metadata": {},
     "output_type": "execute_result"
    }
   ],
   "source": [
    "data.data.shape"
   ]
  },
  {
   "cell_type": "code",
   "execution_count": 22,
   "id": "878e9f82-4a17-43d5-9c65-7b5565235edd",
   "metadata": {},
   "outputs": [
    {
     "data": {
      "text/plain": [
       "(150,)"
      ]
     },
     "execution_count": 22,
     "metadata": {},
     "output_type": "execute_result"
    }
   ],
   "source": [
    "data.target.shape"
   ]
  },
  {
   "cell_type": "code",
   "execution_count": 23,
   "id": "a3a3a9fa-d69d-45c5-b183-a6f530c4290c",
   "metadata": {},
   "outputs": [
    {
     "data": {
      "text/plain": [
       "<matplotlib.collections.PathCollection at 0x144a3a400e0>"
      ]
     },
     "execution_count": 23,
     "metadata": {},
     "output_type": "execute_result"
    },
    {
     "data": {
      "image/png": "[encoded data removed]",
      "text/plain": [
       "<Figure size 640x480 with 1 Axes>"
      ]
     },
     "metadata": {},
     "output_type": "display_data"
    }
   ],
   "source": [
    "plt.scatter(data.data[:,0],data.data[:,1],c=data.target)\n",
    "# colouring them by label\n",
    "# one class is seperable from the other easily"
   ]
  },
  {
   "cell_type": "code",
   "execution_count": 24,
   "id": "d8884b82-3eca-4be6-bb97-690088cefe03",
   "metadata": {},
   "outputs": [
    {
     "data": {
      "text/plain": [
       "<matplotlib.collections.PathCollection at 0x144a3a673e0>"
      ]
     },
     "execution_count": 24,
     "metadata": {},
     "output_type": "execute_result"
    },
    {
     "data": {
      "image/png": "[encoded data removed]",
      "text/plain": [
       "<Figure size 640x480 with 1 Axes>"
      ]
     },
     "metadata": {},
     "output_type": "display_data"
    }
   ],
   "source": [
    "plt.scatter(data.data[:,0],data.data[:,2],c=data.target)\n",
    "#plt.scatter(data.data[:,0],data.data[:,2])"
   ]
  },
  {
   "cell_type": "code",
   "execution_count": 25,
   "id": "f1173e3c-00e7-4222-a704-8d1feee58d9f",
   "metadata": {},
   "outputs": [
    {
     "data": {
      "text/plain": [
       "<matplotlib.legend.Legend at 0x144a3a736b0>"
      ]
     },
     "execution_count": 25,
     "metadata": {},
     "output_type": "execute_result"
    },
    {
     "data": {
      "image/png": "[encoded data removed]",
      "text/plain": [
       "<Figure size 640x480 with 1 Axes>"
      ]
     },
     "metadata": {},
     "output_type": "display_data"
    }
   ],
   "source": [
    "plt.scatter(data.data[:,0],data.data[:,3],c=data.target)\n",
    "plt.legend(data.target_names)\n",
    "#plt.legend([0,1,2])"
   ]
  },
  {
   "cell_type": "code",
   "execution_count": 26,
   "id": "2e398abe-dcca-4d83-a4a4-85355099198c",
   "metadata": {},
   "outputs": [],
   "source": [
    "# we can do 1vs1 or each vs each.\n",
    "# we have 3 classes.\n",
    "#first we will try 1vs1"
   ]
  },
  {
   "cell_type": "code",
   "execution_count": 27,
   "id": "199d0cfd-5da3-4a9e-8dec-ff41a0dc7c46",
   "metadata": {
    "scrolled": true
   },
   "outputs": [
    {
     "data": {
      "text/plain": [
       "array([0, 0, 0, 0, 0, 0, 0, 0, 0, 0, 0, 0, 0, 0, 0, 0, 0, 0, 0, 0, 0, 0,\n",
       "       0, 0, 0, 0, 0, 0, 0, 0, 0, 0, 0, 0, 0, 0, 0, 0, 0, 0, 0, 0, 0, 0,\n",
       "       0, 0, 0, 0, 0, 0, 1, 1, 1, 1, 1, 1, 1, 1, 1, 1, 1, 1, 1, 1, 1, 1,\n",
       "       1, 1, 1, 1, 1, 1, 1, 1, 1, 1, 1, 1, 1, 1, 1, 1, 1, 1, 1, 1, 1, 1,\n",
       "       1, 1, 1, 1, 1, 1, 1, 1, 1, 1, 1, 1, 2, 2, 2, 2, 2, 2, 2, 2, 2, 2,\n",
       "       2, 2, 2, 2, 2, 2, 2, 2, 2, 2, 2, 2, 2, 2, 2, 2, 2, 2, 2, 2, 2, 2,\n",
       "       2, 2, 2, 2, 2, 2, 2, 2, 2, 2, 2, 2, 2, 2, 2, 2, 2, 2])"
      ]
     },
     "execution_count": 27,
     "metadata": {},
     "output_type": "execute_result"
    }
   ],
   "source": [
    "data.target"
   ]
  },
  {
   "cell_type": "code",
   "execution_count": 28,
   "id": "dc894e2e-4ef1-4882-9dac-ec0a9ecdcbef",
   "metadata": {},
   "outputs": [],
   "source": [
    "models={}\n",
    "#creating an empty dictionary which can contain key value pairs\n",
    "#models[1]=4\n",
    "#models['today']='nice weather'\n",
    "#models[(3,2)]=7\n",
    "data_train, data_test, t_train, t_test = train_test_split(\n",
    "    data.data,data.target, test_size=0.3, random_state=42, stratify=data.target)"
   ]
  },
  {
   "cell_type": "code",
   "execution_count": 29,
   "id": "c18ed381-4ca0-4fde-b003-3c58721811c0",
   "metadata": {},
   "outputs": [
    {
     "data": {
      "text/plain": [
       "((105, 4), (105,))"
      ]
     },
     "execution_count": 29,
     "metadata": {},
     "output_type": "execute_result"
    }
   ],
   "source": [
    "data_train.shape,t_train.shape"
   ]
  },
  {
   "cell_type": "code",
   "execution_count": 30,
   "id": "818cb5af-59d1-4027-b93d-0384beedd337",
   "metadata": {},
   "outputs": [
    {
     "data": {
      "text/plain": [
       "array([1, 1, 0, 2, 1])"
      ]
     },
     "execution_count": 30,
     "metadata": {},
     "output_type": "execute_result"
    }
   ],
   "source": [
    "t_train[:5]"
   ]
  },
  {
   "cell_type": "code",
   "execution_count": 31,
   "id": "80bdc507-c753-481e-a7a9-a1cd10a75574",
   "metadata": {},
   "outputs": [
    {
     "data": {
      "text/plain": [
       "\u001b[1;31mCall signature:\u001b[0m  \u001b[0mnp\u001b[0m\u001b[1;33m.\u001b[0m\u001b[0mwhere\u001b[0m\u001b[1;33m(\u001b[0m\u001b[1;33m*\u001b[0m\u001b[0margs\u001b[0m\u001b[1;33m,\u001b[0m \u001b[1;33m**\u001b[0m\u001b[0mkwargs\u001b[0m\u001b[1;33m)\u001b[0m\u001b[1;33m\u001b[0m\u001b[1;33m\u001b[0m\u001b[0m\n",
       "\u001b[1;31mType:\u001b[0m            _ArrayFunctionDispatcher\n",
       "\u001b[1;31mString form:\u001b[0m     <built-in function where>\n",
       "\u001b[1;31mDocstring:\u001b[0m      \n",
       "where(condition, [x, y], /)\n",
       "\n",
       "Return elements chosen from `x` or `y` depending on `condition`.\n",
       "\n",
       ".. note::\n",
       "    When only `condition` is provided, this function is a shorthand for\n",
       "    ``np.asarray(condition).nonzero()``. Using `nonzero` directly should be\n",
       "    preferred, as it behaves correctly for subclasses. The rest of this\n",
       "    documentation covers only the case where all three arguments are\n",
       "    provided.\n",
       "\n",
       "Parameters\n",
       "----------\n",
       "condition : array_like, bool\n",
       "    Where True, yield `x`, otherwise yield `y`.\n",
       "x, y : array_like\n",
       "    Values from which to choose. `x`, `y` and `condition` need to be\n",
       "    broadcastable to some shape.\n",
       "\n",
       "Returns\n",
       "-------\n",
       "out : ndarray\n",
       "    An array with elements from `x` where `condition` is True, and elements\n",
       "    from `y` elsewhere.\n",
       "\n",
       "See Also\n",
       "--------\n",
       "choose\n",
       "nonzero : The function that is called when x and y are omitted\n",
       "\n",
       "Notes\n",
       "-----\n",
       "If all the arrays are 1-D, `where` is equivalent to::\n",
       "\n",
       "    [xv if c else yv\n",
       "     for c, xv, yv in zip(condition, x, y)]\n",
       "\n",
       "Examples\n",
       "--------\n",
       ">>> a = np.arange(10)\n",
       ">>> a\n",
       "array([0, 1, 2, 3, 4, 5, 6, 7, 8, 9])\n",
       ">>> np.where(a < 5, a, 10*a)\n",
       "array([ 0,  1,  2,  3,  4, 50, 60, 70, 80, 90])\n",
       "\n",
       "This can be used on multidimensional arrays too:\n",
       "\n",
       ">>> np.where([[True, False], [True, True]],\n",
       "...          [[1, 2], [3, 4]],\n",
       "...          [[9, 8], [7, 6]])\n",
       "array([[1, 8],\n",
       "       [3, 4]])\n",
       "\n",
       "The shapes of x, y, and the condition are broadcast together:\n",
       "\n",
       ">>> x, y = np.ogrid[:3, :4]\n",
       ">>> np.where(x < y, x, 10 + y)  # both x and 10+y are broadcast\n",
       "array([[10,  0,  0,  0],\n",
       "       [10, 11,  1,  1],\n",
       "       [10, 11, 12,  2]])\n",
       "\n",
       ">>> a = np.array([[0, 1, 2],\n",
       "...               [0, 2, 4],\n",
       "...               [0, 3, 6]])\n",
       ">>> np.where(a < 4, a, -1)  # -1 is broadcast\n",
       "array([[ 0,  1,  2],\n",
       "       [ 0,  2, -1],\n",
       "       [ 0,  3, -1]])\n",
       "\u001b[1;31mClass docstring:\u001b[0m\n",
       "Class to wrap functions with checks for __array_function__ overrides.\n",
       "\n",
       "All arguments are required, and can only be passed by position.\n",
       "\n",
       "Parameters\n",
       "----------\n",
       "dispatcher : function or None\n",
       "    The dispatcher function that returns a single sequence-like object\n",
       "    of all arguments relevant.  It must have the same signature (except\n",
       "    the default values) as the actual implementation.\n",
       "    If ``None``, this is a ``like=`` dispatcher and the\n",
       "    ``_ArrayFunctionDispatcher`` must be called with ``like`` as the\n",
       "    first (additional and positional) argument.\n",
       "implementation : function\n",
       "    Function that implements the operation on NumPy arrays without\n",
       "    overrides.  Arguments passed calling the ``_ArrayFunctionDispatcher``\n",
       "    will be forwarded to this (and the ``dispatcher``) as if using\n",
       "    ``*args, **kwargs``.\n",
       "\n",
       "Attributes\n",
       "----------\n",
       "_implementation : function\n",
       "    The original implementation passed in."
      ]
     },
     "metadata": {},
     "output_type": "display_data"
    }
   ],
   "source": [
    "np.where?"
   ]
  },
  {
   "cell_type": "code",
   "execution_count": 32,
   "id": "731c37c9-e7bb-4043-a39d-592977c361f5",
   "metadata": {
    "scrolled": true
   },
   "outputs": [
    {
     "data": {
      "text/plain": [
       "array([[5.1, 2.5, 3. , 1.1],\n",
       "       [6.2, 2.2, 4.5, 1.5],\n",
       "       [5.1, 3.8, 1.5, 0.3],\n",
       "       [6.8, 3.2, 5.9, 2.3],\n",
       "       [5.7, 2.8, 4.1, 1.3],\n",
       "       [6.7, 3. , 5.2, 2.3],\n",
       "       [4.9, 3.1, 1.5, 0.1],\n",
       "       [5.1, 3.8, 1.6, 0.2],\n",
       "       [4.4, 2.9, 1.4, 0.2],\n",
       "       [7.1, 3. , 5.9, 2.1],\n",
       "       [6.5, 3.2, 5.1, 2. ],\n",
       "       [4.9, 3. , 1.4, 0.2],\n",
       "       [5. , 3. , 1.6, 0.2],\n",
       "       [6. , 2.9, 4.5, 1.5],\n",
       "       [5.5, 2.4, 3.8, 1.1],\n",
       "       [7.2, 3.2, 6. , 1.8],\n",
       "       [5. , 3.4, 1.6, 0.4],\n",
       "       [4.7, 3.2, 1.6, 0.2],\n",
       "       [6.7, 3.3, 5.7, 2.5],\n",
       "       [5.9, 3.2, 4.8, 1.8],\n",
       "       [5.4, 3.4, 1.5, 0.4],\n",
       "       [6.3, 2.7, 4.9, 1.8],\n",
       "       [7.6, 3. , 6.6, 2.1],\n",
       "       [7.7, 2.8, 6.7, 2. ],\n",
       "       [5.7, 3. , 4.2, 1.2],\n",
       "       [4.6, 3.4, 1.4, 0.3],\n",
       "       [5.1, 3.7, 1.5, 0.4],\n",
       "       [5.4, 3.9, 1.3, 0.4],\n",
       "       [6.9, 3.1, 4.9, 1.5],\n",
       "       [5.5, 2.5, 4. , 1.3],\n",
       "       [5.7, 4.4, 1.5, 0.4],\n",
       "       [5.1, 3.5, 1.4, 0.3],\n",
       "       [5.8, 2.7, 4.1, 1. ],\n",
       "       [5.6, 2.9, 3.6, 1.3],\n",
       "       [4.8, 3. , 1.4, 0.1],\n",
       "       [4.8, 3. , 1.4, 0.3],\n",
       "       [6.7, 3.1, 4.4, 1.4],\n",
       "       [6.3, 2.5, 5. , 1.9],\n",
       "       [7.9, 3.8, 6.4, 2. ],\n",
       "       [5.1, 3.5, 1.4, 0.2],\n",
       "       [6.4, 2.8, 5.6, 2.1],\n",
       "       [4.6, 3.2, 1.4, 0.2],\n",
       "       [6. , 2.2, 5. , 1.5],\n",
       "       [5.5, 3.5, 1.3, 0.2],\n",
       "       [6.3, 3.3, 6. , 2.5],\n",
       "       [6. , 2.2, 4. , 1. ],\n",
       "       [4.8, 3.4, 1.9, 0.2],\n",
       "       [7.7, 3. , 6.1, 2.3],\n",
       "       [6.1, 2.8, 4. , 1.3],\n",
       "       [5.7, 2.5, 5. , 2. ],\n",
       "       [5.8, 2.7, 3.9, 1.2],\n",
       "       [4.5, 2.3, 1.3, 0.3],\n",
       "       [5.5, 2.4, 3.7, 1. ],\n",
       "       [6.4, 3.1, 5.5, 1.8],\n",
       "       [6.1, 3. , 4.6, 1.4],\n",
       "       [6.3, 2.9, 5.6, 1.8],\n",
       "       [5.1, 3.4, 1.5, 0.2],\n",
       "       [5.7, 2.9, 4.2, 1.3],\n",
       "       [5. , 3.6, 1.4, 0.2],\n",
       "       [6.7, 3.1, 4.7, 1.5],\n",
       "       [6.8, 2.8, 4.8, 1.4],\n",
       "       [5.2, 2.7, 3.9, 1.4],\n",
       "       [7.2, 3.6, 6.1, 2.5],\n",
       "       [6. , 2.7, 5.1, 1.6],\n",
       "       [6.4, 2.9, 4.3, 1.3],\n",
       "       [6.3, 3.4, 5.6, 2.4],\n",
       "       [5.6, 2.8, 4.9, 2. ],\n",
       "       [4.9, 3.1, 1.5, 0.2],\n",
       "       [6.9, 3.2, 5.7, 2.3],\n",
       "       [6.5, 2.8, 4.6, 1.5],\n",
       "       [5.6, 3. , 4.1, 1.3],\n",
       "       [7.7, 2.6, 6.9, 2.3],\n",
       "       [5.2, 4.1, 1.5, 0.1],\n",
       "       [6.4, 3.2, 5.3, 2.3],\n",
       "       [5.9, 3. , 5.1, 1.8],\n",
       "       [6.3, 2.3, 4.4, 1.3],\n",
       "       [4.8, 3.1, 1.6, 0.2],\n",
       "       [7.7, 3.8, 6.7, 2.2],\n",
       "       [6.8, 3. , 5.5, 2.1],\n",
       "       [5.1, 3.8, 1.9, 0.4],\n",
       "       [4.3, 3. , 1.1, 0.1],\n",
       "       [6.2, 2.8, 4.8, 1.8],\n",
       "       [7.2, 3. , 5.8, 1.6],\n",
       "       [5.8, 2.8, 5.1, 2.4],\n",
       "       [5.4, 3.9, 1.7, 0.4],\n",
       "       [5.8, 2.7, 5.1, 1.9],\n",
       "       [5. , 2. , 3.5, 1. ],\n",
       "       [6.7, 3.3, 5.7, 2.1],\n",
       "       [7.4, 2.8, 6.1, 1.9],\n",
       "       [5.3, 3.7, 1.5, 0.2],\n",
       "       [6.1, 2.8, 4.7, 1.2],\n",
       "       [5.5, 2.6, 4.4, 1.2],\n",
       "       [7. , 3.2, 4.7, 1.4],\n",
       "       [6.3, 2.5, 4.9, 1.5],\n",
       "       [5.9, 3. , 4.2, 1.5],\n",
       "       [5.2, 3.5, 1.5, 0.2],\n",
       "       [6.9, 3.1, 5.4, 2.1],\n",
       "       [5.8, 2.6, 4. , 1.2],\n",
       "       [5.8, 2.7, 5.1, 1.9],\n",
       "       [4.8, 3.4, 1.6, 0.2],\n",
       "       [4.9, 3.6, 1.4, 0.1],\n",
       "       [5.7, 2.6, 3.5, 1. ],\n",
       "       [5.5, 4.2, 1.4, 0.2],\n",
       "       [5.6, 2.7, 4.2, 1.3],\n",
       "       [4.6, 3.1, 1.5, 0.2]])"
      ]
     },
     "execution_count": 32,
     "metadata": {},
     "output_type": "execute_result"
    }
   ],
   "source": [
    "data_train"
   ]
  },
  {
   "cell_type": "code",
   "execution_count": 33,
   "id": "480d8b62-f8b1-4fa5-8e6c-e216d49cf23a",
   "metadata": {},
   "outputs": [
    {
     "data": {
      "text/plain": [
       "array([1, 1, 0, 2, 1, 2, 0, 0, 0, 2, 2, 0, 0, 1, 1, 2, 0, 0, 2, 1, 0, 2,\n",
       "       2, 2, 1, 0, 0, 0, 1, 1, 0, 0, 1, 1, 0, 0, 1, 2, 2, 0, 2, 0, 2, 0,\n",
       "       2, 1, 0, 2, 1, 2, 1, 0, 1, 2, 1, 2, 0, 1, 0, 1, 1, 1, 2, 1, 1, 2,\n",
       "       2, 0, 2, 1, 1, 2, 0, 2, 2, 1, 0, 2, 2, 0, 0, 2, 2, 2, 0, 2, 1, 2,\n",
       "       2, 0, 1, 1, 1, 1, 1, 0, 2, 1, 2, 0, 0, 1, 0, 1, 0])"
      ]
     },
     "execution_count": 33,
     "metadata": {},
     "output_type": "execute_result"
    }
   ],
   "source": [
    "t_train"
   ]
  },
  {
   "cell_type": "code",
   "execution_count": 34,
   "id": "83ad4833-9b05-4def-82e1-63dc8254a45d",
   "metadata": {},
   "outputs": [
    {
     "name": "stdout",
     "output_type": "stream",
     "text": [
      "[  0   1   2   4   6   7   8  11  12  13  14  16  17  19  20  24  25  26\n",
      "  27  28  29  30  31  32  33  34  35  36  39  41  43  45  46  48  50  51\n",
      "  52  54  56  57  58  59  60  61  63  64  67  69  70  72  75  76  79  80\n",
      "  84  86  89  90  91  92  93  94  95  97  99 100 101 102 103 104]\n"
     ]
    }
   ],
   "source": [
    "ix=np.where((t_train==0) + (t_train==1))[0] #we put 0 because the array is only 1 element\n",
    "print(ix)\n",
    "#doing this so that we can get the indeces of the flowers"
   ]
  },
  {
   "cell_type": "code",
   "execution_count": 35,
   "id": "846cca03-0d41-4d3b-a483-420d4492acb0",
   "metadata": {},
   "outputs": [
    {
     "name": "stdout",
     "output_type": "stream",
     "text": [
      "Build a classifier for setosa vs versicolor\n",
      "[  0   1   2   4   6   7   8  11  12  13  14  16  17  19  20  24  25  26\n",
      "  27  28  29  30  31  32  33  34  35  36  39  41  43  45  46  48  50  51\n",
      "  52  54  56  57  58  59  60  61  63  64  67  69  70  72  75  76  79  80\n",
      "  84  86  89  90  91  92  93  94  95  97  99 100 101 102 103 104]\n",
      "Build a classifier for setosa vs virginica\n",
      "[  2   3   5   6   7   8   9  10  11  12  15  16  17  18  20  21  22  23\n",
      "  25  26  27  30  31  34  35  37  38  39  40  41  42  43  44  46  47  49\n",
      "  51  53  55  56  58  62  65  66  67  68  71  72  73  74  76  77  78  79\n",
      "  80  81  82  83  84  85  87  88  89  95  96  98  99 100 102 104]\n",
      "Build a classifier for versicolor vs virginica\n",
      "[  0   1   3   4   5   9  10  13  14  15  18  19  21  22  23  24  28  29\n",
      "  32  33  36  37  38  40  42  44  45  47  48  49  50  52  53  54  55  57\n",
      "  59  60  61  62  63  64  65  66  68  69  70  71  73  74  75  77  78  81\n",
      "  82  83  85  86  87  88  90  91  92  93  94  96  97  98 101 103]\n"
     ]
    }
   ],
   "source": [
    "for i in range(3):\n",
    "    for j in range(3):\n",
    "        if i<j:\n",
    "            #print(f\"Build a classifier for {i} vs {j}\")\n",
    "            #print(\"Build a classifier for {i} vs {j}\")\n",
    "            print(f\"Build a classifier for {data.target_names[i]} vs {data.target_names[j]}\")\n",
    "            models[(i,j)]=SVC(kernel='rbf')\n",
    "            ix=np.where((t_train==i) + (t_train==j))[0] #we put 0 because the array is only 1 element\n",
    "            print(ix)\n",
    "            models[(i,j)].fit(data_train[ix,:],t_train[ix])"
   ]
  },
  {
   "cell_type": "code",
   "execution_count": 36,
   "id": "d804fa53-fc67-44f1-abaf-49bd6c4ffb94",
   "metadata": {},
   "outputs": [
    {
     "data": {
      "text/plain": [
       "{(0, 1): SVC(), (0, 2): SVC(), (1, 2): SVC()}"
      ]
     },
     "execution_count": 36,
     "metadata": {},
     "output_type": "execute_result"
    }
   ],
   "source": [
    "models"
   ]
  },
  {
   "cell_type": "code",
   "execution_count": 37,
   "id": "f54cda01-8d92-4198-ad5f-b2d35dc6dcc9",
   "metadata": {},
   "outputs": [
    {
     "data": {
      "text/plain": [
       "array([  0,   1,   3,   4,   5,   9,  10,  13,  14,  15,  18,  19,  21,\n",
       "        22,  23,  24,  28,  29,  32,  33,  36,  37,  38,  40,  42,  44,\n",
       "        45,  47,  48,  49,  50,  52,  53,  54,  55,  57,  59,  60,  61,\n",
       "        62,  63,  64,  65,  66,  68,  69,  70,  71,  73,  74,  75,  77,\n",
       "        78,  81,  82,  83,  85,  86,  87,  88,  90,  91,  92,  93,  94,\n",
       "        96,  97,  98, 101, 103], dtype=int64)"
      ]
     },
     "execution_count": 37,
     "metadata": {},
     "output_type": "execute_result"
    }
   ],
   "source": [
    "ix"
   ]
  },
  {
   "cell_type": "code",
   "execution_count": 38,
   "id": "e7fe6f9f-3c85-4f2f-984d-077f2617ce1c",
   "metadata": {},
   "outputs": [
    {
     "data": {
      "text/plain": [
       "{(0, 1): SVC(), (0, 2): SVC(), (1, 2): SVC()}"
      ]
     },
     "execution_count": 38,
     "metadata": {},
     "output_type": "execute_result"
    }
   ],
   "source": [
    "models"
   ]
  },
  {
   "cell_type": "code",
   "execution_count": 39,
   "id": "e135fa64-d847-44aa-800f-5662aa86859f",
   "metadata": {},
   "outputs": [
    {
     "data": {
      "text/plain": [
       "(45, 4)"
      ]
     },
     "execution_count": 39,
     "metadata": {},
     "output_type": "execute_result"
    }
   ],
   "source": [
    "data_test.shape\n",
    "#45 samples with 4 features"
   ]
  },
  {
   "cell_type": "code",
   "execution_count": 40,
   "id": "fbc44fff-8e29-4379-ac23-5ee7038643e8",
   "metadata": {},
   "outputs": [
    {
     "data": {
      "text/plain": [
       "array([7.3, 2.9, 6.3, 1.8])"
      ]
     },
     "execution_count": 40,
     "metadata": {},
     "output_type": "execute_result"
    }
   ],
   "source": [
    "data_test[0,:]"
   ]
  },
  {
   "cell_type": "code",
   "execution_count": 41,
   "id": "4be2b2bd-2728-4dcf-8ec2-2ce3e5883823",
   "metadata": {},
   "outputs": [
    {
     "data": {
      "text/plain": [
       "array([7.3, 2.9, 6.3, 1.8])"
      ]
     },
     "execution_count": 41,
     "metadata": {},
     "output_type": "execute_result"
    }
   ],
   "source": [
    "data_test[0,:]"
   ]
  },
  {
   "cell_type": "code",
   "execution_count": 42,
   "id": "f3bd12c0-6d43-40a2-88d8-1b5e1341998d",
   "metadata": {},
   "outputs": [
    {
     "data": {
      "text/plain": [
       "array([[7.3, 2.9, 6.3, 1.8]])"
      ]
     },
     "execution_count": 42,
     "metadata": {},
     "output_type": "execute_result"
    }
   ],
   "source": [
    "data_test[:1,:]"
   ]
  },
  {
   "cell_type": "code",
   "execution_count": 43,
   "id": "2ed6797a-a14c-4679-95b8-3b63680e0706",
   "metadata": {},
   "outputs": [
    {
     "data": {
      "text/plain": [
       "array([1])"
      ]
     },
     "execution_count": 43,
     "metadata": {},
     "output_type": "execute_result"
    }
   ],
   "source": [
    "models[(0,1)].predict(data_test[:1,:])"
   ]
  },
  {
   "cell_type": "code",
   "execution_count": 44,
   "id": "8c5acebb-e0a4-4aac-a96f-372af07d9501",
   "metadata": {},
   "outputs": [
    {
     "data": {
      "text/plain": [
       "array([2])"
      ]
     },
     "execution_count": 44,
     "metadata": {},
     "output_type": "execute_result"
    }
   ],
   "source": [
    "models[(0,2)].predict(data_test[:1,:])"
   ]
  },
  {
   "cell_type": "code",
   "execution_count": 45,
   "id": "e0f894dd-442c-497c-ad0a-84f66e893a13",
   "metadata": {},
   "outputs": [
    {
     "data": {
      "text/plain": [
       "array([2])"
      ]
     },
     "execution_count": 45,
     "metadata": {},
     "output_type": "execute_result"
    }
   ],
   "source": [
    "models[(1,2)].predict(data_test[:1,:])"
   ]
  },
  {
   "cell_type": "code",
   "execution_count": 46,
   "id": "3d306758-14ec-46fa-9fd8-a6568998f5f2",
   "metadata": {},
   "outputs": [],
   "source": [
    "#so most of it says that it is class 2"
   ]
  },
  {
   "cell_type": "code",
   "execution_count": 47,
   "id": "d2246198-d941-4650-91e1-bc94ef936da0",
   "metadata": {},
   "outputs": [
    {
     "data": {
      "text/plain": [
       "2"
      ]
     },
     "execution_count": 47,
     "metadata": {},
     "output_type": "execute_result"
    }
   ],
   "source": [
    "t_test[0]\n",
    "#what class is it in reality"
   ]
  },
  {
   "cell_type": "code",
   "execution_count": 48,
   "id": "15157723-c9ba-4626-952b-23991667e170",
   "metadata": {},
   "outputs": [
    {
     "data": {
      "text/plain": [
       "[1, 2, 2]"
      ]
     },
     "execution_count": 48,
     "metadata": {},
     "output_type": "execute_result"
    }
   ],
   "source": [
    "a=[models[m].predict(data_test[:1,:])[0] for m in models]\n",
    "a\n",
    "#did list interpolation\n",
    "#just called all the 3 models together so that we can see together instead of typing thrice to see which class it is in"
   ]
  },
  {
   "cell_type": "code",
   "execution_count": 49,
   "id": "6a28db4a-8103-441b-b162-f63fd3fdeab7",
   "metadata": {},
   "outputs": [],
   "source": [
    "#compute the majority\n",
    "#then apply this to all the samples in the test set\n",
    "#compute accuracy\n",
    "#confusion matrix will be a 3v3 here. There will be 6 boxes in the matrix which\n",
    "#have not been predicted right"
   ]
  },
  {
   "cell_type": "code",
   "execution_count": 50,
   "id": "34554ade-75c1-4bf8-a45c-67e4dc05fdef",
   "metadata": {},
   "outputs": [
    {
     "data": {
      "text/plain": [
       "array([0, 1, 2], dtype=int64)"
      ]
     },
     "execution_count": 50,
     "metadata": {},
     "output_type": "execute_result"
    }
   ],
   "source": [
    "#compute the majority/histogram\n",
    "h,bin=np.histogram(a,bins=3,range=(-0.5,2.5))\n",
    "h"
   ]
  },
  {
   "cell_type": "code",
   "execution_count": 51,
   "id": "c9fcee5a-68a1-4fa5-b6dd-49af4e8dbfba",
   "metadata": {},
   "outputs": [
    {
     "data": {
      "text/plain": [
       "2"
      ]
     },
     "execution_count": 51,
     "metadata": {},
     "output_type": "execute_result"
    }
   ],
   "source": [
    "np.argmax(h)"
   ]
  },
  {
   "cell_type": "code",
   "execution_count": 52,
   "id": "756b5325-812d-4cb0-a526-72f2e42be3e3",
   "metadata": {},
   "outputs": [
    {
     "data": {
      "text/plain": [
       "array([2, 1, 2, 1, 2, 2, 1, 1, 0, 2])"
      ]
     },
     "execution_count": 52,
     "metadata": {},
     "output_type": "execute_result"
    }
   ],
   "source": [
    "t_test[:10]"
   ]
  },
  {
   "cell_type": "code",
   "execution_count": 53,
   "id": "eeb67a5f-3391-4b0d-9cf1-72198a350da8",
   "metadata": {},
   "outputs": [],
   "source": [
    "yyyyy=[1,5,3,7]"
   ]
  },
  {
   "cell_type": "code",
   "execution_count": 54,
   "id": "a9386adf-fdf6-4254-ad4b-427e4609622b",
   "metadata": {},
   "outputs": [],
   "source": [
    "#apply to all the samples in the test set\n",
    "#always use list interpolation instead of for loop\n",
    "#[predict(x) for x in data_test]"
   ]
  },
  {
   "cell_type": "code",
   "execution_count": 55,
   "id": "5c87a46b-a401-4491-92bb-d12413923bd3",
   "metadata": {},
   "outputs": [],
   "source": [
    "#it only works now for matrices of samples containing a single sample\n",
    "#after doing x reshape, now it only works now for a single sample (a vector)\n",
    "def onevsonepredict(x,models,data_test):\n",
    "    x=x.reshape((1,4))\n",
    "    #a=[models[m].predict(data_test[:1,:])[0] for m in models]\n",
    "    a=[models[m].predict(x)[0] for m in models]\n",
    "    #print(a)\n",
    "    h,bin=np.histogram(a,bins=3,range=(-0.5,2.5))\n",
    "    #print(h)\n",
    "    return np.argmax(h)"
   ]
  },
  {
   "cell_type": "code",
   "execution_count": 56,
   "id": "32e4eedb-cfc8-4c13-9088-f95812df1fcb",
   "metadata": {},
   "outputs": [
    {
     "data": {
      "text/plain": [
       "1"
      ]
     },
     "execution_count": 56,
     "metadata": {},
     "output_type": "execute_result"
    }
   ],
   "source": [
    "#test that it works\n",
    "onevsonepredict(data_test[1,:],models,data_test)"
   ]
  },
  {
   "cell_type": "code",
   "execution_count": 57,
   "id": "542c7dbe-c9ff-4f7a-a60e-2f1451fb85d3",
   "metadata": {
    "scrolled": true
   },
   "outputs": [
    {
     "data": {
      "text/plain": [
       "array([2, 1, 2, 1, 2, 2, 1, 1, 0, 2, 0, 0, 2, 2, 0, 2, 1, 0, 0, 0, 1, 0,\n",
       "       1, 2, 2, 1, 1, 1, 1, 0, 2, 2, 1, 0, 2, 0, 0, 0, 0, 2, 1, 0, 1, 2,\n",
       "       1], dtype=int64)"
      ]
     },
     "execution_count": 57,
     "metadata": {},
     "output_type": "execute_result"
    }
   ],
   "source": [
    "predtest=np.array([onevsonepredict(x,models,data_test) for x in data_test])\n",
    "predtest"
   ]
  },
  {
   "cell_type": "code",
   "execution_count": 58,
   "id": "0f464685-77f8-4a4a-8d50-523f8c65926d",
   "metadata": {},
   "outputs": [
    {
     "data": {
      "text/plain": [
       "(4,)"
      ]
     },
     "execution_count": 58,
     "metadata": {},
     "output_type": "execute_result"
    }
   ],
   "source": [
    "data_test[0,:].shape"
   ]
  },
  {
   "cell_type": "code",
   "execution_count": 59,
   "id": "f49967fe-6c80-446b-a715-be20dea85f37",
   "metadata": {},
   "outputs": [
    {
     "data": {
      "text/plain": [
       "array([7.3, 2.9, 6.3, 1.8])"
      ]
     },
     "execution_count": 59,
     "metadata": {},
     "output_type": "execute_result"
    }
   ],
   "source": [
    "data_test[0,:].reshape((4,))"
   ]
  },
  {
   "cell_type": "code",
   "execution_count": 60,
   "id": "bfa92d81-c1e9-4593-b8d5-3b5636fa0459",
   "metadata": {},
   "outputs": [
    {
     "data": {
      "text/plain": [
       "array([[7.3],\n",
       "       [2.9],\n",
       "       [6.3],\n",
       "       [1.8]])"
      ]
     },
     "execution_count": 60,
     "metadata": {},
     "output_type": "execute_result"
    }
   ],
   "source": [
    "data_test[0,:].reshape((4,1))"
   ]
  },
  {
   "cell_type": "code",
   "execution_count": 61,
   "id": "a8cb2cf3-a6bf-473f-bfb8-993031f0b174",
   "metadata": {},
   "outputs": [
    {
     "data": {
      "text/plain": [
       "array([[7.3, 2.9, 6.3, 1.8]])"
      ]
     },
     "execution_count": 61,
     "metadata": {},
     "output_type": "execute_result"
    }
   ],
   "source": [
    "#how to reshape one sample into a matrix with a single sample(row)\n",
    "data_test[0,:].reshape((1,4))"
   ]
  },
  {
   "cell_type": "code",
   "execution_count": 64,
   "id": "886f92d8-aa06-4bd2-b4f8-087f28bfa6bc",
   "metadata": {},
   "outputs": [
    {
     "data": {
      "text/plain": [
       "array([ True,  True,  True,  True,  True,  True,  True,  True,  True,\n",
       "        True,  True,  True,  True,  True,  True,  True,  True,  True,\n",
       "        True,  True,  True,  True,  True,  True,  True,  True,  True,\n",
       "        True,  True,  True,  True,  True,  True,  True,  True,  True,\n",
       "        True,  True,  True, False,  True,  True, False,  True,  True])"
      ]
     },
     "execution_count": 64,
     "metadata": {},
     "output_type": "execute_result"
    }
   ],
   "source": [
    "#compute accuracy\n",
    "t_test==predtest\n",
    "t_test\n",
    "t_test==predtest"
   ]
  },
  {
   "cell_type": "code",
   "execution_count": 96,
   "id": "e5c94f0c-777c-47f0-9ac8-14bd67aa1ab7",
   "metadata": {},
   "outputs": [
    {
     "data": {
      "text/plain": [
       "array([ True,  True,  True,  True,  True,  True,  True,  True,  True,\n",
       "        True,  True,  True,  True,  True,  True,  True,  True,  True,\n",
       "        True,  True,  True,  True,  True,  True,  True,  True,  True,\n",
       "        True,  True,  True,  True,  True,  True,  True,  True,  True,\n",
       "        True,  True,  True, False,  True,  True, False,  True,  True])"
      ]
     },
     "execution_count": 96,
     "metadata": {},
     "output_type": "execute_result"
    }
   ],
   "source": [
    "t_test==predtest"
   ]
  },
  {
   "cell_type": "code",
   "execution_count": 98,
   "id": "799b6f80-0593-4b30-ab4f-128d7ad89a6d",
   "metadata": {},
   "outputs": [
    {
     "data": {
      "text/plain": [
       "array([1, 1, 1, 1, 1, 1, 1, 1, 1, 1, 1, 1, 1, 1, 1, 1, 1, 1, 1, 1, 1, 1,\n",
       "       1, 1, 1, 1, 1, 1, 1, 1, 1, 1, 1, 1, 1, 1, 1, 1, 1, 0, 1, 1, 0, 1,\n",
       "       1])"
      ]
     },
     "execution_count": 98,
     "metadata": {},
     "output_type": "execute_result"
    }
   ],
   "source": [
    "(t_test==predtest)+0"
   ]
  },
  {
   "cell_type": "code",
   "execution_count": 93,
   "id": "d4393d4d-c2f4-414a-809f-f9f79ab5f3e7",
   "metadata": {},
   "outputs": [
    {
     "data": {
      "text/plain": [
       "0.9555555555555556"
      ]
     },
     "execution_count": 93,
     "metadata": {},
     "output_type": "execute_result"
    }
   ],
   "source": [
    "np.sum(t_test==predtest)/len(t_test)"
   ]
  },
  {
   "cell_type": "code",
   "execution_count": 95,
   "id": "61facae7-8100-4565-ae50-177d93dce99c",
   "metadata": {},
   "outputs": [
    {
     "data": {
      "text/plain": [
       "0.9555555555555556"
      ]
     },
     "execution_count": 95,
     "metadata": {},
     "output_type": "execute_result"
    }
   ],
   "source": [
    "import sklearn\n",
    "#now done the easy/lazy way\n",
    "sklearn.metrics.accuracy_score(t_test,predtest)"
   ]
  },
  {
   "cell_type": "code",
   "execution_count": 104,
   "id": "09474727-71cc-4aea-b4a7-904331ecfd86",
   "metadata": {},
   "outputs": [
    {
     "data": {
      "text/plain": [
       "array([[15,  0,  0],\n",
       "       [ 0, 14,  1],\n",
       "       [ 0,  1, 14]], dtype=int64)"
      ]
     },
     "execution_count": 104,
     "metadata": {},
     "output_type": "execute_result"
    }
   ],
   "source": [
    "#confusion matrix\n",
    "sklearn.metrics.confusion_matrix(t_test,predtest)\n",
    "#rows are true class, columns are predicted class\n",
    "#so setosa were all predicted correctly, virgi and versi each had 1 wrongly pred\n",
    "#there are no false positives and false negatives here.\n",
    "#only wrongs"
   ]
  },
  {
   "cell_type": "code",
   "execution_count": null,
   "id": "fa1280e0-ea2f-4b6f-9fa6-5c10550ec070",
   "metadata": {},
   "outputs": [],
   "source": []
  }
 ],
 "metadata": {
  "kernelspec": {
   "display_name": "Python 3 (ipykernel)",
   "language": "python",
   "name": "python3"
  },
  "language_info": {
   "codemirror_mode": {
    "name": "ipython",
    "version": 3
   },
   "file_extension": ".py",
   "mimetype": "text/x-python",
   "name": "python",
   "nbconvert_exporter": "python",
   "pygments_lexer": "ipython3",
   "version": "3.12.0"
  }
 },
 "nbformat": 4,
 "nbformat_minor": 5
}
