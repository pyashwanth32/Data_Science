{
 "cells": [
  {
   "cell_type": "code",
   "execution_count": 3,
   "id": "e8e14541-5fb2-4053-b26c-bde227e48e1c",
   "metadata": {},
   "outputs": [],
   "source": [
    "import numpy as np\n",
    "import wave\n",
    "import matplotlib.pyplot as plt"
   ]
  },
  {
   "cell_type": "code",
   "execution_count": 6,
   "id": "3b10cb0f-8a49-4d0a-8b95-766b822bb6ee",
   "metadata": {},
   "outputs": [],
   "source": [
    "def read_wav_as_np_array(file_path):\n",
    "    with wave.open(file_path, 'r') as wav_file:\n",
    "        # Extract RAW audio from WAV file\n",
    "        raw_audio = wav_file.readframes(wav_file.getnframes())\n",
    "\n",
    "        # Convert RAW audio to NumPy array based on the number of channels\n",
    "        audio_array = np.frombuffer(raw_audio, dtype=np.int16)\n",
    "\n",
    "        # If the audio file is stereo, reshape the array accordingly\n",
    "        if wav_file.getnchannels() == 2:\n",
    "            audio_array = audio_array.reshape((-1, 2))\n",
    "\n",
    "        return audio_array.astype('float32')"
   ]
  },
  {
   "cell_type": "code",
   "execution_count": 12,
   "id": "8fdc137b-f2dd-40c1-9831-a3869d83b676",
   "metadata": {},
   "outputs": [
    {
     "data": {
      "text/plain": [
       "'D:\\\\Yashwanth\\\\HTW_Berlin\\\\Semester_1\\\\Data_Science\\\\Lecture7'"
      ]
     },
     "execution_count": 12,
     "metadata": {},
     "output_type": "execute_result"
    }
   ],
   "source": [
    "pwd"
   ]
  },
  {
   "cell_type": "code",
   "execution_count": null,
   "id": "a539ebfb-82d1-4e9c-bb78-b85b22ba449c",
   "metadata": {},
   "outputs": [],
   "source": [
    "yes1=read_wav_as_np_array('"
   ]
  }
 ],
 "metadata": {
  "kernelspec": {
   "display_name": "Python 3 (ipykernel)",
   "language": "python",
   "name": "python3"
  },
  "language_info": {
   "codemirror_mode": {
    "name": "ipython",
    "version": 3
   },
   "file_extension": ".py",
   "mimetype": "text/x-python",
   "name": "python",
   "nbconvert_exporter": "python",
   "pygments_lexer": "ipython3",
   "version": "3.12.0"
  }
 },
 "nbformat": 4,
 "nbformat_minor": 5
}
