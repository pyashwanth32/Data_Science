{
 "cells": [
  {
   "cell_type": "code",
   "execution_count": null,
   "id": "4ef076ac",
   "metadata": {},
   "outputs": [],
   "source": [
    "# !pip3 install torch torchvision torchaudio --extra-index-url https://download.pytorch.org/whl/cu116"
   ]
  },
  {
   "cell_type": "code",
   "execution_count": null,
   "id": "180ce762-82a5-4ce4-8fa2-cd777da15f06",
   "metadata": {
    "tags": []
   },
   "outputs": [],
   "source": [
    "# !pip3 install pyglet==1.5.27"
   ]
  },
  {
   "cell_type": "code",
   "execution_count": null,
   "id": "3b04775c",
   "metadata": {},
   "outputs": [],
   "source": [
    "# !pip3 install stable_baselines3"
   ]
  },
  {
   "cell_type": "code",
   "execution_count": null,
   "id": "81ea07bc-ee27-45bc-9977-00406cf95c9d",
   "metadata": {},
   "outputs": [],
   "source": []
  },
  {
   "cell_type": "code",
   "execution_count": null,
   "id": "853c2a33-8b35-48c7-a5d7-fe43050d37aa",
   "metadata": {
    "tags": []
   },
   "outputs": [],
   "source": [
    "# !pip3 install gym[atari,accept-rom-license,box2d]"
   ]
  },
  {
   "cell_type": "markdown",
   "id": "3298da97-4731-4733-9022-c6a4ac2f3ee9",
   "metadata": {},
   "source": [
    "optimised settings here\n",
    "https://github.com/DLR-RM/rl-baselines3-zoo/blob/master/hyperparams/ppo.yml"
   ]
  },
  {
   "cell_type": "code",
   "execution_count": 1,
   "id": "becf1438-39e3-4363-b964-805a5d663a72",
   "metadata": {},
   "outputs": [],
   "source": [
    "cartpole=True"
   ]
  },
  {
   "cell_type": "code",
   "execution_count": 2,
   "id": "e0c78fe9-37c0-49dd-abc3-81e4f279d5ae",
   "metadata": {},
   "outputs": [],
   "source": [
    "import gym\n",
    "from stable_baselines3 import PPO, DQN\n",
    "import numpy as np\n",
    "import matplotlib.pyplot as plt\n",
    "if cartpole:\n",
    "    envname=\"CartPole-v1\";\n",
    "#     envname=\"BipedalWalker-v3\";\n",
    "#     envname=\"LunarLander-v2\"\n",
    "    env = gym.make(envname,render_mode='human') #offline graphics\n",
    "else:\n",
    "    # envname=\"Assault-v4\"\n",
    "    # envname=\"ALE/Breakout-v5\"\n",
    "    envname=\"ALE/MsPacman-v5\"\n",
    "    # env = gym.make(envname,render_mode='human') #live show\n",
    "    env = gym.make(envname,render_mode='rgb_array') #offline graphics"
   ]
  },
  {
   "cell_type": "code",
   "execution_count": 3,
   "id": "527dcc34-7971-4cd1-b0c8-899876cd81c1",
   "metadata": {},
   "outputs": [],
   "source": [
    "import time\n",
    "if cartpole:\n",
    "    envtest = gym.make(envname)\n",
    "else:\n",
    "    envtest = gym.make(envname,render_mode='human')"
   ]
  },
  {
   "cell_type": "code",
   "execution_count": 4,
   "id": "afd57e4b-1e27-442d-b36a-221fd27b5ea0",
   "metadata": {},
   "outputs": [
    {
     "name": "stdout",
     "output_type": "stream",
     "text": [
      "Using cuda device\n",
      "Wrapping the env with a `Monitor` wrapper\n",
      "Wrapping the env in a DummyVecEnv.\n"
     ]
    }
   ],
   "source": [
    "if cartpole:\n",
    "    model = PPO(\"MlpPolicy\", env, verbose=1)\n",
    "    # model = DQN(\"MlpPolicy\", env, verbose=1)\n",
    "else:\n",
    "    model = DQN(\"CnnPolicy\", env, verbose=1,\n",
    "                buffer_size=5000,\n",
    "               learning_rate=1e-2,\n",
    "               batch_size=256,\n",
    "               gamma=1-1e-4,\n",
    "               train_freq=100,\n",
    "                learning_starts=5000,\n",
    "               exploration_fraction=0.5\n",
    "               )\n",
    "    # model = PPO(\"CnnPolicy\", env, verbose=1)\n",
    "    # model = PPO(\"CnnPolicy\", env, verbose=1,\n",
    "    #   n_steps=128,\n",
    "    #   n_epochs=4,\n",
    "    #   batch_size=32,\n",
    "    #   learning_rate=2.5e-4,\n",
    "    #   clip_range=0.1,\n",
    "    #   vf_coef=0.5,\n",
    "    #   ent_coef=0.01)\n"
   ]
  },
  {
   "cell_type": "code",
   "execution_count": 5,
   "id": "f8dbd3ef-b495-4909-8bc0-6b2796a5862d",
   "metadata": {},
   "outputs": [],
   "source": [
    "# model.set_env(env)"
   ]
  },
  {
   "cell_type": "code",
   "execution_count": 13,
   "id": "8fcfa06c-9d56-4de3-8e7f-00638bc9643d",
   "metadata": {},
   "outputs": [
    {
     "name": "stdout",
     "output_type": "stream",
     "text": [
      "---------------------------------\n",
      "| rollout/           |          |\n",
      "|    ep_len_mean     | 318      |\n",
      "|    ep_rew_mean     | -116     |\n",
      "| time/              |          |\n",
      "|    fps             | 461      |\n",
      "|    iterations      | 1        |\n",
      "|    time_elapsed    | 4        |\n",
      "|    total_timesteps | 2048     |\n",
      "---------------------------------\n",
      "------------------------------------------\n",
      "| rollout/                |              |\n",
      "|    ep_len_mean          | 182          |\n",
      "|    ep_rew_mean          | -111         |\n",
      "| time/                   |              |\n",
      "|    fps                  | 301          |\n",
      "|    iterations           | 2            |\n",
      "|    time_elapsed         | 13           |\n",
      "|    total_timesteps      | 4096         |\n",
      "| train/                  |              |\n",
      "|    approx_kl            | 0.0050673056 |\n",
      "|    clip_fraction        | 0.0366       |\n",
      "|    clip_range           | 0.2          |\n",
      "|    entropy_loss         | -5.65        |\n",
      "|    explained_variance   | 0.608        |\n",
      "|    learning_rate        | 0.0003       |\n",
      "|    loss                 | 16.9         |\n",
      "|    n_updates            | 70           |\n",
      "|    policy_gradient_loss | -0.00693     |\n",
      "|    std                  | 0.993        |\n",
      "|    value_loss           | 91.9         |\n",
      "------------------------------------------\n",
      "------------------------------------------\n",
      "| rollout/                |              |\n",
      "|    ep_len_mean          | 211          |\n",
      "|    ep_rew_mean          | -112         |\n",
      "| time/                   |              |\n",
      "|    fps                  | 288          |\n",
      "|    iterations           | 3            |\n",
      "|    time_elapsed         | 21           |\n",
      "|    total_timesteps      | 6144         |\n",
      "| train/                  |              |\n",
      "|    approx_kl            | 0.0052082795 |\n",
      "|    clip_fraction        | 0.0219       |\n",
      "|    clip_range           | 0.2          |\n",
      "|    entropy_loss         | -5.64        |\n",
      "|    explained_variance   | 0.645        |\n",
      "|    learning_rate        | 0.0003       |\n",
      "|    loss                 | 104          |\n",
      "|    n_updates            | 80           |\n",
      "|    policy_gradient_loss | -0.00506     |\n",
      "|    std                  | 0.992        |\n",
      "|    value_loss           | 134          |\n",
      "------------------------------------------\n",
      "-----------------------------------------\n",
      "| rollout/                |             |\n",
      "|    ep_len_mean          | 312         |\n",
      "|    ep_rew_mean          | -117        |\n",
      "| time/                   |             |\n",
      "|    fps                  | 266         |\n",
      "|    iterations           | 4           |\n",
      "|    time_elapsed         | 30          |\n",
      "|    total_timesteps      | 8192        |\n",
      "| train/                  |             |\n",
      "|    approx_kl            | 0.007985003 |\n",
      "|    clip_fraction        | 0.0609      |\n",
      "|    clip_range           | 0.2         |\n",
      "|    entropy_loss         | -5.64       |\n",
      "|    explained_variance   | 0.437       |\n",
      "|    learning_rate        | 0.0003      |\n",
      "|    loss                 | 5.7         |\n",
      "|    n_updates            | 90          |\n",
      "|    policy_gradient_loss | -0.00777    |\n",
      "|    std                  | 0.992       |\n",
      "|    value_loss           | 99.6        |\n",
      "-----------------------------------------\n",
      "-----------------------------------------\n",
      "| rollout/                |             |\n",
      "|    ep_len_mean          | 331         |\n",
      "|    ep_rew_mean          | -117        |\n",
      "| time/                   |             |\n",
      "|    fps                  | 256         |\n",
      "|    iterations           | 5           |\n",
      "|    time_elapsed         | 39          |\n",
      "|    total_timesteps      | 10240       |\n",
      "| train/                  |             |\n",
      "|    approx_kl            | 0.009584586 |\n",
      "|    clip_fraction        | 0.119       |\n",
      "|    clip_range           | 0.2         |\n",
      "|    entropy_loss         | -5.64       |\n",
      "|    explained_variance   | 0.626       |\n",
      "|    learning_rate        | 0.0003      |\n",
      "|    loss                 | 0.13        |\n",
      "|    n_updates            | 100         |\n",
      "|    policy_gradient_loss | -0.00796    |\n",
      "|    std                  | 0.988       |\n",
      "|    value_loss           | 13.6        |\n",
      "-----------------------------------------\n"
     ]
    },
    {
     "data": {
      "text/plain": [
       "<stable_baselines3.ppo.ppo.PPO at 0x7fc819c5a5f0>"
      ]
     },
     "execution_count": 13,
     "metadata": {},
     "output_type": "execute_result"
    }
   ],
   "source": [
    "env.reset()\n",
    "if cartpole:\n",
    "    nrsteps=10000\n",
    "else:\n",
    "    nrsteps=1000\n",
    "model.learn(total_timesteps=nrsteps)"
   ]
  },
  {
   "cell_type": "code",
   "execution_count": 7,
   "id": "24161f51-c352-4b19-ab3c-c97fae6f0b6c",
   "metadata": {},
   "outputs": [],
   "source": [
    "# model.set_env(envtest)\n",
    "# model.learn(total_timesteps=700)"
   ]
  },
  {
   "cell_type": "code",
   "execution_count": 14,
   "id": "d6e702b7-985a-4d9b-b456-9f89e23eca1c",
   "metadata": {},
   "outputs": [],
   "source": [
    "obs = envtest.reset()"
   ]
  },
  {
   "cell_type": "code",
   "execution_count": 15,
   "id": "5f16a59d",
   "metadata": {},
   "outputs": [
    {
     "ename": "KeyboardInterrupt",
     "evalue": "",
     "output_type": "error",
     "traceback": [
      "\u001b[0;31m---------------------------------------------------------------------------\u001b[0m",
      "\u001b[0;31mKeyboardInterrupt\u001b[0m                         Traceback (most recent call last)",
      "Cell \u001b[0;32mIn [15], line 9\u001b[0m\n\u001b[1;32m      7\u001b[0m rewards\u001b[38;5;241m.\u001b[39mappend(reward)\n\u001b[1;32m      8\u001b[0m \u001b[38;5;28;01mif\u001b[39;00m cartpole:\n\u001b[0;32m----> 9\u001b[0m     \u001b[43menvtest\u001b[49m\u001b[38;5;241;43m.\u001b[39;49m\u001b[43mrender\u001b[49m\u001b[43m(\u001b[49m\u001b[43m)\u001b[49m\n\u001b[1;32m     10\u001b[0m     \u001b[38;5;66;03m# print(obs)\u001b[39;00m\n\u001b[1;32m     11\u001b[0m     \u001b[38;5;66;03m# plt.imshow(envtest.render(mode='rgb_array'))\u001b[39;00m\n\u001b[1;32m     12\u001b[0m     \u001b[38;5;66;03m# display.display(plt.gcf())\u001b[39;00m\n\u001b[1;32m     13\u001b[0m     \u001b[38;5;66;03m# display.clear_output(wait=True)\u001b[39;00m\n\u001b[1;32m     14\u001b[0m     \u001b[38;5;66;03m# time.sleep(1/30.0)\u001b[39;00m\n\u001b[1;32m     15\u001b[0m \u001b[38;5;28;01mif\u001b[39;00m done:\n",
      "File \u001b[0;32m~/.local/lib/python3.10/site-packages/gym/core.py:295\u001b[0m, in \u001b[0;36mWrapper.render\u001b[0;34m(self, mode, **kwargs)\u001b[0m\n\u001b[1;32m    294\u001b[0m \u001b[38;5;28;01mdef\u001b[39;00m \u001b[38;5;21mrender\u001b[39m(\u001b[38;5;28mself\u001b[39m, mode\u001b[38;5;241m=\u001b[39m\u001b[38;5;124m\"\u001b[39m\u001b[38;5;124mhuman\u001b[39m\u001b[38;5;124m\"\u001b[39m, \u001b[38;5;241m*\u001b[39m\u001b[38;5;241m*\u001b[39mkwargs):\n\u001b[0;32m--> 295\u001b[0m     \u001b[38;5;28;01mreturn\u001b[39;00m \u001b[38;5;28;43mself\u001b[39;49m\u001b[38;5;241;43m.\u001b[39;49m\u001b[43menv\u001b[49m\u001b[38;5;241;43m.\u001b[39;49m\u001b[43mrender\u001b[49m\u001b[43m(\u001b[49m\u001b[43mmode\u001b[49m\u001b[43m,\u001b[49m\u001b[43m \u001b[49m\u001b[38;5;241;43m*\u001b[39;49m\u001b[38;5;241;43m*\u001b[39;49m\u001b[43mkwargs\u001b[49m\u001b[43m)\u001b[49m\n",
      "File \u001b[0;32m~/.local/lib/python3.10/site-packages/gym/envs/box2d/bipedal_walker.py:545\u001b[0m, in \u001b[0;36mBipedalWalker.render\u001b[0;34m(self, mode)\u001b[0m\n\u001b[1;32m    541\u001b[0m     \u001b[38;5;28mself\u001b[39m\u001b[38;5;241m.\u001b[39mviewer\u001b[38;5;241m.\u001b[39mdraw_circle(\n\u001b[1;32m    542\u001b[0m         f\u001b[38;5;241m.\u001b[39mshape\u001b[38;5;241m.\u001b[39mradius, \u001b[38;5;241m30\u001b[39m, color\u001b[38;5;241m=\u001b[39mobj\u001b[38;5;241m.\u001b[39mcolor2, filled\u001b[38;5;241m=\u001b[39m\u001b[38;5;28;01mFalse\u001b[39;00m, linewidth\u001b[38;5;241m=\u001b[39m\u001b[38;5;241m2\u001b[39m\n\u001b[1;32m    543\u001b[0m     )\u001b[38;5;241m.\u001b[39madd_attr(t)\n\u001b[1;32m    544\u001b[0m \u001b[38;5;28;01melse\u001b[39;00m:\n\u001b[0;32m--> 545\u001b[0m     path \u001b[38;5;241m=\u001b[39m [trans \u001b[38;5;241m*\u001b[39m v \u001b[38;5;28;01mfor\u001b[39;00m v \u001b[38;5;129;01min\u001b[39;00m \u001b[43mf\u001b[49m\u001b[38;5;241;43m.\u001b[39;49m\u001b[43mshape\u001b[49m\u001b[38;5;241;43m.\u001b[39;49m\u001b[43mvertices\u001b[49m]\n\u001b[1;32m    546\u001b[0m     \u001b[38;5;28mself\u001b[39m\u001b[38;5;241m.\u001b[39mviewer\u001b[38;5;241m.\u001b[39mdraw_polygon(path, color\u001b[38;5;241m=\u001b[39mobj\u001b[38;5;241m.\u001b[39mcolor1)\n\u001b[1;32m    547\u001b[0m     path\u001b[38;5;241m.\u001b[39mappend(path[\u001b[38;5;241m0\u001b[39m])\n",
      "File \u001b[0;32m~/.local/lib/python3.10/site-packages/Box2D/Box2D.py:1742\u001b[0m, in \u001b[0;36mb2EdgeShape.__get_vertices\u001b[0;34m(self)\u001b[0m\n\u001b[1;32m   1736\u001b[0m \u001b[38;5;28;01mdef\u001b[39;00m \u001b[38;5;21m__get_vertices\u001b[39m(\u001b[38;5;28mself\u001b[39m):\n\u001b[1;32m   1737\u001b[0m     \u001b[38;5;124;03m\"\"\"Returns the basic vertices as a list of tuples [ (x1,y1), (x2,y2) ]\u001b[39;00m\n\u001b[1;32m   1738\u001b[0m \u001b[38;5;124;03m    To include the supporting vertices, see 'all_vertices'\u001b[39;00m\n\u001b[1;32m   1739\u001b[0m \n\u001b[1;32m   1740\u001b[0m \u001b[38;5;124;03m    If you want to set vertex3 but not vertex0, pass in None for vertex0.\u001b[39;00m\n\u001b[1;32m   1741\u001b[0m \u001b[38;5;124;03m    \"\"\"\u001b[39;00m\n\u001b[0;32m-> 1742\u001b[0m     \u001b[38;5;28;01mreturn\u001b[39;00m [\u001b[38;5;28;43mtuple\u001b[39;49m\u001b[43m(\u001b[49m\u001b[38;5;28;43mself\u001b[39;49m\u001b[38;5;241;43m.\u001b[39;49m\u001b[43mvertex1\u001b[49m\u001b[43m)\u001b[49m, \u001b[38;5;28mtuple\u001b[39m(\u001b[38;5;28mself\u001b[39m\u001b[38;5;241m.\u001b[39mvertex2)]\n",
      "File \u001b[0;32m~/.local/lib/python3.10/site-packages/Box2D/Box2D.py:687\u001b[0m, in \u001b[0;36mb2Vec2.__len__\u001b[0;34m(self)\u001b[0m\n\u001b[1;32m    685\u001b[0m \u001b[38;5;28;01mdef\u001b[39;00m \u001b[38;5;21m__repr__\u001b[39m(\u001b[38;5;28mself\u001b[39m):\n\u001b[1;32m    686\u001b[0m     \u001b[38;5;28;01mreturn\u001b[39;00m \u001b[38;5;124m\"\u001b[39m\u001b[38;5;124mb2Vec2(\u001b[39m\u001b[38;5;132;01m%g\u001b[39;00m\u001b[38;5;124m,\u001b[39m\u001b[38;5;132;01m%g\u001b[39;00m\u001b[38;5;124m)\u001b[39m\u001b[38;5;124m\"\u001b[39m \u001b[38;5;241m%\u001b[39m (\u001b[38;5;28mself\u001b[39m\u001b[38;5;241m.\u001b[39mx, \u001b[38;5;28mself\u001b[39m\u001b[38;5;241m.\u001b[39my)\n\u001b[0;32m--> 687\u001b[0m \u001b[38;5;28;01mdef\u001b[39;00m \u001b[38;5;21m__len__\u001b[39m(\u001b[38;5;28mself\u001b[39m):\n\u001b[1;32m    688\u001b[0m     \u001b[38;5;28;01mreturn\u001b[39;00m \u001b[38;5;241m2\u001b[39m\n\u001b[1;32m    689\u001b[0m \u001b[38;5;28;01mdef\u001b[39;00m \u001b[38;5;21m__neg__\u001b[39m(\u001b[38;5;28mself\u001b[39m):\n",
      "\u001b[0;31mKeyboardInterrupt\u001b[0m: "
     ]
    }
   ],
   "source": [
    "rewards=[]\n",
    "for i in range(120000):\n",
    "    action, _states = model.predict(obs, deterministic=True)\n",
    "    if np.random.rand()<0.1:#0.3:\n",
    "        action=env.action_space.sample()\n",
    "    obs, reward, done, info = envtest.step(action)\n",
    "    rewards.append(reward)\n",
    "    if cartpole:\n",
    "        envtest.render()\n",
    "        # print(obs)\n",
    "        # plt.imshow(envtest.render(mode='rgb_array'))\n",
    "        # display.display(plt.gcf())\n",
    "        # display.clear_output(wait=True)\n",
    "        # time.sleep(1/30.0)\n",
    "    if done:\n",
    "      obs = envtest.reset()\n",
    "      rewards.append(-10)\n",
    "\n"
   ]
  },
  {
   "cell_type": "code",
   "execution_count": null,
   "id": "71e974e0-29c7-48c4-8740-840c9a9bde2f",
   "metadata": {},
   "outputs": [],
   "source": [
    "envtest.close()"
   ]
  },
  {
   "cell_type": "code",
   "execution_count": null,
   "id": "f7442730-e315-4fa9-9d88-0e1bd284c607",
   "metadata": {},
   "outputs": [],
   "source": [
    "plt.plot(rewards);plt.grid(1);\n",
    "sum(rewards)"
   ]
  },
  {
   "cell_type": "code",
   "execution_count": null,
   "id": "4fe8ffbf-af15-4ca7-9c15-f63c5cfd0309",
   "metadata": {},
   "outputs": [],
   "source": [
    "plt.imshow(obs)"
   ]
  },
  {
   "cell_type": "code",
   "execution_count": null,
   "id": "8c1360fd-2c8f-4fad-994b-be9ab564b527",
   "metadata": {},
   "outputs": [],
   "source": [
    "env.action_space"
   ]
  },
  {
   "cell_type": "code",
   "execution_count": null,
   "id": "d38e1438-d77c-4760-88fa-80357642c429",
   "metadata": {},
   "outputs": [],
   "source": [
    "model.save('saved_model')"
   ]
  },
  {
   "cell_type": "code",
   "execution_count": null,
   "id": "d83c5316-a728-4442-8ca3-70ab02a2ee35",
   "metadata": {},
   "outputs": [],
   "source": [
    "model.load('saved_model')"
   ]
  },
  {
   "cell_type": "code",
   "execution_count": null,
   "id": "d5e2d6fa-2938-4753-aa74-7254f0d6a36c",
   "metadata": {},
   "outputs": [],
   "source": []
  }
 ],
 "metadata": {
  "kernelspec": {
   "display_name": "Python 3 (ipykernel)",
   "language": "python",
   "name": "python3"
  },
  "language_info": {
   "codemirror_mode": {
    "name": "ipython",
    "version": 3
   },
   "file_extension": ".py",
   "mimetype": "text/x-python",
   "name": "python",
   "nbconvert_exporter": "python",
   "pygments_lexer": "ipython3",
   "version": "3.12.0"
  }
 },
 "nbformat": 4,
 "nbformat_minor": 5
}
